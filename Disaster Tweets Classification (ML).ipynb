{
  "nbformat": 4,
  "nbformat_minor": 0,
  "metadata": {
    "accelerator": "GPU",
    "colab": {
      "name": "BERT-Kaggle.ipynb",
      "provenance": [],
      "collapsed_sections": [],
      "authorship_tag": "ABX9TyPk7D1vGqlWyzA0iRW1gqdQ",
      "include_colab_link": true
    },
    "kernelspec": {
      "display_name": "Python 3",
      "name": "python3"
    },
    "language_info": {
      "name": "python"
    }
  },
  "cells": [
    {
      "cell_type": "markdown",
      "metadata": {
        "id": "view-in-github",
        "colab_type": "text"
      },
      "source": [
        "<a href=\"https://colab.research.google.com/github/fadi-8/Disaster-Tweets/blob/main/Disaster%20Tweets%20Classification%20(ML).ipynb\" target=\"_parent\"><img src=\"https://colab.research.google.com/assets/colab-badge.svg\" alt=\"Open In Colab\"/></a>"
      ]
    },
    {
      "cell_type": "markdown",
      "metadata": {
        "id": "K6lTOkdyICXx"
      },
      "source": [
        ""
      ]
    },
    {
      "cell_type": "markdown",
      "metadata": {
        "id": "gLpK0ZRYKst_"
      },
      "source": [
        "\n",
        "<h1><b><u>Disaster Tweets Classification</u></b></h1>\n",
        "\n",
        "Disaster Tweet Classification is a competition from kaggle. I already have a notebook that preprocessed the data. In this notebook I will use the preprocessed data to make predictions using a BERT model.\n",
        "\n",
        "BERT is a neural network classifier based on attention. It can be used for a lot of tasks, like sentence prediction, named entity recognition,...; among the tasks BERT can be used for is sentiment analysis. Sentiment analysis,normally, predicts the sentiment (positive or negative, for example) of the input text. Similarly, the disaster tweet task can be formulated where 1 means a disaster and 0 means a non-disaster tweet. Note, the BERT model is used in sentiment analysis by adding an ouput layer after BERT (or another neural network that contains an output).\n",
        "\n",
        "Tasks that have to deal with text are usually variable length. On the other hand, many machine learning models expect a fixed length input. Thus, We can use the BERT model to map the input text to a fixed length space. Afterwards, the fixed length output can be feeded to any machine learning model.\n",
        "\n",
        "The data can be found <a href=https://www.kaggle.com/c/nlp-getting-started/data>Here<a/>"
      ]
    },
    {
      "cell_type": "markdown",
      "metadata": {
        "id": "QN12SSAYe764"
      },
      "source": [
        "<h4><b>1-Imports and BERT Model</b></h4>"
      ]
    },
    {
      "cell_type": "code",
      "metadata": {
        "colab": {
          "base_uri": "https://localhost:8080/"
        },
        "id": "i6TgQmr6bvPh",
        "outputId": "a3630a71-6325-4896-d48d-2dc1080e6194"
      },
      "source": [
        "!pip install tensorflow-text"
      ],
      "execution_count": 1,
      "outputs": [
        {
          "output_type": "stream",
          "name": "stdout",
          "text": [
            "Requirement already satisfied: tensorflow-text in /usr/local/lib/python3.7/dist-packages (2.7.3)\n",
            "Requirement already satisfied: tensorflow-hub>=0.8.0 in /usr/local/lib/python3.7/dist-packages (from tensorflow-text) (0.12.0)\n",
            "Requirement already satisfied: tensorflow<2.8,>=2.7.0 in /usr/local/lib/python3.7/dist-packages (from tensorflow-text) (2.7.0)\n",
            "Requirement already satisfied: typing-extensions>=3.6.6 in /usr/local/lib/python3.7/dist-packages (from tensorflow<2.8,>=2.7.0->tensorflow-text) (3.10.0.2)\n",
            "Requirement already satisfied: astunparse>=1.6.0 in /usr/local/lib/python3.7/dist-packages (from tensorflow<2.8,>=2.7.0->tensorflow-text) (1.6.3)\n",
            "Requirement already satisfied: keras<2.8,>=2.7.0rc0 in /usr/local/lib/python3.7/dist-packages (from tensorflow<2.8,>=2.7.0->tensorflow-text) (2.7.0)\n",
            "Requirement already satisfied: numpy>=1.14.5 in /usr/local/lib/python3.7/dist-packages (from tensorflow<2.8,>=2.7.0->tensorflow-text) (1.19.5)\n",
            "Requirement already satisfied: wrapt>=1.11.0 in /usr/local/lib/python3.7/dist-packages (from tensorflow<2.8,>=2.7.0->tensorflow-text) (1.13.3)\n",
            "Requirement already satisfied: opt-einsum>=2.3.2 in /usr/local/lib/python3.7/dist-packages (from tensorflow<2.8,>=2.7.0->tensorflow-text) (3.3.0)\n",
            "Requirement already satisfied: gast<0.5.0,>=0.2.1 in /usr/local/lib/python3.7/dist-packages (from tensorflow<2.8,>=2.7.0->tensorflow-text) (0.4.0)\n",
            "Requirement already satisfied: protobuf>=3.9.2 in /usr/local/lib/python3.7/dist-packages (from tensorflow<2.8,>=2.7.0->tensorflow-text) (3.17.3)\n",
            "Requirement already satisfied: flatbuffers<3.0,>=1.12 in /usr/local/lib/python3.7/dist-packages (from tensorflow<2.8,>=2.7.0->tensorflow-text) (2.0)\n",
            "Requirement already satisfied: grpcio<2.0,>=1.24.3 in /usr/local/lib/python3.7/dist-packages (from tensorflow<2.8,>=2.7.0->tensorflow-text) (1.42.0)\n",
            "Requirement already satisfied: google-pasta>=0.1.1 in /usr/local/lib/python3.7/dist-packages (from tensorflow<2.8,>=2.7.0->tensorflow-text) (0.2.0)\n",
            "Requirement already satisfied: libclang>=9.0.1 in /usr/local/lib/python3.7/dist-packages (from tensorflow<2.8,>=2.7.0->tensorflow-text) (12.0.0)\n",
            "Requirement already satisfied: tensorboard~=2.6 in /usr/local/lib/python3.7/dist-packages (from tensorflow<2.8,>=2.7.0->tensorflow-text) (2.7.0)\n",
            "Requirement already satisfied: h5py>=2.9.0 in /usr/local/lib/python3.7/dist-packages (from tensorflow<2.8,>=2.7.0->tensorflow-text) (3.1.0)\n",
            "Requirement already satisfied: six>=1.12.0 in /usr/local/lib/python3.7/dist-packages (from tensorflow<2.8,>=2.7.0->tensorflow-text) (1.15.0)\n",
            "Requirement already satisfied: tensorflow-io-gcs-filesystem>=0.21.0 in /usr/local/lib/python3.7/dist-packages (from tensorflow<2.8,>=2.7.0->tensorflow-text) (0.22.0)\n",
            "Requirement already satisfied: wheel<1.0,>=0.32.0 in /usr/local/lib/python3.7/dist-packages (from tensorflow<2.8,>=2.7.0->tensorflow-text) (0.37.0)\n",
            "Requirement already satisfied: absl-py>=0.4.0 in /usr/local/lib/python3.7/dist-packages (from tensorflow<2.8,>=2.7.0->tensorflow-text) (0.12.0)\n",
            "Requirement already satisfied: termcolor>=1.1.0 in /usr/local/lib/python3.7/dist-packages (from tensorflow<2.8,>=2.7.0->tensorflow-text) (1.1.0)\n",
            "Requirement already satisfied: tensorflow-estimator<2.8,~=2.7.0rc0 in /usr/local/lib/python3.7/dist-packages (from tensorflow<2.8,>=2.7.0->tensorflow-text) (2.7.0)\n",
            "Requirement already satisfied: keras-preprocessing>=1.1.1 in /usr/local/lib/python3.7/dist-packages (from tensorflow<2.8,>=2.7.0->tensorflow-text) (1.1.2)\n",
            "Requirement already satisfied: cached-property in /usr/local/lib/python3.7/dist-packages (from h5py>=2.9.0->tensorflow<2.8,>=2.7.0->tensorflow-text) (1.5.2)\n",
            "Requirement already satisfied: setuptools>=41.0.0 in /usr/local/lib/python3.7/dist-packages (from tensorboard~=2.6->tensorflow<2.8,>=2.7.0->tensorflow-text) (57.4.0)\n",
            "Requirement already satisfied: requests<3,>=2.21.0 in /usr/local/lib/python3.7/dist-packages (from tensorboard~=2.6->tensorflow<2.8,>=2.7.0->tensorflow-text) (2.23.0)\n",
            "Requirement already satisfied: google-auth-oauthlib<0.5,>=0.4.1 in /usr/local/lib/python3.7/dist-packages (from tensorboard~=2.6->tensorflow<2.8,>=2.7.0->tensorflow-text) (0.4.6)\n",
            "Requirement already satisfied: markdown>=2.6.8 in /usr/local/lib/python3.7/dist-packages (from tensorboard~=2.6->tensorflow<2.8,>=2.7.0->tensorflow-text) (3.3.6)\n",
            "Requirement already satisfied: werkzeug>=0.11.15 in /usr/local/lib/python3.7/dist-packages (from tensorboard~=2.6->tensorflow<2.8,>=2.7.0->tensorflow-text) (1.0.1)\n",
            "Requirement already satisfied: tensorboard-data-server<0.7.0,>=0.6.0 in /usr/local/lib/python3.7/dist-packages (from tensorboard~=2.6->tensorflow<2.8,>=2.7.0->tensorflow-text) (0.6.1)\n",
            "Requirement already satisfied: tensorboard-plugin-wit>=1.6.0 in /usr/local/lib/python3.7/dist-packages (from tensorboard~=2.6->tensorflow<2.8,>=2.7.0->tensorflow-text) (1.8.0)\n",
            "Requirement already satisfied: google-auth<3,>=1.6.3 in /usr/local/lib/python3.7/dist-packages (from tensorboard~=2.6->tensorflow<2.8,>=2.7.0->tensorflow-text) (1.35.0)\n",
            "Requirement already satisfied: cachetools<5.0,>=2.0.0 in /usr/local/lib/python3.7/dist-packages (from google-auth<3,>=1.6.3->tensorboard~=2.6->tensorflow<2.8,>=2.7.0->tensorflow-text) (4.2.4)\n",
            "Requirement already satisfied: pyasn1-modules>=0.2.1 in /usr/local/lib/python3.7/dist-packages (from google-auth<3,>=1.6.3->tensorboard~=2.6->tensorflow<2.8,>=2.7.0->tensorflow-text) (0.2.8)\n",
            "Requirement already satisfied: rsa<5,>=3.1.4 in /usr/local/lib/python3.7/dist-packages (from google-auth<3,>=1.6.3->tensorboard~=2.6->tensorflow<2.8,>=2.7.0->tensorflow-text) (4.8)\n",
            "Requirement already satisfied: requests-oauthlib>=0.7.0 in /usr/local/lib/python3.7/dist-packages (from google-auth-oauthlib<0.5,>=0.4.1->tensorboard~=2.6->tensorflow<2.8,>=2.7.0->tensorflow-text) (1.3.0)\n",
            "Requirement already satisfied: importlib-metadata>=4.4 in /usr/local/lib/python3.7/dist-packages (from markdown>=2.6.8->tensorboard~=2.6->tensorflow<2.8,>=2.7.0->tensorflow-text) (4.8.2)\n",
            "Requirement already satisfied: zipp>=0.5 in /usr/local/lib/python3.7/dist-packages (from importlib-metadata>=4.4->markdown>=2.6.8->tensorboard~=2.6->tensorflow<2.8,>=2.7.0->tensorflow-text) (3.6.0)\n",
            "Requirement already satisfied: pyasn1<0.5.0,>=0.4.6 in /usr/local/lib/python3.7/dist-packages (from pyasn1-modules>=0.2.1->google-auth<3,>=1.6.3->tensorboard~=2.6->tensorflow<2.8,>=2.7.0->tensorflow-text) (0.4.8)\n",
            "Requirement already satisfied: urllib3!=1.25.0,!=1.25.1,<1.26,>=1.21.1 in /usr/local/lib/python3.7/dist-packages (from requests<3,>=2.21.0->tensorboard~=2.6->tensorflow<2.8,>=2.7.0->tensorflow-text) (1.24.3)\n",
            "Requirement already satisfied: idna<3,>=2.5 in /usr/local/lib/python3.7/dist-packages (from requests<3,>=2.21.0->tensorboard~=2.6->tensorflow<2.8,>=2.7.0->tensorflow-text) (2.10)\n",
            "Requirement already satisfied: certifi>=2017.4.17 in /usr/local/lib/python3.7/dist-packages (from requests<3,>=2.21.0->tensorboard~=2.6->tensorflow<2.8,>=2.7.0->tensorflow-text) (2021.10.8)\n",
            "Requirement already satisfied: chardet<4,>=3.0.2 in /usr/local/lib/python3.7/dist-packages (from requests<3,>=2.21.0->tensorboard~=2.6->tensorflow<2.8,>=2.7.0->tensorflow-text) (3.0.4)\n",
            "Requirement already satisfied: oauthlib>=3.0.0 in /usr/local/lib/python3.7/dist-packages (from requests-oauthlib>=0.7.0->google-auth-oauthlib<0.5,>=0.4.1->tensorboard~=2.6->tensorflow<2.8,>=2.7.0->tensorflow-text) (3.1.1)\n"
          ]
        }
      ]
    },
    {
      "cell_type": "code",
      "metadata": {
        "id": "6ITgOxg8IESJ"
      },
      "source": [
        "import tensorflow as tf\n",
        "from tensorflow import keras\n",
        "from tensorflow.keras.callbacks import EarlyStopping,LearningRateScheduler\n",
        "from tensorflow.keras.utils import plot_model\n",
        "import tensorflow_hub as hub\n",
        "import tensorflow_text\n",
        "import numpy as np\n",
        "import matplotlib.pyplot as plt\n",
        "import seaborn as sns\n",
        "from sklearn.metrics import confusion_matrix\n",
        "from sklearn.model_selection import KFold,StratifiedKFold,train_test_split\n",
        "from sklearn.manifold import TSNE\n",
        "from sklearn.ensemble import RandomForestClassifier\n",
        "from sklearn.svm import SVC\n",
        "from sklearn.model_selection import cross_validate,GridSearchCV\n",
        "from sklearn.base import clone\n",
        "import pandas as pd\n",
        "import os\n",
        "from sys import getsizeof\n",
        "import shutil"
      ],
      "execution_count": 2,
      "outputs": []
    },
    {
      "cell_type": "code",
      "source": [
        "tf.test.is_gpu_available()"
      ],
      "metadata": {
        "colab": {
          "base_uri": "https://localhost:8080/"
        },
        "id": "UJAW5q3tx4J6",
        "outputId": "7901f37f-1d41-4fff-d94c-7d00e258884a"
      },
      "execution_count": 3,
      "outputs": [
        {
          "output_type": "stream",
          "name": "stdout",
          "text": [
            "WARNING:tensorflow:From <ipython-input-3-17bb7203622b>:1: is_gpu_available (from tensorflow.python.framework.test_util) is deprecated and will be removed in a future version.\n",
            "Instructions for updating:\n",
            "Use `tf.config.list_physical_devices('GPU')` instead.\n"
          ]
        },
        {
          "output_type": "execute_result",
          "data": {
            "text/plain": [
              "True"
            ]
          },
          "metadata": {},
          "execution_count": 3
        }
      ]
    },
    {
      "cell_type": "code",
      "source": [
        "tf.test.gpu_device_name()"
      ],
      "metadata": {
        "colab": {
          "base_uri": "https://localhost:8080/",
          "height": 36
        },
        "id": "p6V9m8r8yhRY",
        "outputId": "53dfaebd-543e-42be-ef6e-62438c8e1422"
      },
      "execution_count": 4,
      "outputs": [
        {
          "output_type": "execute_result",
          "data": {
            "application/vnd.google.colaboratory.intrinsic+json": {
              "type": "string"
            },
            "text/plain": [
              "'/device:GPU:0'"
            ]
          },
          "metadata": {},
          "execution_count": 4
        }
      ]
    },
    {
      "cell_type": "code",
      "source": [
        "tf.config.list_physical_devices('GPU')"
      ],
      "metadata": {
        "colab": {
          "base_uri": "https://localhost:8080/"
        },
        "id": "h6XSXb8Ny42R",
        "outputId": "9e61491c-c046-425c-a63f-f47abb7185e9"
      },
      "execution_count": 5,
      "outputs": [
        {
          "output_type": "execute_result",
          "data": {
            "text/plain": [
              "[PhysicalDevice(name='/physical_device:GPU:0', device_type='GPU')]"
            ]
          },
          "metadata": {},
          "execution_count": 5
        }
      ]
    },
    {
      "cell_type": "code",
      "metadata": {
        "id": "BqXtrRPrWd8U"
      },
      "source": [
        "n_splits=5\n",
        "random_state=27"
      ],
      "execution_count": 6,
      "outputs": []
    },
    {
      "cell_type": "markdown",
      "metadata": {
        "id": "FYu-1wZ_YrKM"
      },
      "source": [
        "To attain an useful model, a lot of training time is needed. A method to decrease the time and get even better results is by transfer learning. Transfer learning is the concept of using a trained model (with good performance) on a specific task and use its knowledge (learned weights) in another task. In this way, instead of starting with a random guess of the parameters that are unrelated to the task, with start with parameters containing information somehow related to our own task.\n",
        "\n",
        "Tensorflow hub is a platform used to get trained models that are ready to use. The BERT model used is from tensorflow hub. Go to tensorfow hub, search for the model you need, check the guidelines.\n",
        "\n",
        "Tensorflow hub is used below to get the BERT model."
      ]
    },
    {
      "cell_type": "code",
      "metadata": {
        "id": "ywcIYEE_YiFA"
      },
      "source": [
        "#text_input = tf.keras.layers.Input(shape=(), dtype=tf.string)\n",
        "\n",
        "preprocessor = hub.KerasLayer(\n",
        "    # \"https://tfhub.dev/tensorflow/bert_en_uncased_preprocess/3\")\n",
        "    \"https://tfhub.dev/tensorflow/bert_en_uncased_preprocess/3\")\n",
        "\n",
        "#encoder_inputs = preprocessor(text_input)\n",
        "\n",
        "encoder = hub.KerasLayer(\n",
        "    # \"https://tfhub.dev/tensorflow/bert_en_uncased_L-24_H-1024_A-16/4\",\n",
        "    \"https://tfhub.dev/tensorflow/small_bert/bert_en_uncased_L-2_H-128_A-2/2\",\n",
        "    trainable=True)\n",
        "\n",
        "#outputs = encoder(encoder_inputs)\n",
        "#pooled_output = outputs[\"pooled_output\"]      # [batch_size, 768].\n",
        "#sequence_output = outputs[\"sequence_output\"]  # [batch_size, seq_length, 768]."
      ],
      "execution_count": null,
      "outputs": []
    },
    {
      "cell_type": "markdown",
      "metadata": {
        "id": "aYIRdHR0Zdmn"
      },
      "source": [
        "Create a BERT model\n"
      ]
    },
    {
      "cell_type": "code",
      "metadata": {
        "id": "-0zv40V3Wuuc"
      },
      "source": [
        "text_inputs=keras.layers.Input(shape=(),dtype=tf.string)\n",
        "preprocessed_text=preprocessor(text_inputs)\n",
        "outputs=encoder(preprocessed_text)\n",
        "\n",
        "BERT_model=keras.Model(text_inputs,outputs['pooled_output'],name='BERT_Model')"
      ],
      "execution_count": null,
      "outputs": []
    },
    {
      "cell_type": "markdown",
      "metadata": {
        "id": "FTPnJvEKmBn3"
      },
      "source": [
        "<h4><b>2-Helper Functions</b></h4>"
      ]
    },
    {
      "cell_type": "markdown",
      "metadata": {
        "id": "VAjCr5CXguSF"
      },
      "source": [
        "The functions are used in the proceeding parts to fine-tune and train the models."
      ]
    },
    {
      "cell_type": "code",
      "metadata": {
        "id": "_s7M0bZF4YAl"
      },
      "source": [
        "def fine_tune_model(rate=0.2):\n",
        "  #fine-tuning model used\n",
        "  #rate=0.2\n",
        "\n",
        "  text_inputs=keras.layers.Input(shape=(),dtype=tf.string,name='Text_Input')\n",
        "  keyword_inputs=keras.layers.Input(shape=(1,),name='Keyword_Stats')\n",
        "\n",
        "  # preprocessed_text=preprocessor(text_inputs)\n",
        "  # outputs=encoder(preprocessed_text)\n",
        "\n",
        "  BERT_output=BERT_model(text_inputs)\n",
        "\n",
        "  #x=keras.layers.Dropout(rate=rate,name='Dropout_on_BERT')(BERT_output)#outputs['pooled_output'])\n",
        "\n",
        "  #x=keras.layers.Conv1D(30,3)(tf.expand_dims(x,-1))\n",
        "\n",
        "  #x=keras.layers.Flatten()(x)\n",
        "\n",
        "  x=keras.layers.Concatenate(name='Concat_BERT_keywordStats')([BERT_output,keyword_inputs])#x\n",
        "\n",
        "  #x=keras.layers.Dense(20,activation='relu')(x)\n",
        "  x=keras.layers.Dropout(rate=rate,name='Dropout_1')(x)\n",
        "\n",
        "  y=keras.layers.Dense(1,activation='sigmoid',name='output')(x)\n",
        "\n",
        "  model=keras.Model([text_inputs,keyword_inputs],y,name='Pre-train_Model')\n",
        "\n",
        "  model.compile(optimizer=keras.optimizers.Adam(1e-5,clipvalue=2),loss=keras.losses.binary_crossentropy,metrics=['accuracy'])\n",
        "  \n",
        "  return model"
      ],
      "execution_count": null,
      "outputs": []
    },
    {
      "cell_type": "code",
      "metadata": {
        "id": "doLi3dBkmBJv"
      },
      "source": [
        "def get_keyword_mean(train_df,val_df,column='keyword',target='target'):\n",
        "    aggregate_column=column+'_mean'\n",
        "    train_df[aggregate_column]=train_df.groupby(column)[target].transform('mean')\n",
        "    \n",
        "    val_df = val_df.merge(\n",
        "                train_df[[column, aggregate_column]].drop_duplicates(),\n",
        "                on=column,\n",
        "                how=\"left\",\n",
        "            )\n",
        "    return train_df,val_df"
      ],
      "execution_count": null,
      "outputs": []
    },
    {
      "cell_type": "code",
      "metadata": {
        "id": "ntIhxTCHVegm"
      },
      "source": [
        "def valuate_model(df,model_creation_function,target_column='target',use_keyword=True,compile_dic={},**kwargs):\n",
        "  '''\n",
        "  df: it should not contain the test data.\n",
        "  model_creation_function: function used to create the mode. It should contain BERT_Model\n",
        "  '''\n",
        "  #kfold=KFold(n_splits=n_splits,shuffle=True,random_state=random_state)\n",
        "  kfold=StratifiedKFold(n_splits=n_splits,shuffle=True,random_state=random_state)\n",
        "  results={'Total':0}\n",
        "  i=0\n",
        "  \n",
        "  df['prediction']=np.nan\n",
        "  #iterate through the folds\n",
        "  for train_index,val_index in kfold.split(df,df[target_column]):\n",
        "      \n",
        "    #PREPARE THE INPUTS\n",
        "\n",
        "    train_df=df.iloc[train_index]\n",
        "    val_df=df.iloc[val_index]\n",
        "    \n",
        "    # if use_keyword:\n",
        "    #     train_df,val_df=get_keyword_mean(train_df,val_df)\n",
        "    #     #regex+='|^keyword_'\n",
        "    \n",
        "    X_train_keyword=train_df.filter(regex='keyword_',axis=1).astype(float).values\n",
        "    X_val_keyword=val_df.filter(regex='keyword_',axis=1).astype(float).values\n",
        "    \n",
        "    X_train_text=train_df['preprocessed_text'].astype(str).values\n",
        "    y_train=train_df[target_column].values\n",
        "    \n",
        "    X_val_text=val_df['preprocessed_text'].astype(str).values\n",
        "    y_val=val_df[target_column].values\n",
        "    \n",
        "    #print(X_train)\n",
        "    # X_train=X_train.copy().values\n",
        "    # y_train=y_train.copy().values\n",
        "    \n",
        "    # X_val=X_val.copy().values\n",
        "    # y_val=y_val.copy().values\n",
        "\n",
        "    model_copy=model_creation_function()\n",
        "    #BERT_initial_weights=BERT_model.get_weights()\n",
        "    BERT_model.trainable=False\n",
        "    BERT_model.compile(**compile_dic)\n",
        "    model_copy.compile(**compile_dic)\n",
        "\n",
        "    if i==0:\n",
        "      model_copy.summary()\n",
        "\n",
        "    model_copy.fit([X_train_text,X_train_keyword],\n",
        "                   y_train,\n",
        "                   validation_data=([X_val_text,X_val_keyword],y_val),\n",
        "                   **kwargs)\n",
        "    \n",
        "    #make sure the weights of the BERT model did not change\n",
        "    #np.testing.assert_allclose(BERT_model.get_weights(),BERT_initial_weights)\n",
        "\n",
        "    predicted=model_copy.predict([X_val_text,X_val_keyword])\n",
        "    \n",
        "    df.loc[df.index.isin(df.iloc[val_index].index),['prediction']]=predicted\n",
        "\n",
        "    print(df.columns)\n",
        "    print(df.head)\n",
        "\n",
        "    predicted=(predicted>0.5).astype(int)\n",
        "    #df.iloc[val_index,['prediction_binary']]=predicted\n",
        "\n",
        "    #COMPUTE THE CONFUSION MATRIX\n",
        "    metric=confusion_matrix(y_val,predicted)\n",
        "    \n",
        "    tn, fp, fn, tp = metric.ravel()\n",
        "    \n",
        "    results_matrix=metric\n",
        "    results['Batch '+str(i)]=results_matrix \n",
        "    results['Total']+=np.array(results_matrix)\n",
        "    i+=1\n",
        "    \n",
        "    print(f'{i}th run:\\naccuracy: {(tp+tn)/(tn+fp+fn+tp)}\\nprecision:{tp/(tp+fp)}\\nrecall:{tp/(tp+fn)}\\n')\n",
        "  \n",
        "  df['prediction_binary']=(df['prediction']>0.5).astype(int)\n",
        "\n",
        "  tn, fp, fn, tp = results['Total'].ravel()\n",
        "  \n",
        "  print(f'Total:\\naccuracy: {(tp+tn)/(tn+fp+fn+tp)}\\nprecision:{tp/(tp+fp)}\\nrecall:{tp/(tp+fn)}\\n')\n",
        "  \n",
        "  return results,df"
      ],
      "execution_count": null,
      "outputs": []
    },
    {
      "cell_type": "code",
      "metadata": {
        "id": "wrSK9GtQOqme"
      },
      "source": [
        "def check_misclassifications(df,target_column='target',predicted_column='prediction_binary'):\n",
        "  misclassifications=df[df[target_column]!=df[predicted_column]]\n",
        "  return misclassifications"
      ],
      "execution_count": null,
      "outputs": []
    },
    {
      "cell_type": "markdown",
      "metadata": {
        "id": "ihLxrXODdNit"
      },
      "source": [
        "NOTE: a small learning rate and clipvalue are used to prevent the model from forgetting its original weight values. In other words, to prevent it from throwing to away the information it already learned."
      ]
    },
    {
      "cell_type": "markdown",
      "metadata": {
        "id": "SYAY_FCMgJ6m"
      },
      "source": [
        "<h4><b>3-Get The Data and Fine-Tune BERT Model</b></h4>"
      ]
    },
    {
      "cell_type": "markdown",
      "metadata": {
        "id": "sf1t28GQhlg2"
      },
      "source": [
        "In this part the data will be fetched onto DataFrames. Furthermore, the effect of fine-tuning the BERT model is demostrated using TSNE plots."
      ]
    },
    {
      "cell_type": "markdown",
      "metadata": {
        "id": "dJvGaIo4mCZE"
      },
      "source": [
        "The data is already preprocessed. Check the preprocessing notebook <a href=\"\">Here<a/>"
      ]
    },
    {
      "cell_type": "code",
      "metadata": {
        "colab": {
          "base_uri": "https://localhost:8080/"
        },
        "id": "w4JerS8elPrk",
        "outputId": "3ad76eeb-b4a3-4115-dd2c-8b108b8c451d"
      },
      "source": [
        "df=pd.read_csv('preprocessed_data.csv')\n",
        "\n",
        "df['keyword']=df['keyword'].fillna('unk')\n",
        "\n",
        "train_df=df[df['trainable']==1]\n",
        "test_df=df[~(df['trainable']==1)]\n",
        "\n",
        "train_df,test_df=get_keyword_mean(train_df,test_df)\n",
        "\n",
        "train_df['preprocessed_text']=train_df['preprocessed_text'].fillna('Great').astype(str)\n",
        "test_df['preprocessed_text']=test_df['preprocessed_text'].fillna('Great').astype(str)\n",
        "\n",
        "# train_df,fine_tune_df=train_test_split(total_train_df[['preprocessed_text','keyword_mean','target']],\n",
        "#                                        test_size=0.2,\n",
        "#                                        stratify=total_train_df['target'],\n",
        "#                                        random_state=random_state)"
      ],
      "execution_count": 14,
      "outputs": [
        {
          "output_type": "stream",
          "name": "stderr",
          "text": [
            "/usr/local/lib/python3.7/dist-packages/ipykernel_launcher.py:3: SettingWithCopyWarning: \n",
            "A value is trying to be set on a copy of a slice from a DataFrame.\n",
            "Try using .loc[row_indexer,col_indexer] = value instead\n",
            "\n",
            "See the caveats in the documentation: https://pandas.pydata.org/pandas-docs/stable/user_guide/indexing.html#returning-a-view-versus-a-copy\n",
            "  This is separate from the ipykernel package so we can avoid doing imports until\n",
            "/usr/local/lib/python3.7/dist-packages/ipykernel_launcher.py:10: SettingWithCopyWarning: \n",
            "A value is trying to be set on a copy of a slice from a DataFrame.\n",
            "Try using .loc[row_indexer,col_indexer] = value instead\n",
            "\n",
            "See the caveats in the documentation: https://pandas.pydata.org/pandas-docs/stable/user_guide/indexing.html#returning-a-view-versus-a-copy\n",
            "  # Remove the CWD from sys.path while we load stuff.\n"
          ]
        }
      ]
    },
    {
      "cell_type": "code",
      "metadata": {
        "colab": {
          "base_uri": "https://localhost:8080/"
        },
        "id": "Ptr37oTLAppC",
        "outputId": "e537a47d-0f8c-4296-ae0d-0c01f2a1d6ae"
      },
      "source": [
        "len(train_df[train_df['target']==1])/(len(train_df))"
      ],
      "execution_count": 15,
      "outputs": [
        {
          "output_type": "execute_result",
          "data": {
            "text/plain": [
              "0.4296597924602653"
            ]
          },
          "metadata": {},
          "execution_count": 15
        }
      ]
    },
    {
      "cell_type": "code",
      "metadata": {
        "colab": {
          "base_uri": "https://localhost:8080/"
        },
        "id": "x4zPr9FJqzFw",
        "outputId": "3e7f5e6c-5f08-4c1d-d19f-58e0ccb61a84"
      },
      "source": [
        "len(train_df),len(test_df)"
      ],
      "execution_count": 16,
      "outputs": [
        {
          "output_type": "execute_result",
          "data": {
            "text/plain": [
              "(7613, 3263)"
            ]
          },
          "metadata": {},
          "execution_count": 16
        }
      ]
    },
    {
      "cell_type": "markdown",
      "metadata": {
        "id": "8R4fA_0RjgP-"
      },
      "source": [
        "<b>Fine-Tunning</b>\n",
        "\n",
        "There are 2 stages for BERT models to be used. First, the BERT models are pre-trained using tons of data. Pre-training can be predicting the next word in the sentence given the previous words. Hence, this stage allows the model to learn useful representations for the languague in general. The second stage is fine-tuning the BERT model. After having an initial set of learned parameters related to the task, the next step is learn the parameters that are best for the task tackled. Thus, learning parameters specific to the task instead of parameters related to the languague in general. This allows for better and faster results than starting by random guesses of the parameters.\n",
        "\n",
        "The model downloaded from tensorflow hub is already pre-trained. We need to fine-tune it. But, let us show the effect of fine-tuning using TSNE plots.\n"
      ]
    },
    {
      "cell_type": "markdown",
      "metadata": {
        "id": "6RWRpt_d0U6H"
      },
      "source": [
        "<b>TSNE Plots</b>\n",
        "\n",
        "TSNE stands for t-distributed stochastic neighbor embedding. It is an unsupervised manifold method used represent high dimensional data into lower dimentional data. Hence, dimensionality reduction. Although, TSNE is used to visualize the data.\n",
        "\n",
        "TSNE is used to reduce the data dimentionality to just 2D (2 components). Afterwards, the data is plotted to visualize the representation outputed by the BERT model before and after fine-tuning."
      ]
    },
    {
      "cell_type": "markdown",
      "metadata": {
        "id": "8ElSD6H9akSv"
      },
      "source": [
        "<b>TSNE Plot Before Fine-Tuning</b>"
      ]
    },
    {
      "cell_type": "code",
      "metadata": {
        "colab": {
          "base_uri": "https://localhost:8080/",
          "height": 407
        },
        "id": "L1LH_Q3MXhSf",
        "outputId": "4e212dea-21e8-48e2-aa4a-2b909a3fa1c7"
      },
      "source": [
        "X = BERT_model.predict(train_df['preprocessed_text'].values)\n",
        "X_embedded = TSNE(n_components=2,random_state=random_state).fit_transform(X)\n",
        "\n",
        "y=train_df['target'].values\n",
        "\n",
        "tsne_df = pd.DataFrame()\n",
        "tsne_df[\"y\"] = y\n",
        "tsne_df[\"comp-1\"] = X_embedded[:,0]\n",
        "tsne_df[\"comp-2\"] = X_embedded[:,1]\n",
        "\n",
        "sns.scatterplot(x=\"comp-1\", y=\"comp-2\", hue=tsne_df.y.tolist(),\n",
        "                palette=sns.color_palette(\"hls\", 2),\n",
        "                data=tsne_df).set(title=\"BERT embeddings for disaster and non disaster tweets\") "
      ],
      "execution_count": 17,
      "outputs": [
        {
          "output_type": "stream",
          "name": "stderr",
          "text": [
            "/usr/local/lib/python3.7/dist-packages/sklearn/manifold/_t_sne.py:783: FutureWarning: The default initialization in TSNE will change from 'random' to 'pca' in 1.2.\n",
            "  FutureWarning,\n",
            "/usr/local/lib/python3.7/dist-packages/sklearn/manifold/_t_sne.py:793: FutureWarning: The default learning rate in TSNE will change from 200.0 to 'auto' in 1.2.\n",
            "  FutureWarning,\n"
          ]
        },
        {
          "output_type": "execute_result",
          "data": {
            "text/plain": [
              "[Text(0.5, 1.0, 'BERT embeddings for disaster and non disaster tweets')]"
            ]
          },
          "metadata": {},
          "execution_count": 17
        },
        {
          "output_type": "display_data",
          "data": {
            "image/png": "[encoded data removed]",
            "text/plain": [
              "<Figure size 432x288 with 1 Axes>"
            ]
          },
          "metadata": {
            "needs_background": "light"
          }
        }
      ]
    },
    {
      "cell_type": "markdown",
      "metadata": {
        "id": "bbWbu2PLbJvs"
      },
      "source": [
        "The plot before fine-tuning shows that the classes are difficult to separate. Even in the locations that are dominated by a certain class, there are a lot of data from the opposing class. Thus, making the task tricky for any model. Actually, random forest and Support Vector Machine (SVM) were tried using BERT representation before fine-tuning. The best result was for SVM around 79% while a fine-tuned model reached around 81.4%."
      ]
    },
    {
      "cell_type": "markdown",
      "metadata": {
        "id": "VBjqsgSb2zwL"
      },
      "source": [
        "<b>Fine-Tune The BERT Model</b>"
      ]
    },
    {
      "cell_type": "code",
      "metadata": {
        "colab": {
          "base_uri": "https://localhost:8080/"
        },
        "id": "KnwPraVblhDg",
        "outputId": "32ac11aa-ed5d-4262-ddbf-6b38f482f580"
      },
      "source": [
        "model=fine_tune_model(rate=0.2)\n",
        "\n",
        "model.summary()\n",
        "\n",
        "history=model.fit([train_df['preprocessed_text'].values,\n",
        "          train_df['keyword_mean'].values],\n",
        "          train_df['target'].values,\n",
        "          batch_size=64,\n",
        "          epochs=30)\n"
      ],
      "execution_count": 18,
      "outputs": [
        {
          "output_type": "stream",
          "name": "stdout",
          "text": [
            "Model: \"Pre-train_Model\"\n",
            "__________________________________________________________________________________________________\n",
            " Layer (type)                   Output Shape         Param #     Connected to                     \n",
            "==================================================================================================\n",
            " Text_Input (InputLayer)        [(None,)]            0           []                               \n",
            "                                                                                                  \n",
            " BERT_Model (Functional)        (None, 128)          4385921     ['Text_Input[0][0]']             \n",
            "                                                                                                  \n",
            " Keyword_Stats (InputLayer)     [(None, 1)]          0           []                               \n",
            "                                                                                                  \n",
            " Concat_BERT_keywordStats (Conc  (None, 129)         0           ['BERT_Model[0][0]',             \n",
            " atenate)                                                         'Keyword_Stats[0][0]']          \n",
            "                                                                                                  \n",
            " Dropout_1 (Dropout)            (None, 129)          0           ['Concat_BERT_keywordStats[0][0]'\n",
            "                                                                 ]                                \n",
            "                                                                                                  \n",
            " output (Dense)                 (None, 1)            130         ['Dropout_1[0][0]']              \n",
            "                                                                                                  \n",
            "==================================================================================================\n",
            "Total params: 4,386,051\n",
            "Trainable params: 4,386,050\n",
            "Non-trainable params: 1\n",
            "__________________________________________________________________________________________________\n",
            "Epoch 1/30\n",
            "119/119 [==============================] - 40s 301ms/step - loss: 0.6544 - accuracy: 0.6234\n",
            "Epoch 2/30\n",
            "119/119 [==============================] - 34s 290ms/step - loss: 0.5839 - accuracy: 0.7034\n",
            "Epoch 3/30\n",
            "119/119 [==============================] - 34s 287ms/step - loss: 0.5394 - accuracy: 0.7395\n",
            "Epoch 4/30\n",
            "119/119 [==============================] - 34s 288ms/step - loss: 0.5221 - accuracy: 0.7520\n",
            "Epoch 5/30\n",
            "119/119 [==============================] - 34s 288ms/step - loss: 0.5003 - accuracy: 0.7683\n",
            "Epoch 6/30\n",
            "119/119 [==============================] - 34s 288ms/step - loss: 0.4864 - accuracy: 0.7753\n",
            "Epoch 7/30\n",
            "119/119 [==============================] - 34s 289ms/step - loss: 0.4690 - accuracy: 0.7897\n",
            "Epoch 8/30\n",
            "119/119 [==============================] - 34s 288ms/step - loss: 0.4569 - accuracy: 0.8018\n",
            "Epoch 9/30\n",
            "119/119 [==============================] - 38s 323ms/step - loss: 0.4478 - accuracy: 0.8028\n",
            "Epoch 10/30\n",
            "119/119 [==============================] - 34s 287ms/step - loss: 0.4470 - accuracy: 0.8031\n",
            "Epoch 11/30\n",
            "119/119 [==============================] - 34s 290ms/step - loss: 0.4336 - accuracy: 0.8098\n",
            "Epoch 12/30\n",
            "119/119 [==============================] - 35s 296ms/step - loss: 0.4201 - accuracy: 0.8128\n",
            "Epoch 13/30\n",
            "119/119 [==============================] - 34s 283ms/step - loss: 0.4173 - accuracy: 0.8170\n",
            "Epoch 14/30\n",
            "119/119 [==============================] - 34s 284ms/step - loss: 0.3978 - accuracy: 0.8286\n",
            "Epoch 15/30\n",
            "119/119 [==============================] - 34s 283ms/step - loss: 0.4003 - accuracy: 0.8250\n",
            "Epoch 16/30\n",
            "119/119 [==============================] - 34s 283ms/step - loss: 0.3866 - accuracy: 0.8365\n",
            "Epoch 17/30\n",
            "119/119 [==============================] - 34s 286ms/step - loss: 0.3825 - accuracy: 0.8361\n",
            "Epoch 18/30\n",
            "119/119 [==============================] - 34s 285ms/step - loss: 0.3744 - accuracy: 0.8409\n",
            "Epoch 19/30\n",
            "119/119 [==============================] - 34s 286ms/step - loss: 0.3729 - accuracy: 0.8390\n",
            "Epoch 20/30\n",
            "119/119 [==============================] - 34s 286ms/step - loss: 0.3686 - accuracy: 0.8455\n",
            "Epoch 21/30\n",
            "119/119 [==============================] - 34s 286ms/step - loss: 0.3601 - accuracy: 0.8510\n",
            "Epoch 22/30\n",
            "119/119 [==============================] - 34s 284ms/step - loss: 0.3526 - accuracy: 0.8505\n",
            "Epoch 23/30\n",
            "119/119 [==============================] - 34s 285ms/step - loss: 0.3488 - accuracy: 0.8491\n",
            "Epoch 24/30\n",
            "119/119 [==============================] - 34s 283ms/step - loss: 0.3375 - accuracy: 0.8568\n",
            "Epoch 25/30\n",
            "119/119 [==============================] - 33s 280ms/step - loss: 0.3329 - accuracy: 0.8650\n",
            "Epoch 26/30\n",
            "119/119 [==============================] - 33s 279ms/step - loss: 0.3275 - accuracy: 0.8643\n",
            "Epoch 27/30\n",
            "119/119 [==============================] - 33s 281ms/step - loss: 0.3216 - accuracy: 0.8650\n",
            "Epoch 28/30\n",
            "119/119 [==============================] - 34s 284ms/step - loss: 0.3150 - accuracy: 0.8700\n",
            "Epoch 29/30\n",
            "119/119 [==============================] - 34s 285ms/step - loss: 0.3050 - accuracy: 0.8776\n",
            "Epoch 30/30\n",
            "119/119 [==============================] - 34s 285ms/step - loss: 0.2977 - accuracy: 0.8755\n"
          ]
        }
      ]
    },
    {
      "cell_type": "code",
      "metadata": {
        "colab": {
          "base_uri": "https://localhost:8080/",
          "height": 295
        },
        "id": "9XQKMgtaHuVS",
        "outputId": "f923c18e-8fa1-4e4b-ed84-fb1461c76c7d"
      },
      "source": [
        "plt.plot(history.history['accuracy'])\n",
        "plt.title('model accuracy')\n",
        "plt.ylabel('accuracy')\n",
        "plt.xlabel('epoch')\n",
        "plt.legend(['train'], loc='upper left')\n",
        "plt.show()"
      ],
      "execution_count": 19,
      "outputs": [
        {
          "output_type": "display_data",
          "data": {
            "image/png": "[encoded data removed]",
            "text/plain": [
              "<Figure size 432x288 with 1 Axes>"
            ]
          },
          "metadata": {
            "needs_background": "light"
          }
        }
      ]
    },
    {
      "cell_type": "code",
      "metadata": {
        "cellView": "form",
        "colab": {
          "base_uri": "https://localhost:8080/",
          "height": 466
        },
        "collapsed": true,
        "id": "dWRbGXRcppv5",
        "outputId": "15dff844-775a-4154-dcf5-7dde10ef20b7"
      },
      "source": [
        "#@title plot_model\n",
        "plot_model(model, to_file='multiple_inputs.png')"
      ],
      "execution_count": 20,
      "outputs": [
        {
          "output_type": "execute_result",
          "data": {
            "image/png": "[encoded data removed]",
            "text/plain": [
              "<IPython.core.display.Image object>"
            ]
          },
          "metadata": {},
          "execution_count": 20
        }
      ]
    },
    {
      "cell_type": "markdown",
      "metadata": {
        "id": "_L2f8oiKcv4q"
      },
      "source": [
        "NOTE: the perforance of the model is of little importance since we only aim to fine-tune it to learn a good representation of the data to be used for other models."
      ]
    },
    {
      "cell_type": "markdown",
      "metadata": {
        "id": "YF4teo1ra1NB"
      },
      "source": [
        "<b>TSNE Plot After Fine-Tuning</b>"
      ]
    },
    {
      "cell_type": "code",
      "metadata": {
        "colab": {
          "base_uri": "https://localhost:8080/",
          "height": 407
        },
        "id": "RnX2XeQHa3Jy",
        "outputId": "5be25098-dd12-4351-d25e-846ded486197"
      },
      "source": [
        "X = BERT_model.predict(train_df['preprocessed_text'].values)\n",
        "X_embedded = TSNE(n_components=2,random_state=random_state).fit_transform(X)\n",
        "\n",
        "y=train_df['target'].values\n",
        "\n",
        "tsne_df = pd.DataFrame()\n",
        "tsne_df[\"y\"] = y\n",
        "tsne_df[\"comp-1\"] = X_embedded[:,0]\n",
        "tsne_df[\"comp-2\"] = X_embedded[:,1]\n",
        "\n",
        "sns.scatterplot(x=\"comp-1\", y=\"comp-2\", hue=tsne_df.y.tolist(),\n",
        "                palette=sns.color_palette(\"hls\", 2),\n",
        "                data=tsne_df).set(title=\"BERT embeddings for disaster and non disaster tweets after fine tuning\") "
      ],
      "execution_count": 21,
      "outputs": [
        {
          "output_type": "stream",
          "name": "stderr",
          "text": [
            "/usr/local/lib/python3.7/dist-packages/sklearn/manifold/_t_sne.py:783: FutureWarning: The default initialization in TSNE will change from 'random' to 'pca' in 1.2.\n",
            "  FutureWarning,\n",
            "/usr/local/lib/python3.7/dist-packages/sklearn/manifold/_t_sne.py:793: FutureWarning: The default learning rate in TSNE will change from 200.0 to 'auto' in 1.2.\n",
            "  FutureWarning,\n"
          ]
        },
        {
          "output_type": "execute_result",
          "data": {
            "text/plain": [
              "[Text(0.5, 1.0, 'BERT embeddings for disaster and non disaster tweets after fine tuning')]"
            ]
          },
          "metadata": {},
          "execution_count": 21
        },
        {
          "output_type": "display_data",
          "data": {
            "image/png": "[encoded data removed]",
            "text/plain": [
              "<Figure size 432x288 with 1 Axes>"
            ]
          },
          "metadata": {
            "needs_background": "light"
          }
        }
      ]
    },
    {
      "cell_type": "markdown",
      "metadata": {
        "id": "L-Lg72clcOxX"
      },
      "source": [
        "The TSNE plot after fine-tuning shows that the classes are now easier to separate. Hence, the BERT model learned a better representation of the classes in the data. Thus, making the prediction task easier for models."
      ]
    },
    {
      "cell_type": "markdown",
      "metadata": {
        "id": "HC-mGrPk5puD"
      },
      "source": [
        "<h4><b>4-Teting The Models</b></h4>"
      ]
    },
    {
      "cell_type": "markdown",
      "metadata": {
        "id": "RyiWxxHj6BME"
      },
      "source": [
        "In this part different models are tested using K-Fold cross validation with K given at the beginning as 5. Note the BERT model parameters are freezed. Only the new added layers are trained."
      ]
    },
    {
      "cell_type": "code",
      "metadata": {
        "id": "lfpiHuTKX0Zq"
      },
      "source": [
        "compile_dic={'optimizer':keras.optimizers.Adam(1e-5,clipvalue=2),\n",
        "             'loss':keras.losses.binary_crossentropy,\n",
        "             'metrics':['accuracy']}\n",
        "batch_size=64\n",
        "epochs=30\n",
        "callbacks=[EarlyStopping(monitor='val_accuracy',min_delta=0.02,patience=3,mode='max')]\n",
        "model1_results,model1_df=valuate_model(train_df,\n",
        "                                       fine_tune_model,\n",
        "                                       target_column='target',\n",
        "                                       use_keyword=True,\n",
        "                                       compile_dic=compile_dic,\n",
        "                                       batch_size=batch_size,\n",
        "                                       callbacks=callbacks,\n",
        "                                       epochs=epochs)"
      ],
      "execution_count": null,
      "outputs": []
    },
    {
      "cell_type": "markdown",
      "metadata": {
        "id": "zMuT83bLPgYR"
      },
      "source": [
        "This model gave a score above 81% on the competition with 30 epochs using the whole training set. Yet we can see that the tests using 15 epochs after finetuning the BERT_model did give good results on some validation sets and bad results on another sets. Thus, either a lot of outliers are present in the validation sets that the model did badly or there are 2 different distributions in the test set.<br/>\n",
        "The data in these sets should be checked."
      ]
    },
    {
      "cell_type": "code",
      "metadata": {
        "cellView": "form",
        "id": "3H8rFTUKSRTz"
      },
      "source": [
        "#@title\n",
        "kfold=StratifiedKFold(n_splits=n_splits,shuffle=True,random_state=random_state)\n",
        "\n",
        "wanted_indexes=[]\n",
        "i=1\n",
        "#iterate through the folds\n",
        "for train_index,val_index in kfold.split(train_df,train_df['target']):\n",
        "  if (i==5) or (i==4):\n",
        "    wanted_indexes+=val_index.tolist()\n",
        "  \n",
        "  i+=1\n",
        "\n",
        "train_df.iloc[wanted_indexes].to_csv('outlier.csv')"
      ],
      "execution_count": null,
      "outputs": []
    },
    {
      "cell_type": "markdown",
      "metadata": {
        "id": "Gr7MPVjTXmtH"
      },
      "source": [
        "<b>Model 1</b>"
      ]
    },
    {
      "cell_type": "code",
      "metadata": {
        "id": "kLk4XuAEPgKa"
      },
      "source": [
        "def model1():\n",
        "  rate=0.2\n",
        "\n",
        "  text_inputs=keras.layers.Input(shape=(),dtype=tf.string,name='Text_Input')\n",
        "  keyword_inputs=keras.layers.Input(shape=(1,),name='Keyword_Stats')\n",
        "\n",
        "  # preprocessed_text=preprocessor(text_inputs)\n",
        "  # outputs=encoder(preprocessed_text)\n",
        "\n",
        "  BERT_output=BERT_model(text_inputs)\n",
        "\n",
        "  x=keras.layers.Dropout(rate=rate,name='Dropout_on_BERT_1')(BERT_output)#outputs['pooled_output'])\n",
        "\n",
        "  #x=keras.layers.Conv1D(30,3)(tf.expand_dims(x,-1))\n",
        "\n",
        "  #x=keras.layers.Flatten()(x)\n",
        "\n",
        "  x=keras.layers.Concatenate(name='Concat_BERT_keywordStats_1')([x,keyword_inputs])\n",
        "\n",
        "  x=keras.layers.Dense(20,activation='relu',name='Dense_layer_1')(x)\n",
        "  x=keras.layers.Dropout(rate=rate,name='Dropout_1_1')(x)\n",
        "\n",
        "  y=keras.layers.Dense(1,activation='sigmoid',name='output_1',kernel_regularizer=keras.regularizers.L2())(x)\n",
        "\n",
        "  model=keras.Model([text_inputs,keyword_inputs],y,name='Model_1')\n",
        "\n",
        "  #model.compile()\n",
        "  \n",
        "  return model"
      ],
      "execution_count": null,
      "outputs": []
    },
    {
      "cell_type": "code",
      "metadata": {
        "colab": {
          "base_uri": "https://localhost:8080/"
        },
        "collapsed": true,
        "id": "Wr6wf2BUQiC4",
        "outputId": "2bbb7044-66d6-4bac-b94c-8779cb318659"
      },
      "source": [
        "compile_dic={'optimizer':keras.optimizers.Adam(1e-5,clipvalue=2),\n",
        "             'loss':keras.losses.binary_crossentropy,\n",
        "             'metrics':['accuracy']}\n",
        "batch_size=64\n",
        "epochs=25\n",
        "callbacks=[EarlyStopping(monitor='val_accuracy',min_delta=0.02,patience=3,mode='max')]\n",
        "model1_results,model1_df=valuate_model(train_df,\n",
        "                                       model1,\n",
        "                                       target_column='target',\n",
        "                                       use_keyword=True,\n",
        "                                       compile_dic=compile_dic,\n",
        "                                       batch_size=batch_size,\n",
        "                                       epochs=epochs,\n",
        "                                       callbacks=callbacks)"
      ],
      "execution_count": null,
      "outputs": [
        {
          "name": "stderr",
          "output_type": "stream",
          "text": [
            "/usr/local/lib/python3.7/dist-packages/ipykernel_launcher.py:11: SettingWithCopyWarning: \n",
            "A value is trying to be set on a copy of a slice from a DataFrame.\n",
            "Try using .loc[row_indexer,col_indexer] = value instead\n",
            "\n",
            "See the caveats in the documentation: https://pandas.pydata.org/pandas-docs/stable/user_guide/indexing.html#returning-a-view-versus-a-copy\n",
            "  # This is added back by InteractiveShellApp.init_path()\n"
          ]
        },
        {
          "name": "stdout",
          "output_type": "stream",
          "text": [
            "Model: \"Model_1\"\n",
            "__________________________________________________________________________________________________\n",
            "Layer (type)                    Output Shape         Param #     Connected to                     \n",
            "==================================================================================================\n",
            "Text_Input (InputLayer)         [(None,)]            0                                            \n",
            "__________________________________________________________________________________________________\n",
            "BERT_Model (Functional)         (None, 128)          4385921     Text_Input[0][0]                 \n",
            "__________________________________________________________________________________________________\n",
            "Dropout_on_BERT_1 (Dropout)     (None, 128)          0           BERT_Model[1][0]                 \n",
            "__________________________________________________________________________________________________\n",
            "Keyword_Stats (InputLayer)      [(None, 1)]          0                                            \n",
            "__________________________________________________________________________________________________\n",
            "Concat_BERT_keywordStats_1 (Con (None, 129)          0           Dropout_on_BERT_1[0][0]          \n",
            "                                                                 Keyword_Stats[0][0]              \n",
            "__________________________________________________________________________________________________\n",
            "Dense_layer_1 (Dense)           (None, 20)           2600        Concat_BERT_keywordStats_1[0][0] \n",
            "__________________________________________________________________________________________________\n",
            "Dropout_1_1 (Dropout)           (None, 20)           0           Dense_layer_1[0][0]              \n",
            "__________________________________________________________________________________________________\n",
            "output_1 (Dense)                (None, 1)            21          Dropout_1_1[0][0]                \n",
            "==================================================================================================\n",
            "Total params: 4,388,542\n",
            "Trainable params: 2,621\n",
            "Non-trainable params: 4,385,921\n",
            "__________________________________________________________________________________________________\n",
            "Epoch 1/25\n",
            "102/102 [==============================] - 39s 353ms/step - loss: 1.2477 - accuracy: 0.2812 - val_loss: 1.1278 - val_accuracy: 0.2142\n",
            "Epoch 2/25\n",
            "102/102 [==============================] - 35s 346ms/step - loss: 1.1486 - accuracy: 0.3217 - val_loss: 1.0461 - val_accuracy: 0.2592\n",
            "Epoch 3/25\n",
            "102/102 [==============================] - 34s 338ms/step - loss: 1.0696 - accuracy: 0.3556 - val_loss: 0.9710 - val_accuracy: 0.3162\n",
            "Epoch 4/25\n",
            "102/102 [==============================] - 34s 337ms/step - loss: 1.0004 - accuracy: 0.3923 - val_loss: 0.9017 - val_accuracy: 0.3713\n",
            "Epoch 5/25\n",
            "102/102 [==============================] - 34s 338ms/step - loss: 0.9486 - accuracy: 0.4277 - val_loss: 0.8378 - val_accuracy: 0.4366\n",
            "Epoch 6/25\n",
            "102/102 [==============================] - 34s 338ms/step - loss: 0.8969 - accuracy: 0.4552 - val_loss: 0.7793 - val_accuracy: 0.5046\n",
            "Epoch 7/25\n",
            "102/102 [==============================] - 35s 339ms/step - loss: 0.8333 - accuracy: 0.5005 - val_loss: 0.7264 - val_accuracy: 0.5754\n",
            "Epoch 8/25\n",
            "102/102 [==============================] - 34s 338ms/step - loss: 0.7882 - accuracy: 0.5332 - val_loss: 0.6791 - val_accuracy: 0.6379\n",
            "Epoch 9/25\n",
            "102/102 [==============================] - 34s 337ms/step - loss: 0.7442 - accuracy: 0.5793 - val_loss: 0.6359 - val_accuracy: 0.6903\n",
            "Epoch 10/25\n",
            "102/102 [==============================] - 34s 333ms/step - loss: 0.6944 - accuracy: 0.6080 - val_loss: 0.5972 - val_accuracy: 0.7390\n",
            "Epoch 11/25\n",
            "102/102 [==============================] - 34s 336ms/step - loss: 0.6762 - accuracy: 0.6261 - val_loss: 0.5621 - val_accuracy: 0.7877\n",
            "Epoch 12/25\n",
            "102/102 [==============================] - 35s 339ms/step - loss: 0.6416 - accuracy: 0.6573 - val_loss: 0.5309 - val_accuracy: 0.8134\n",
            "Epoch 13/25\n",
            "102/102 [==============================] - 36s 354ms/step - loss: 0.6148 - accuracy: 0.6815 - val_loss: 0.5033 - val_accuracy: 0.8364\n",
            "Epoch 14/25\n",
            "102/102 [==============================] - 35s 342ms/step - loss: 0.5880 - accuracy: 0.7059 - val_loss: 0.4781 - val_accuracy: 0.8493\n",
            "Epoch 15/25\n",
            "102/102 [==============================] - 35s 343ms/step - loss: 0.5585 - accuracy: 0.7366 - val_loss: 0.4561 - val_accuracy: 0.8640\n",
            "Epoch 16/25\n",
            "102/102 [==============================] - 35s 343ms/step - loss: 0.5462 - accuracy: 0.7413 - val_loss: 0.4359 - val_accuracy: 0.8750\n",
            "Epoch 17/25\n",
            "102/102 [==============================] - 34s 336ms/step - loss: 0.5254 - accuracy: 0.7618 - val_loss: 0.4184 - val_accuracy: 0.8824\n",
            "Epoch 18/25\n",
            "102/102 [==============================] - 34s 334ms/step - loss: 0.5091 - accuracy: 0.7752 - val_loss: 0.4029 - val_accuracy: 0.8851\n",
            "Epoch 19/25\n",
            "102/102 [==============================] - 34s 336ms/step - loss: 0.4882 - accuracy: 0.7928 - val_loss: 0.3891 - val_accuracy: 0.8869\n",
            "Epoch 20/25\n",
            "102/102 [==============================] - 35s 339ms/step - loss: 0.4761 - accuracy: 0.8043 - val_loss: 0.3768 - val_accuracy: 0.8897\n",
            "Epoch 21/25\n",
            "102/102 [==============================] - 34s 338ms/step - loss: 0.4703 - accuracy: 0.8051 - val_loss: 0.3659 - val_accuracy: 0.8869\n"
          ]
        },
        {
          "name": "stderr",
          "output_type": "stream",
          "text": [
            "/usr/local/lib/python3.7/dist-packages/pandas/core/indexing.py:1734: SettingWithCopyWarning: \n",
            "A value is trying to be set on a copy of a slice from a DataFrame.\n",
            "Try using .loc[row_indexer,col_indexer] = value instead\n",
            "\n",
            "See the caveats in the documentation: https://pandas.pydata.org/pandas-docs/stable/user_guide/indexing.html#returning-a-view-versus-a-copy\n",
            "  isetter(loc, value[:, i].tolist())\n"
          ]
        },
        {
          "name": "stdout",
          "output_type": "stream",
          "text": [
            "Index(['Unnamed: 0', 'id', 'keyword', 'location', 'text', 'target',\n",
            "       'trainable', 'preprocessed_text', 'keyword_mean', 'prediction'],\n",
            "      dtype='object')\n",
            "<bound method NDFrame.head of       Unnamed: 0     id  ... keyword_mean prediction\n",
            "0              0      1  ...     0.688525        NaN\n",
            "1              1      4  ...     0.688525        NaN\n",
            "2              2      5  ...     0.688525        NaN\n",
            "3              3      6  ...     0.688525   0.876164\n",
            "4              4      7  ...     0.688525        NaN\n",
            "...          ...    ...  ...          ...        ...\n",
            "7608        7608  10869  ...     0.688525        NaN\n",
            "7609        7609  10870  ...     0.688525        NaN\n",
            "7610        7610  10871  ...     0.688525        NaN\n",
            "7611        7611  10872  ...     0.688525        NaN\n",
            "7612        7612  10873  ...     0.688525        NaN\n",
            "\n",
            "[7613 rows x 10 columns]>\n",
            "1th run:\n",
            "accuracy: 0.8869485294117647\n",
            "precision:0.8709677419354839\n",
            "recall:0.8653846153846154\n",
            "\n",
            "Epoch 1/25\n",
            "102/102 [==============================] - 35s 337ms/step - loss: 0.7908 - accuracy: 0.4564 - val_loss: 0.6837 - val_accuracy: 0.6066\n",
            "Epoch 2/25\n",
            "102/102 [==============================] - 34s 333ms/step - loss: 0.6649 - accuracy: 0.6164 - val_loss: 0.6013 - val_accuracy: 0.7500\n",
            "Epoch 3/25\n",
            "102/102 [==============================] - 34s 338ms/step - loss: 0.5989 - accuracy: 0.7065 - val_loss: 0.5498 - val_accuracy: 0.8051\n",
            "Epoch 4/25\n",
            "102/102 [==============================] - 35s 339ms/step - loss: 0.5539 - accuracy: 0.7598 - val_loss: 0.5129 - val_accuracy: 0.8300\n",
            "Epoch 5/25\n",
            "102/102 [==============================] - 34s 335ms/step - loss: 0.5189 - accuracy: 0.7920 - val_loss: 0.4843 - val_accuracy: 0.8428\n",
            "Epoch 6/25\n",
            "102/102 [==============================] - 34s 336ms/step - loss: 0.4902 - accuracy: 0.8167 - val_loss: 0.4617 - val_accuracy: 0.8474\n",
            "Epoch 7/25\n",
            "102/102 [==============================] - 34s 335ms/step - loss: 0.4728 - accuracy: 0.8270 - val_loss: 0.4434 - val_accuracy: 0.8520\n",
            "Epoch 8/25\n",
            "102/102 [==============================] - 34s 330ms/step - loss: 0.4522 - accuracy: 0.8434 - val_loss: 0.4282 - val_accuracy: 0.8511\n",
            "Epoch 9/25\n",
            "102/102 [==============================] - 34s 336ms/step - loss: 0.4398 - accuracy: 0.8449 - val_loss: 0.4154 - val_accuracy: 0.8557\n",
            "Epoch 10/25\n",
            "102/102 [==============================] - 34s 336ms/step - loss: 0.4240 - accuracy: 0.8516 - val_loss: 0.4044 - val_accuracy: 0.8594\n"
          ]
        },
        {
          "name": "stderr",
          "output_type": "stream",
          "text": [
            "/usr/local/lib/python3.7/dist-packages/pandas/core/indexing.py:1734: SettingWithCopyWarning: \n",
            "A value is trying to be set on a copy of a slice from a DataFrame.\n",
            "Try using .loc[row_indexer,col_indexer] = value instead\n",
            "\n",
            "See the caveats in the documentation: https://pandas.pydata.org/pandas-docs/stable/user_guide/indexing.html#returning-a-view-versus-a-copy\n",
            "  isetter(loc, value[:, i].tolist())\n"
          ]
        },
        {
          "name": "stdout",
          "output_type": "stream",
          "text": [
            "Index(['Unnamed: 0', 'id', 'keyword', 'location', 'text', 'target',\n",
            "       'trainable', 'preprocessed_text', 'keyword_mean', 'prediction'],\n",
            "      dtype='object')\n",
            "<bound method NDFrame.head of       Unnamed: 0     id  ... keyword_mean prediction\n",
            "0              0      1  ...     0.688525        NaN\n",
            "1              1      4  ...     0.688525   0.730311\n",
            "2              2      5  ...     0.688525        NaN\n",
            "3              3      6  ...     0.688525   0.876164\n",
            "4              4      7  ...     0.688525   0.581156\n",
            "...          ...    ...  ...          ...        ...\n",
            "7608        7608  10869  ...     0.688525        NaN\n",
            "7609        7609  10870  ...     0.688525        NaN\n",
            "7610        7610  10871  ...     0.688525   0.832752\n",
            "7611        7611  10872  ...     0.688525        NaN\n",
            "7612        7612  10873  ...     0.688525        NaN\n",
            "\n",
            "[7613 rows x 10 columns]>\n",
            "2th run:\n",
            "accuracy: 0.859375\n",
            "precision:0.890818858560794\n",
            "recall:0.7670940170940171\n",
            "\n",
            "Epoch 1/25\n",
            "102/102 [==============================] - 36s 338ms/step - loss: 0.6505 - accuracy: 0.6196 - val_loss: 0.5775 - val_accuracy: 0.7665\n",
            "Epoch 2/25\n",
            "102/102 [==============================] - 35s 341ms/step - loss: 0.5678 - accuracy: 0.7290 - val_loss: 0.5183 - val_accuracy: 0.8364\n",
            "Epoch 3/25\n",
            "102/102 [==============================] - 35s 346ms/step - loss: 0.5183 - accuracy: 0.7838 - val_loss: 0.4810 - val_accuracy: 0.8640\n",
            "Epoch 4/25\n",
            "102/102 [==============================] - 35s 346ms/step - loss: 0.4893 - accuracy: 0.8113 - val_loss: 0.4536 - val_accuracy: 0.8695\n",
            "Epoch 5/25\n",
            "102/102 [==============================] - 34s 334ms/step - loss: 0.4626 - accuracy: 0.8356 - val_loss: 0.4324 - val_accuracy: 0.8768\n",
            "Epoch 6/25\n",
            "102/102 [==============================] - 34s 336ms/step - loss: 0.4449 - accuracy: 0.8417 - val_loss: 0.4152 - val_accuracy: 0.8814\n"
          ]
        },
        {
          "name": "stderr",
          "output_type": "stream",
          "text": [
            "/usr/local/lib/python3.7/dist-packages/pandas/core/indexing.py:1734: SettingWithCopyWarning: \n",
            "A value is trying to be set on a copy of a slice from a DataFrame.\n",
            "Try using .loc[row_indexer,col_indexer] = value instead\n",
            "\n",
            "See the caveats in the documentation: https://pandas.pydata.org/pandas-docs/stable/user_guide/indexing.html#returning-a-view-versus-a-copy\n",
            "  isetter(loc, value[:, i].tolist())\n"
          ]
        },
        {
          "name": "stdout",
          "output_type": "stream",
          "text": [
            "Index(['Unnamed: 0', 'id', 'keyword', 'location', 'text', 'target',\n",
            "       'trainable', 'preprocessed_text', 'keyword_mean', 'prediction'],\n",
            "      dtype='object')\n",
            "<bound method NDFrame.head of       Unnamed: 0     id  ... keyword_mean prediction\n",
            "0              0      1  ...     0.688525        NaN\n",
            "1              1      4  ...     0.688525   0.730311\n",
            "2              2      5  ...     0.688525        NaN\n",
            "3              3      6  ...     0.688525   0.876164\n",
            "4              4      7  ...     0.688525   0.581156\n",
            "...          ...    ...  ...          ...        ...\n",
            "7608        7608  10869  ...     0.688525        NaN\n",
            "7609        7609  10870  ...     0.688525   0.733092\n",
            "7610        7610  10871  ...     0.688525   0.832752\n",
            "7611        7611  10872  ...     0.688525        NaN\n",
            "7612        7612  10873  ...     0.688525   0.752123\n",
            "\n",
            "[7613 rows x 10 columns]>\n",
            "3th run:\n",
            "accuracy: 0.8814338235294118\n",
            "precision:0.8626609442060086\n",
            "recall:0.860813704496788\n",
            "\n",
            "Epoch 1/25\n",
            "102/102 [==============================] - 36s 345ms/step - loss: 0.5816 - accuracy: 0.7206 - val_loss: 0.5141 - val_accuracy: 0.8364\n",
            "Epoch 2/25\n",
            "102/102 [==============================] - 35s 342ms/step - loss: 0.5222 - accuracy: 0.7844 - val_loss: 0.4749 - val_accuracy: 0.8621\n",
            "Epoch 3/25\n",
            "102/102 [==============================] - 34s 338ms/step - loss: 0.4874 - accuracy: 0.8112 - val_loss: 0.4507 - val_accuracy: 0.8759\n",
            "Epoch 4/25\n",
            "102/102 [==============================] - 34s 338ms/step - loss: 0.4674 - accuracy: 0.8287 - val_loss: 0.4330 - val_accuracy: 0.8814\n",
            "Epoch 5/25\n",
            "102/102 [==============================] - 35s 340ms/step - loss: 0.4492 - accuracy: 0.8421 - val_loss: 0.4191 - val_accuracy: 0.8805\n"
          ]
        },
        {
          "name": "stderr",
          "output_type": "stream",
          "text": [
            "/usr/local/lib/python3.7/dist-packages/pandas/core/indexing.py:1734: SettingWithCopyWarning: \n",
            "A value is trying to be set on a copy of a slice from a DataFrame.\n",
            "Try using .loc[row_indexer,col_indexer] = value instead\n",
            "\n",
            "See the caveats in the documentation: https://pandas.pydata.org/pandas-docs/stable/user_guide/indexing.html#returning-a-view-versus-a-copy\n",
            "  isetter(loc, value[:, i].tolist())\n"
          ]
        },
        {
          "name": "stdout",
          "output_type": "stream",
          "text": [
            "Index(['Unnamed: 0', 'id', 'keyword', 'location', 'text', 'target',\n",
            "       'trainable', 'preprocessed_text', 'keyword_mean', 'prediction'],\n",
            "      dtype='object')\n",
            "<bound method NDFrame.head of       Unnamed: 0     id  ... keyword_mean prediction\n",
            "0              0      1  ...     0.688525   0.437023\n",
            "1              1      4  ...     0.688525   0.730311\n",
            "2              2      5  ...     0.688525        NaN\n",
            "3              3      6  ...     0.688525   0.876164\n",
            "4              4      7  ...     0.688525   0.581156\n",
            "...          ...    ...  ...          ...        ...\n",
            "7608        7608  10869  ...     0.688525        NaN\n",
            "7609        7609  10870  ...     0.688525   0.733092\n",
            "7610        7610  10871  ...     0.688525   0.832752\n",
            "7611        7611  10872  ...     0.688525        NaN\n",
            "7612        7612  10873  ...     0.688525   0.752123\n",
            "\n",
            "[7613 rows x 10 columns]>\n",
            "4th run:\n",
            "accuracy: 0.8805147058823529\n",
            "precision:0.9079903147699758\n",
            "recall:0.8029978586723768\n",
            "\n",
            "Epoch 1/25\n",
            "102/102 [==============================] - 36s 343ms/step - loss: 0.6365 - accuracy: 0.6071 - val_loss: 0.5609 - val_accuracy: 0.7498\n",
            "Epoch 2/25\n",
            "102/102 [==============================] - 35s 339ms/step - loss: 0.5563 - accuracy: 0.7360 - val_loss: 0.5041 - val_accuracy: 0.8142\n",
            "Epoch 3/25\n",
            "102/102 [==============================] - 35s 347ms/step - loss: 0.5149 - accuracy: 0.7890 - val_loss: 0.4681 - val_accuracy: 0.8436\n",
            "Epoch 4/25\n",
            "102/102 [==============================] - 35s 342ms/step - loss: 0.4844 - accuracy: 0.8137 - val_loss: 0.4415 - val_accuracy: 0.8556\n",
            "Epoch 5/25\n",
            "102/102 [==============================] - 35s 340ms/step - loss: 0.4622 - accuracy: 0.8287 - val_loss: 0.4210 - val_accuracy: 0.8629\n",
            "Epoch 6/25\n",
            "102/102 [==============================] - 35s 340ms/step - loss: 0.4453 - accuracy: 0.8419 - val_loss: 0.4043 - val_accuracy: 0.8648\n",
            "Epoch 7/25\n",
            "102/102 [==============================] - 35s 340ms/step - loss: 0.4290 - accuracy: 0.8472 - val_loss: 0.3906 - val_accuracy: 0.8675\n",
            "Epoch 8/25\n",
            "102/102 [==============================] - 35s 344ms/step - loss: 0.4168 - accuracy: 0.8560 - val_loss: 0.3791 - val_accuracy: 0.8740\n",
            "Epoch 9/25\n",
            "102/102 [==============================] - 35s 339ms/step - loss: 0.4119 - accuracy: 0.8523 - val_loss: 0.3694 - val_accuracy: 0.8776\n"
          ]
        },
        {
          "name": "stderr",
          "output_type": "stream",
          "text": [
            "/usr/local/lib/python3.7/dist-packages/pandas/core/indexing.py:1734: SettingWithCopyWarning: \n",
            "A value is trying to be set on a copy of a slice from a DataFrame.\n",
            "Try using .loc[row_indexer,col_indexer] = value instead\n",
            "\n",
            "See the caveats in the documentation: https://pandas.pydata.org/pandas-docs/stable/user_guide/indexing.html#returning-a-view-versus-a-copy\n",
            "  isetter(loc, value[:, i].tolist())\n"
          ]
        },
        {
          "name": "stdout",
          "output_type": "stream",
          "text": [
            "Index(['Unnamed: 0', 'id', 'keyword', 'location', 'text', 'target',\n",
            "       'trainable', 'preprocessed_text', 'keyword_mean', 'prediction'],\n",
            "      dtype='object')\n",
            "<bound method NDFrame.head of       Unnamed: 0     id  ... keyword_mean prediction\n",
            "0              0      1  ...     0.688525   0.437023\n",
            "1              1      4  ...     0.688525   0.730311\n",
            "2              2      5  ...     0.688525        NaN\n",
            "3              3      6  ...     0.688525   0.876164\n",
            "4              4      7  ...     0.688525   0.581156\n",
            "...          ...    ...  ...          ...        ...\n",
            "7608        7608  10869  ...     0.688525        NaN\n",
            "7609        7609  10870  ...     0.688525   0.733092\n",
            "7610        7610  10871  ...     0.688525   0.832752\n",
            "7611        7611  10872  ...     0.688525        NaN\n",
            "7612        7612  10873  ...     0.688525   0.752123\n",
            "\n",
            "[7613 rows x 10 columns]>\n",
            "5th run:\n",
            "accuracy: 0.8776448942042319\n",
            "precision:0.8583690987124464\n",
            "recall:0.8565310492505354\n",
            "\n",
            "Epoch 1/25\n",
            "102/102 [==============================] - 36s 346ms/step - loss: 0.7050 - accuracy: 0.5719 - val_loss: 0.6034 - val_accuracy: 0.7369\n",
            "Epoch 2/25\n",
            "102/102 [==============================] - 35s 340ms/step - loss: 0.5952 - accuracy: 0.6989 - val_loss: 0.5379 - val_accuracy: 0.8123\n",
            "Epoch 3/25\n",
            "102/102 [==============================] - 35s 339ms/step - loss: 0.5415 - accuracy: 0.7605 - val_loss: 0.4971 - val_accuracy: 0.8519\n",
            "Epoch 4/25\n",
            "102/102 [==============================] - 36s 352ms/step - loss: 0.4980 - accuracy: 0.8028 - val_loss: 0.4690 - val_accuracy: 0.8620\n",
            "Epoch 5/25\n",
            "102/102 [==============================] - 35s 347ms/step - loss: 0.4792 - accuracy: 0.8138 - val_loss: 0.4475 - val_accuracy: 0.8620\n",
            "Epoch 6/25\n",
            "102/102 [==============================] - ETA: 0s - loss: 0.4543 - accuracy: 0.8311"
          ]
        }
      ]
    },
    {
      "cell_type": "markdown",
      "metadata": {
        "id": "U8IbtXZrW2FG"
      },
      "source": [
        "Model 1 actually got 80.171% score on the test set."
      ]
    },
    {
      "cell_type": "code",
      "metadata": {
        "id": "KEuM77nbuK9_"
      },
      "source": [
        "test_df['preprocessed_text']=test_df['preprocessed_text'].fillna('great')\n",
        "test_df['predictions']=(model.predict([test_df['preprocessed_text'].values,test_df['keyword_mean'].values])>0.5).astype(int)\n",
        "test_df[['id','predictions']].set_index('id').rename(columns={'predictions':'target'}).to_csv('model1_submission.csv')"
      ],
      "execution_count": null,
      "outputs": []
    },
    {
      "cell_type": "markdown",
      "metadata": {
        "id": "q4RfONo_XhFR"
      },
      "source": [
        "<b>Model 2</b>"
      ]
    },
    {
      "cell_type": "code",
      "metadata": {
        "id": "JkCwlyjIRC6t"
      },
      "source": [
        "def model2():\n",
        "  rate=0.4\n",
        "\n",
        "  text_inputs=keras.layers.Input(shape=(),dtype=tf.string,name='Text_Input')\n",
        "  keyword_inputs=keras.layers.Input(shape=(1,),name='Keyword_Stats')\n",
        "\n",
        "  # preprocessed_text=preprocessor(text_inputs)\n",
        "  # outputs=encoder(preprocessed_text)\n",
        "\n",
        "  BERT_output=BERT_model(text_inputs)\n",
        "\n",
        "  x=keras.layers.Dropout(rate=rate,name='Dropout_on_BERT_2')(BERT_output)#outputs['pooled_output'])\n",
        "\n",
        "  dropout_keyword=keras.layers.Dropout(rate=0.1,name='Dropout_on_keyword')(keyword_inputs)#outputs['pooled_output'])\n",
        "  \n",
        "  #x=keras.layers.Conv1D(30,3)(tf.expand_dims(x,-1))\n",
        "\n",
        "  #x=keras.layers.Flatten()(x)\n",
        "  \n",
        "  #x=keras.layers.Concatenate(name='Concat_BERT_keywordStats_2')([x,keyword_inputs])\n",
        "  x=keras.layers.Concatenate(name='Concat_BERT_keywordStats_2')([x,dropout_keyword])\n",
        "\n",
        "  x=tf.expand_dims(x,axis=-1)\n",
        "  x=keras.layers.Conv1D(100,5,activation='relu',name='Conv_layer_1')(x)\n",
        "  #x=keras.layers.Flatten()(x)\n",
        "  x=keras.layers.GlobalMaxPooling1D()(x)\n",
        "  x=keras.layers.Dropout(rate=rate,name='Dropout_1_2')(x)\n",
        "\n",
        "  x=keras.layers.Dense(20,activation='relu',name='hidden_layer_1')(x)\n",
        "\n",
        "  y=keras.layers.Dense(1,activation='sigmoid',name='output_2',kernel_regularizer=keras.regularizers.L2())(x)\n",
        "\n",
        "  model=keras.Model([text_inputs,keyword_inputs],y,name='Model_2')\n",
        "\n",
        "  #model.compile()\n",
        "  \n",
        "  return model"
      ],
      "execution_count": null,
      "outputs": []
    },
    {
      "cell_type": "code",
      "metadata": {
        "colab": {
          "base_uri": "https://localhost:8080/",
          "height": 1000
        },
        "id": "eXSX3m21RKMb",
        "outputId": "1763d01b-1f98-4b9c-bd88-3f760f7e7329"
      },
      "source": [
        "compile_dic={'optimizer':keras.optimizers.Adam(1e-3,clipvalue=2),\n",
        "             'loss':keras.losses.binary_crossentropy,\n",
        "             'metrics':['accuracy']}\n",
        "batch_size=64\n",
        "epochs=25\n",
        "callbacks=[EarlyStopping(monitor='val_accuracy',min_delta=0.002,patience=3,mode='max',restore_best_weights=True)]\n",
        "model2_results,model2_df=valuate_model(train_df,\n",
        "                                       model2,\n",
        "                                       target_column='target',\n",
        "                                       use_keyword=True,\n",
        "                                       compile_dic=compile_dic,\n",
        "                                       batch_size=batch_size,\n",
        "                                       epochs=epochs,\n",
        "                                       callbacks=callbacks)"
      ],
      "execution_count": null,
      "outputs": [
        {
          "name": "stderr",
          "output_type": "stream",
          "text": [
            "/usr/local/lib/python3.7/dist-packages/ipykernel_launcher.py:11: SettingWithCopyWarning: \n",
            "A value is trying to be set on a copy of a slice from a DataFrame.\n",
            "Try using .loc[row_indexer,col_indexer] = value instead\n",
            "\n",
            "See the caveats in the documentation: https://pandas.pydata.org/pandas-docs/stable/user_guide/indexing.html#returning-a-view-versus-a-copy\n",
            "  # This is added back by InteractiveShellApp.init_path()\n"
          ]
        },
        {
          "name": "stdout",
          "output_type": "stream",
          "text": [
            "Model: \"Model_2\"\n",
            "__________________________________________________________________________________________________\n",
            "Layer (type)                    Output Shape         Param #     Connected to                     \n",
            "==================================================================================================\n",
            "Text_Input (InputLayer)         [(None,)]            0                                            \n",
            "__________________________________________________________________________________________________\n",
            "BERT_Model (Functional)         (None, 128)          4385921     Text_Input[0][0]                 \n",
            "__________________________________________________________________________________________________\n",
            "Dropout_on_BERT_2 (Dropout)     (None, 128)          0           BERT_Model[4][0]                 \n",
            "__________________________________________________________________________________________________\n",
            "Keyword_Stats (InputLayer)      [(None, 1)]          0                                            \n",
            "__________________________________________________________________________________________________\n",
            "Concat_BERT_keywordStats_2 (Con (None, 129)          0           Dropout_on_BERT_2[0][0]          \n",
            "                                                                 Keyword_Stats[0][0]              \n",
            "__________________________________________________________________________________________________\n",
            "tf.expand_dims_3 (TFOpLambda)   (None, 129, 1)       0           Concat_BERT_keywordStats_2[0][0] \n",
            "__________________________________________________________________________________________________\n",
            "Conv_layer_1 (Conv1D)           (None, 121, 150)     1500        tf.expand_dims_3[0][0]           \n",
            "__________________________________________________________________________________________________\n",
            "global_max_pooling1d_2 (GlobalM (None, 150)          0           Conv_layer_1[0][0]               \n",
            "__________________________________________________________________________________________________\n",
            "Dropout_1_2 (Dropout)           (None, 150)          0           global_max_pooling1d_2[0][0]     \n",
            "__________________________________________________________________________________________________\n",
            "hidden_layer_1 (Dense)          (None, 10)           1510        Dropout_1_2[0][0]                \n",
            "__________________________________________________________________________________________________\n",
            "output_2 (Dense)                (None, 1)            11          hidden_layer_1[0][0]             \n",
            "==================================================================================================\n",
            "Total params: 4,388,942\n",
            "Trainable params: 3,021\n",
            "Non-trainable params: 4,385,921\n",
            "__________________________________________________________________________________________________\n",
            "Epoch 1/25\n",
            "102/102 [==============================] - 32s 300ms/step - loss: 0.7919 - accuracy: 0.5911 - val_loss: 0.6934 - val_accuracy: 0.7031\n",
            "Epoch 2/25\n",
            "102/102 [==============================] - 30s 294ms/step - loss: 0.6700 - accuracy: 0.6869 - val_loss: 0.5671 - val_accuracy: 0.8851\n",
            "Epoch 3/25\n",
            "102/102 [==============================] - 30s 290ms/step - loss: 0.5972 - accuracy: 0.7404 - val_loss: 0.4670 - val_accuracy: 0.8805\n",
            "Epoch 4/25\n",
            "102/102 [==============================] - 30s 292ms/step - loss: 0.5708 - accuracy: 0.7514 - val_loss: 0.4262 - val_accuracy: 0.8934\n",
            "Epoch 5/25\n",
            "102/102 [==============================] - 29s 288ms/step - loss: 0.5570 - accuracy: 0.7562 - val_loss: 0.4309 - val_accuracy: 0.8649\n",
            "Epoch 6/25\n",
            "102/102 [==============================] - 29s 289ms/step - loss: 0.5408 - accuracy: 0.7644 - val_loss: 0.4085 - val_accuracy: 0.8768\n",
            "Epoch 7/25\n",
            "102/102 [==============================] - 30s 293ms/step - loss: 0.5411 - accuracy: 0.7686 - val_loss: 0.4176 - val_accuracy: 0.8667\n"
          ]
        },
        {
          "name": "stderr",
          "output_type": "stream",
          "text": [
            "/usr/local/lib/python3.7/dist-packages/pandas/core/indexing.py:1734: SettingWithCopyWarning: \n",
            "A value is trying to be set on a copy of a slice from a DataFrame.\n",
            "Try using .loc[row_indexer,col_indexer] = value instead\n",
            "\n",
            "See the caveats in the documentation: https://pandas.pydata.org/pandas-docs/stable/user_guide/indexing.html#returning-a-view-versus-a-copy\n",
            "  isetter(loc, value[:, i].tolist())\n"
          ]
        },
        {
          "name": "stdout",
          "output_type": "stream",
          "text": [
            "Index(['Unnamed: 0', 'id', 'keyword', 'location', 'text', 'target',\n",
            "       'trainable', 'preprocessed_text', 'keyword_mean', 'predictions_prob',\n",
            "       'predictions', 'prediction'],\n",
            "      dtype='object')\n",
            "<bound method NDFrame.head of       Unnamed: 0     id keyword  ... predictions_prob predictions  prediction\n",
            "0              0      1     unk  ...         0.716353           1         NaN\n",
            "1              1      4     unk  ...         0.850362           1         NaN\n",
            "2              2      5     unk  ...         0.886733           1         NaN\n",
            "3              3      6     unk  ...         0.902150           1    0.837067\n",
            "4              4      7     unk  ...         0.743479           1         NaN\n",
            "...          ...    ...     ...  ...              ...         ...         ...\n",
            "7608        7608  10869     unk  ...         0.862045           1         NaN\n",
            "7609        7609  10870     unk  ...         0.856212           1         NaN\n",
            "7610        7610  10871     unk  ...         0.874403           1         NaN\n",
            "7611        7611  10872     unk  ...         0.850991           1         NaN\n",
            "7612        7612  10873     unk  ...         0.901443           1         NaN\n",
            "\n",
            "[7613 rows x 12 columns]>\n",
            "1th run:\n",
            "accuracy: 0.8933823529411765\n",
            "precision:0.9378109452736318\n",
            "recall:0.8055555555555556\n",
            "\n",
            "Epoch 1/25\n",
            "102/102 [==============================] - 31s 289ms/step - loss: 0.6821 - accuracy: 0.6682 - val_loss: 0.5194 - val_accuracy: 0.8787\n",
            "Epoch 2/25\n",
            "102/102 [==============================] - 30s 295ms/step - loss: 0.5941 - accuracy: 0.7263 - val_loss: 0.4656 - val_accuracy: 0.8722\n",
            "Epoch 3/25\n",
            "102/102 [==============================] - 28s 279ms/step - loss: 0.5634 - accuracy: 0.7533 - val_loss: 0.4494 - val_accuracy: 0.8474\n",
            "Epoch 4/25\n",
            "102/102 [==============================] - 30s 293ms/step - loss: 0.5497 - accuracy: 0.7667 - val_loss: 0.4289 - val_accuracy: 0.8676\n"
          ]
        },
        {
          "name": "stderr",
          "output_type": "stream",
          "text": [
            "/usr/local/lib/python3.7/dist-packages/pandas/core/indexing.py:1734: SettingWithCopyWarning: \n",
            "A value is trying to be set on a copy of a slice from a DataFrame.\n",
            "Try using .loc[row_indexer,col_indexer] = value instead\n",
            "\n",
            "See the caveats in the documentation: https://pandas.pydata.org/pandas-docs/stable/user_guide/indexing.html#returning-a-view-versus-a-copy\n",
            "  isetter(loc, value[:, i].tolist())\n"
          ]
        },
        {
          "name": "stdout",
          "output_type": "stream",
          "text": [
            "Index(['Unnamed: 0', 'id', 'keyword', 'location', 'text', 'target',\n",
            "       'trainable', 'preprocessed_text', 'keyword_mean', 'predictions_prob',\n",
            "       'predictions', 'prediction'],\n",
            "      dtype='object')\n",
            "<bound method NDFrame.head of       Unnamed: 0     id keyword  ... predictions_prob predictions  prediction\n",
            "0              0      1     unk  ...         0.716353           1         NaN\n",
            "1              1      4     unk  ...         0.850362           1    0.728285\n",
            "2              2      5     unk  ...         0.886733           1         NaN\n",
            "3              3      6     unk  ...         0.902150           1    0.837067\n",
            "4              4      7     unk  ...         0.743479           1    0.680939\n",
            "...          ...    ...     ...  ...              ...         ...         ...\n",
            "7608        7608  10869     unk  ...         0.862045           1         NaN\n",
            "7609        7609  10870     unk  ...         0.856212           1         NaN\n",
            "7610        7610  10871     unk  ...         0.874403           1    0.653266\n",
            "7611        7611  10872     unk  ...         0.850991           1         NaN\n",
            "7612        7612  10873     unk  ...         0.901443           1         NaN\n",
            "\n",
            "[7613 rows x 12 columns]>\n",
            "2th run:\n",
            "accuracy: 0.8786764705882353\n",
            "precision:0.8925233644859814\n",
            "recall:0.8162393162393162\n",
            "\n",
            "Epoch 1/25\n",
            "102/102 [==============================] - 32s 301ms/step - loss: 0.6960 - accuracy: 0.6743 - val_loss: 0.5109 - val_accuracy: 0.8548\n",
            "Epoch 2/25\n",
            "102/102 [==============================] - 29s 282ms/step - loss: 0.5868 - accuracy: 0.7464 - val_loss: 0.4473 - val_accuracy: 0.8722\n",
            "Epoch 3/25\n",
            "102/102 [==============================] - 31s 300ms/step - loss: 0.5609 - accuracy: 0.7600 - val_loss: 0.4321 - val_accuracy: 0.8640\n",
            "Epoch 4/25\n",
            "102/102 [==============================] - 30s 294ms/step - loss: 0.5396 - accuracy: 0.7733 - val_loss: 0.4318 - val_accuracy: 0.8529\n",
            "Epoch 5/25\n",
            "102/102 [==============================] - 30s 293ms/step - loss: 0.5304 - accuracy: 0.7793 - val_loss: 0.4362 - val_accuracy: 0.8410\n"
          ]
        },
        {
          "name": "stderr",
          "output_type": "stream",
          "text": [
            "/usr/local/lib/python3.7/dist-packages/pandas/core/indexing.py:1734: SettingWithCopyWarning: \n",
            "A value is trying to be set on a copy of a slice from a DataFrame.\n",
            "Try using .loc[row_indexer,col_indexer] = value instead\n",
            "\n",
            "See the caveats in the documentation: https://pandas.pydata.org/pandas-docs/stable/user_guide/indexing.html#returning-a-view-versus-a-copy\n",
            "  isetter(loc, value[:, i].tolist())\n"
          ]
        },
        {
          "name": "stdout",
          "output_type": "stream",
          "text": [
            "Index(['Unnamed: 0', 'id', 'keyword', 'location', 'text', 'target',\n",
            "       'trainable', 'preprocessed_text', 'keyword_mean', 'predictions_prob',\n",
            "       'predictions', 'prediction'],\n",
            "      dtype='object')\n",
            "<bound method NDFrame.head of       Unnamed: 0     id keyword  ... predictions_prob predictions  prediction\n",
            "0              0      1     unk  ...         0.716353           1         NaN\n",
            "1              1      4     unk  ...         0.850362           1    0.728285\n",
            "2              2      5     unk  ...         0.886733           1         NaN\n",
            "3              3      6     unk  ...         0.902150           1    0.837067\n",
            "4              4      7     unk  ...         0.743479           1    0.680939\n",
            "...          ...    ...     ...  ...              ...         ...         ...\n",
            "7608        7608  10869     unk  ...         0.862045           1         NaN\n",
            "7609        7609  10870     unk  ...         0.856212           1    0.723357\n",
            "7610        7610  10871     unk  ...         0.874403           1    0.653266\n",
            "7611        7611  10872     unk  ...         0.850991           1         NaN\n",
            "7612        7612  10873     unk  ...         0.901443           1    0.832135\n",
            "\n",
            "[7613 rows x 12 columns]>\n",
            "3th run:\n",
            "accuracy: 0.8722426470588235\n",
            "precision:0.9338624338624338\n",
            "recall:0.7558886509635975\n",
            "\n",
            "Epoch 1/25\n",
            "102/102 [==============================] - 32s 304ms/step - loss: 0.6899 - accuracy: 0.6680 - val_loss: 0.4997 - val_accuracy: 0.8713\n",
            "Epoch 2/25\n",
            "102/102 [==============================] - 30s 299ms/step - loss: 0.5758 - accuracy: 0.7398 - val_loss: 0.4432 - val_accuracy: 0.8695\n",
            "Epoch 3/25\n",
            "102/102 [==============================] - 31s 300ms/step - loss: 0.5333 - accuracy: 0.7743 - val_loss: 0.4326 - val_accuracy: 0.8585\n",
            "Epoch 4/25\n",
            " 45/102 [============>.................] - ETA: 14s - loss: 0.5324 - accuracy: 0.7719"
          ]
        },
        {
          "ename": "KeyboardInterrupt",
          "evalue": "ignored",
          "output_type": "error",
          "traceback": [
            "\u001b[0;31m---------------------------------------------------------------------------\u001b[0m",
            "\u001b[0;31mKeyboardInterrupt\u001b[0m                         Traceback (most recent call last)",
            "\u001b[0;32m<ipython-input-31-d4632e76ebce>\u001b[0m in \u001b[0;36m<module>\u001b[0;34m()\u001b[0m\n\u001b[1;32m     12\u001b[0m                                        \u001b[0mbatch_size\u001b[0m\u001b[0;34m=\u001b[0m\u001b[0mbatch_size\u001b[0m\u001b[0;34m,\u001b[0m\u001b[0;34m\u001b[0m\u001b[0;34m\u001b[0m\u001b[0m\n\u001b[1;32m     13\u001b[0m                                        \u001b[0mepochs\u001b[0m\u001b[0;34m=\u001b[0m\u001b[0mepochs\u001b[0m\u001b[0;34m,\u001b[0m\u001b[0;34m\u001b[0m\u001b[0;34m\u001b[0m\u001b[0m\n\u001b[0;32m---> 14\u001b[0;31m                                        callbacks=callbacks)\n\u001b[0m",
            "\u001b[0;32m<ipython-input-8-4f5f01dc6f4a>\u001b[0m in \u001b[0;36mvaluate_model\u001b[0;34m(df, model_creation_function, target_column, use_keyword, compile_dic, **kwargs)\u001b[0m\n\u001b[1;32m     50\u001b[0m                    \u001b[0my_train\u001b[0m\u001b[0;34m,\u001b[0m\u001b[0;34m\u001b[0m\u001b[0;34m\u001b[0m\u001b[0m\n\u001b[1;32m     51\u001b[0m                    \u001b[0mvalidation_data\u001b[0m\u001b[0;34m=\u001b[0m\u001b[0;34m(\u001b[0m\u001b[0;34m[\u001b[0m\u001b[0mX_val_text\u001b[0m\u001b[0;34m,\u001b[0m\u001b[0mX_val_keyword\u001b[0m\u001b[0;34m]\u001b[0m\u001b[0;34m,\u001b[0m\u001b[0my_val\u001b[0m\u001b[0;34m)\u001b[0m\u001b[0;34m,\u001b[0m\u001b[0;34m\u001b[0m\u001b[0;34m\u001b[0m\u001b[0m\n\u001b[0;32m---> 52\u001b[0;31m                    **kwargs)\n\u001b[0m\u001b[1;32m     53\u001b[0m \u001b[0;34m\u001b[0m\u001b[0m\n\u001b[1;32m     54\u001b[0m     \u001b[0;31m#make sure the weights of the BERT model did not change\u001b[0m\u001b[0;34m\u001b[0m\u001b[0;34m\u001b[0m\u001b[0;34m\u001b[0m\u001b[0m\n",
            "\u001b[0;32m/usr/local/lib/python3.7/dist-packages/keras/engine/training.py\u001b[0m in \u001b[0;36mfit\u001b[0;34m(self, x, y, batch_size, epochs, verbose, callbacks, validation_split, validation_data, shuffle, class_weight, sample_weight, initial_epoch, steps_per_epoch, validation_steps, validation_batch_size, validation_freq, max_queue_size, workers, use_multiprocessing)\u001b[0m\n\u001b[1;32m   1182\u001b[0m                 _r=1):\n\u001b[1;32m   1183\u001b[0m               \u001b[0mcallbacks\u001b[0m\u001b[0;34m.\u001b[0m\u001b[0mon_train_batch_begin\u001b[0m\u001b[0;34m(\u001b[0m\u001b[0mstep\u001b[0m\u001b[0;34m)\u001b[0m\u001b[0;34m\u001b[0m\u001b[0;34m\u001b[0m\u001b[0m\n\u001b[0;32m-> 1184\u001b[0;31m               \u001b[0mtmp_logs\u001b[0m \u001b[0;34m=\u001b[0m \u001b[0mself\u001b[0m\u001b[0;34m.\u001b[0m\u001b[0mtrain_function\u001b[0m\u001b[0;34m(\u001b[0m\u001b[0miterator\u001b[0m\u001b[0;34m)\u001b[0m\u001b[0;34m\u001b[0m\u001b[0;34m\u001b[0m\u001b[0m\n\u001b[0m\u001b[1;32m   1185\u001b[0m               \u001b[0;32mif\u001b[0m \u001b[0mdata_handler\u001b[0m\u001b[0;34m.\u001b[0m\u001b[0mshould_sync\u001b[0m\u001b[0;34m:\u001b[0m\u001b[0;34m\u001b[0m\u001b[0;34m\u001b[0m\u001b[0m\n\u001b[1;32m   1186\u001b[0m                 \u001b[0mcontext\u001b[0m\u001b[0;34m.\u001b[0m\u001b[0masync_wait\u001b[0m\u001b[0;34m(\u001b[0m\u001b[0;34m)\u001b[0m\u001b[0;34m\u001b[0m\u001b[0;34m\u001b[0m\u001b[0m\n",
            "\u001b[0;32m/usr/local/lib/python3.7/dist-packages/tensorflow/python/eager/def_function.py\u001b[0m in \u001b[0;36m__call__\u001b[0;34m(self, *args, **kwds)\u001b[0m\n\u001b[1;32m    883\u001b[0m \u001b[0;34m\u001b[0m\u001b[0m\n\u001b[1;32m    884\u001b[0m       \u001b[0;32mwith\u001b[0m \u001b[0mOptionalXlaContext\u001b[0m\u001b[0;34m(\u001b[0m\u001b[0mself\u001b[0m\u001b[0;34m.\u001b[0m\u001b[0m_jit_compile\u001b[0m\u001b[0;34m)\u001b[0m\u001b[0;34m:\u001b[0m\u001b[0;34m\u001b[0m\u001b[0;34m\u001b[0m\u001b[0m\n\u001b[0;32m--> 885\u001b[0;31m         \u001b[0mresult\u001b[0m \u001b[0;34m=\u001b[0m \u001b[0mself\u001b[0m\u001b[0;34m.\u001b[0m\u001b[0m_call\u001b[0m\u001b[0;34m(\u001b[0m\u001b[0;34m*\u001b[0m\u001b[0margs\u001b[0m\u001b[0;34m,\u001b[0m \u001b[0;34m**\u001b[0m\u001b[0mkwds\u001b[0m\u001b[0;34m)\u001b[0m\u001b[0;34m\u001b[0m\u001b[0;34m\u001b[0m\u001b[0m\n\u001b[0m\u001b[1;32m    886\u001b[0m \u001b[0;34m\u001b[0m\u001b[0m\n\u001b[1;32m    887\u001b[0m       \u001b[0mnew_tracing_count\u001b[0m \u001b[0;34m=\u001b[0m \u001b[0mself\u001b[0m\u001b[0;34m.\u001b[0m\u001b[0mexperimental_get_tracing_count\u001b[0m\u001b[0;34m(\u001b[0m\u001b[0;34m)\u001b[0m\u001b[0;34m\u001b[0m\u001b[0;34m\u001b[0m\u001b[0m\n",
            "\u001b[0;32m/usr/local/lib/python3.7/dist-packages/tensorflow/python/eager/def_function.py\u001b[0m in \u001b[0;36m_call\u001b[0;34m(self, *args, **kwds)\u001b[0m\n\u001b[1;32m    915\u001b[0m       \u001b[0;31m# In this case we have created variables on the first call, so we run the\u001b[0m\u001b[0;34m\u001b[0m\u001b[0;34m\u001b[0m\u001b[0;34m\u001b[0m\u001b[0m\n\u001b[1;32m    916\u001b[0m       \u001b[0;31m# defunned version which is guaranteed to never create variables.\u001b[0m\u001b[0;34m\u001b[0m\u001b[0;34m\u001b[0m\u001b[0;34m\u001b[0m\u001b[0m\n\u001b[0;32m--> 917\u001b[0;31m       \u001b[0;32mreturn\u001b[0m \u001b[0mself\u001b[0m\u001b[0;34m.\u001b[0m\u001b[0m_stateless_fn\u001b[0m\u001b[0;34m(\u001b[0m\u001b[0;34m*\u001b[0m\u001b[0margs\u001b[0m\u001b[0;34m,\u001b[0m \u001b[0;34m**\u001b[0m\u001b[0mkwds\u001b[0m\u001b[0;34m)\u001b[0m  \u001b[0;31m# pylint: disable=not-callable\u001b[0m\u001b[0;34m\u001b[0m\u001b[0;34m\u001b[0m\u001b[0m\n\u001b[0m\u001b[1;32m    918\u001b[0m     \u001b[0;32melif\u001b[0m \u001b[0mself\u001b[0m\u001b[0;34m.\u001b[0m\u001b[0m_stateful_fn\u001b[0m \u001b[0;32mis\u001b[0m \u001b[0;32mnot\u001b[0m \u001b[0;32mNone\u001b[0m\u001b[0;34m:\u001b[0m\u001b[0;34m\u001b[0m\u001b[0;34m\u001b[0m\u001b[0m\n\u001b[1;32m    919\u001b[0m       \u001b[0;31m# Release the lock early so that multiple threads can perform the call\u001b[0m\u001b[0;34m\u001b[0m\u001b[0;34m\u001b[0m\u001b[0;34m\u001b[0m\u001b[0m\n",
            "\u001b[0;32m/usr/local/lib/python3.7/dist-packages/tensorflow/python/eager/function.py\u001b[0m in \u001b[0;36m__call__\u001b[0;34m(self, *args, **kwargs)\u001b[0m\n\u001b[1;32m   3038\u001b[0m        filtered_flat_args) = self._maybe_define_function(args, kwargs)\n\u001b[1;32m   3039\u001b[0m     return graph_function._call_flat(\n\u001b[0;32m-> 3040\u001b[0;31m         filtered_flat_args, captured_inputs=graph_function.captured_inputs)  # pylint: disable=protected-access\n\u001b[0m\u001b[1;32m   3041\u001b[0m \u001b[0;34m\u001b[0m\u001b[0m\n\u001b[1;32m   3042\u001b[0m   \u001b[0;34m@\u001b[0m\u001b[0mproperty\u001b[0m\u001b[0;34m\u001b[0m\u001b[0;34m\u001b[0m\u001b[0m\n",
            "\u001b[0;32m/usr/local/lib/python3.7/dist-packages/tensorflow/python/eager/function.py\u001b[0m in \u001b[0;36m_call_flat\u001b[0;34m(self, args, captured_inputs, cancellation_manager)\u001b[0m\n\u001b[1;32m   1962\u001b[0m       \u001b[0;31m# No tape is watching; skip to running the function.\u001b[0m\u001b[0;34m\u001b[0m\u001b[0;34m\u001b[0m\u001b[0;34m\u001b[0m\u001b[0m\n\u001b[1;32m   1963\u001b[0m       return self._build_call_outputs(self._inference_function.call(\n\u001b[0;32m-> 1964\u001b[0;31m           ctx, args, cancellation_manager=cancellation_manager))\n\u001b[0m\u001b[1;32m   1965\u001b[0m     forward_backward = self._select_forward_and_backward_functions(\n\u001b[1;32m   1966\u001b[0m         \u001b[0margs\u001b[0m\u001b[0;34m,\u001b[0m\u001b[0;34m\u001b[0m\u001b[0;34m\u001b[0m\u001b[0m\n",
            "\u001b[0;32m/usr/local/lib/python3.7/dist-packages/tensorflow/python/eager/function.py\u001b[0m in \u001b[0;36mcall\u001b[0;34m(self, ctx, args, cancellation_manager)\u001b[0m\n\u001b[1;32m    594\u001b[0m               \u001b[0minputs\u001b[0m\u001b[0;34m=\u001b[0m\u001b[0margs\u001b[0m\u001b[0;34m,\u001b[0m\u001b[0;34m\u001b[0m\u001b[0;34m\u001b[0m\u001b[0m\n\u001b[1;32m    595\u001b[0m               \u001b[0mattrs\u001b[0m\u001b[0;34m=\u001b[0m\u001b[0mattrs\u001b[0m\u001b[0;34m,\u001b[0m\u001b[0;34m\u001b[0m\u001b[0;34m\u001b[0m\u001b[0m\n\u001b[0;32m--> 596\u001b[0;31m               ctx=ctx)\n\u001b[0m\u001b[1;32m    597\u001b[0m         \u001b[0;32melse\u001b[0m\u001b[0;34m:\u001b[0m\u001b[0;34m\u001b[0m\u001b[0;34m\u001b[0m\u001b[0m\n\u001b[1;32m    598\u001b[0m           outputs = execute.execute_with_cancellation(\n",
            "\u001b[0;32m/usr/local/lib/python3.7/dist-packages/tensorflow/python/eager/execute.py\u001b[0m in \u001b[0;36mquick_execute\u001b[0;34m(op_name, num_outputs, inputs, attrs, ctx, name)\u001b[0m\n\u001b[1;32m     58\u001b[0m     \u001b[0mctx\u001b[0m\u001b[0;34m.\u001b[0m\u001b[0mensure_initialized\u001b[0m\u001b[0;34m(\u001b[0m\u001b[0;34m)\u001b[0m\u001b[0;34m\u001b[0m\u001b[0;34m\u001b[0m\u001b[0m\n\u001b[1;32m     59\u001b[0m     tensors = pywrap_tfe.TFE_Py_Execute(ctx._handle, device_name, op_name,\n\u001b[0;32m---> 60\u001b[0;31m                                         inputs, attrs, num_outputs)\n\u001b[0m\u001b[1;32m     61\u001b[0m   \u001b[0;32mexcept\u001b[0m \u001b[0mcore\u001b[0m\u001b[0;34m.\u001b[0m\u001b[0m_NotOkStatusException\u001b[0m \u001b[0;32mas\u001b[0m \u001b[0me\u001b[0m\u001b[0;34m:\u001b[0m\u001b[0;34m\u001b[0m\u001b[0;34m\u001b[0m\u001b[0m\n\u001b[1;32m     62\u001b[0m     \u001b[0;32mif\u001b[0m \u001b[0mname\u001b[0m \u001b[0;32mis\u001b[0m \u001b[0;32mnot\u001b[0m \u001b[0;32mNone\u001b[0m\u001b[0;34m:\u001b[0m\u001b[0;34m\u001b[0m\u001b[0;34m\u001b[0m\u001b[0m\n",
            "\u001b[0;31mKeyboardInterrupt\u001b[0m: "
          ]
        }
      ]
    },
    {
      "cell_type": "markdown",
      "metadata": {
        "id": "M7H8sNU9XdKQ"
      },
      "source": [
        "Model 2 got 80.876% score on the test set"
      ]
    },
    {
      "cell_type": "markdown",
      "metadata": {
        "id": "jmgPk70lYPKA"
      },
      "source": [
        "<b>Other Types of Models</b>"
      ]
    },
    {
      "cell_type": "markdown",
      "metadata": {
        "id": "a5O5P4zKwFuo"
      },
      "source": [
        "Next I will try to use other ML algorithms after fine-tuning the BERT model"
      ]
    },
    {
      "cell_type": "markdown",
      "metadata": {
        "id": "xnghJBvtxkRD"
      },
      "source": [
        "<h6> make the BERT_model un-trainable</h6>"
      ]
    },
    {
      "cell_type": "code",
      "metadata": {
        "id": "VBhxTfFtwNhA"
      },
      "source": [
        "compile_dic={'optimizer':keras.optimizers.Adam(1e-3,clipvalue=2),\n",
        "             'loss':keras.losses.binary_crossentropy,\n",
        "             'metrics':['accuracy']}\n",
        "BERT_model.trainable=False\n",
        "BERT_model.compile(**compile_dic)"
      ],
      "execution_count": null,
      "outputs": []
    },
    {
      "cell_type": "markdown",
      "metadata": {
        "id": "SBrvEyBqz67k"
      },
      "source": [
        "Prepare the data"
      ]
    },
    {
      "cell_type": "code",
      "metadata": {
        "colab": {
          "base_uri": "https://localhost:8080/"
        },
        "id": "EaYj4nx-z9oH",
        "outputId": "1d73cd62-f1fe-421a-da42-35a92bcf3ccc"
      },
      "source": [
        "text=train_df['preprocessed_text'].values\n",
        "keyword_mean=train_df['keyword_mean'].values\n",
        "keyword_mean=keyword_mean.reshape(-1,1)\n",
        "print('text:\\n',text)\n",
        "print('keyword_mean:\\n',keyword_mean)\n",
        "\n",
        "text_input=BERT_model.predict(text)\n",
        "\n",
        "model_input=np.concatenate((text_input,keyword_mean.reshape(-1,1)),axis=1)\n",
        "print('model_input:\\n',model_input)\n",
        "\n",
        "model_output=train_df['target'].values\n",
        "print('model_output:\\n',model_output)"
      ],
      "execution_count": null,
      "outputs": [
        {
          "output_type": "stream",
          "name": "stdout",
          "text": [
            "text:\n",
            " ['deeds reason earthquake may allah forgive us'\n",
            " 'forest fire near la ronge sask canada'\n",
            " 'residents asked shelter place notified officers evacuation shelter place orders expected'\n",
            " ... 'm194 0104 utc5km volcano hawaii'\n",
            " 'police investigating ebike collided car little portugal ebike rider suffered serious nonlife threatening injuries'\n",
            " 'latest homes razed northern california wildfire abc news']\n",
            "keyword_mean:\n",
            " [[0.68852459]\n",
            " [0.68852459]\n",
            " [0.68852459]\n",
            " ...\n",
            " [0.68852459]\n",
            " [0.68852459]\n",
            " [0.68852459]]\n",
            "model_input:\n",
            " [[-0.99709314 -0.2516757  -0.87389231 ...  0.97664136  0.92027265\n",
            "   0.68852459]\n",
            " [-0.99958247 -0.20163161 -0.48416367 ...  0.59414071  0.4769721\n",
            "   0.68852459]\n",
            " [-0.96113926 -0.36009893 -0.69679314 ...  0.97529924  0.66572058\n",
            "   0.68852459]\n",
            " ...\n",
            " [-0.99784732 -0.24096335  0.1465126  ...  0.67826694  0.58655697\n",
            "   0.68852459]\n",
            " [-0.99585718 -0.26980931 -0.44165894 ...  0.71812952  0.7594111\n",
            "   0.68852459]\n",
            " [-0.99889809 -0.30313087 -0.59138656 ...  0.7010079   0.81738949\n",
            "   0.68852459]]\n",
            "model_output:\n",
            " [1. 1. 1. ... 1. 1. 1.]\n"
          ]
        }
      ]
    },
    {
      "cell_type": "markdown",
      "metadata": {
        "id": "sdZ81RHl3N0T"
      },
      "source": [
        "<b>Random Forest</b>"
      ]
    },
    {
      "cell_type": "code",
      "metadata": {
        "colab": {
          "base_uri": "https://localhost:8080/"
        },
        "id": "mDFiwHrn3LZE",
        "outputId": "00b41b57-1146-4e90-a1f5-e2738f1b3aa5"
      },
      "source": [
        "# forest_classifier=RandomForestClassifier(random_state=random_state,\n",
        "#                                          n_jobs=-1)\n",
        "# parameters={\n",
        "# 'n_estimators':[100,300,500],\n",
        "# 'criterion':['gini'],\n",
        "# 'max_depth':[10,20,25],\n",
        "# 'min_samples_split':[100,200],\n",
        "# 'min_samples_leaf':[50,100],\n",
        "# 'min_weight_fraction_leaf':[0.0],\n",
        "# 'max_leaf_nodes':[20,30]\n",
        "# }\n",
        "# clf=GridSearchCV(forest_classifier,parameters,verbose=1,cv=5)\n",
        "\n",
        "clf=RandomForestClassifier(bootstrap=True, ccp_alpha=0.0, class_weight=None,\n",
        "                       criterion='gini', max_depth=10, max_features='auto',\n",
        "                       max_leaf_nodes=20, max_samples=None,\n",
        "                       min_impurity_decrease=0.0, min_impurity_split=None,\n",
        "                       min_samples_leaf=50, min_samples_split=100,\n",
        "                       min_weight_fraction_leaf=0.0, n_estimators=500,\n",
        "                       n_jobs=-1, oob_score=False, random_state=27, verbose=0,\n",
        "                       warm_start=False)\n",
        "\n",
        "clf.fit(model_input,model_output)\n",
        "\n",
        "# best_classifier=clf.best_estimator_\n",
        "best_classifier=clf"
      ],
      "execution_count": null,
      "outputs": [
        {
          "output_type": "stream",
          "name": "stdout",
          "text": [
            "Fitting 5 folds for each of 72 candidates, totalling 360 fits\n"
          ]
        },
        {
          "output_type": "stream",
          "name": "stderr",
          "text": [
            "[Parallel(n_jobs=1)]: Using backend SequentialBackend with 1 concurrent workers.\n",
            "[Parallel(n_jobs=1)]: Done 360 out of 360 | elapsed: 41.8min finished\n"
          ]
        }
      ]
    },
    {
      "cell_type": "markdown",
      "metadata": {
        "id": "S3IwpeCIJkE-"
      },
      "source": [
        "The grid search took more than 40m"
      ]
    },
    {
      "cell_type": "code",
      "metadata": {
        "id": "3T_X83ZC6bsX",
        "colab": {
          "base_uri": "https://localhost:8080/"
        },
        "outputId": "24728ea5-afde-4522-c1d5-c8fd61ec1c8b"
      },
      "source": [
        "# clf.best_score_"
      ],
      "execution_count": null,
      "outputs": [
        {
          "output_type": "execute_result",
          "data": {
            "text/plain": [
              "0.9006964606648991"
            ]
          },
          "metadata": {},
          "execution_count": 19
        }
      ]
    },
    {
      "cell_type": "code",
      "metadata": {
        "colab": {
          "base_uri": "https://localhost:8080/"
        },
        "id": "P71ufDHSGd-N",
        "outputId": "8758d2b0-1594-4a78-fbed-95fe273e96fb"
      },
      "source": [
        "best_classifier"
      ],
      "execution_count": null,
      "outputs": [
        {
          "output_type": "execute_result",
          "data": {
            "text/plain": [
              "RandomForestClassifier(bootstrap=True, ccp_alpha=0.0, class_weight=None,\n",
              "                       criterion='gini', max_depth=10, max_features='auto',\n",
              "                       max_leaf_nodes=20, max_samples=None,\n",
              "                       min_impurity_decrease=0.0, min_impurity_split=None,\n",
              "                       min_samples_leaf=50, min_samples_split=100,\n",
              "                       min_weight_fraction_leaf=0.0, n_estimators=500,\n",
              "                       n_jobs=-1, oob_score=False, random_state=27, verbose=0,\n",
              "                       warm_start=False)"
            ]
          },
          "metadata": {},
          "execution_count": 20
        }
      ]
    },
    {
      "cell_type": "code",
      "metadata": {
        "id": "m9PSK71_8QFK",
        "colab": {
          "base_uri": "https://localhost:8080/"
        },
        "outputId": "221225ee-3f97-46f0-bd1d-39e03fe97288"
      },
      "source": [
        "text=test_df['preprocessed_text'].values\n",
        "keyword_mean=test_df['keyword_mean'].values\n",
        "keyword_mean=keyword_mean.reshape(-1,1)\n",
        "print('text:\\n',text)\n",
        "print('keyword_mean:\\n',keyword_mean)\n",
        "\n",
        "text_input=BERT_model.predict(text)\n",
        "\n",
        "test_input=np.concatenate((text_input,keyword_mean.reshape(-1,1)),axis=1)\n",
        "print('test_input:\\n',model_input)\n",
        "\n",
        "test_df['target']=best_clasifier.predict(test_input).ravel()\n",
        "test_df['target']=test_df['target'].astype(int)\n",
        "\n",
        "test_df[['id','target']].set_index('id').to_csv('submission.csv')"
      ],
      "execution_count": null,
      "outputs": [
        {
          "output_type": "stream",
          "name": "stdout",
          "text": [
            "text:\n",
            " ['happened terrible car crash'\n",
            " 'heard earthquake different cities stay safe everyone'\n",
            " 'forest fire spot pond geese fleeing across street cannot save' ...\n",
            " 'green line derailment chicago'\n",
            " 'meg issues hazardous weather outlook hwo'\n",
            " 'cityofcalgary activated municipal emergency plan yycstorm']\n",
            "keyword_mean:\n",
            " [[0.68852459]\n",
            " [0.68852459]\n",
            " [0.68852459]\n",
            " ...\n",
            " [0.68852459]\n",
            " [0.68852459]\n",
            " [0.68852459]]\n",
            "test_input:\n",
            " [[-0.99709314 -0.2516757  -0.87389231 ...  0.97664136  0.92027265\n",
            "   0.68852459]\n",
            " [-0.99958247 -0.20163161 -0.48416367 ...  0.59414071  0.4769721\n",
            "   0.68852459]\n",
            " [-0.96113926 -0.36009893 -0.69679314 ...  0.97529924  0.66572058\n",
            "   0.68852459]\n",
            " ...\n",
            " [-0.99784732 -0.24096335  0.1465126  ...  0.67826694  0.58655697\n",
            "   0.68852459]\n",
            " [-0.99585718 -0.26980931 -0.44165894 ...  0.71812952  0.7594111\n",
            "   0.68852459]\n",
            " [-0.99889809 -0.30313087 -0.59138656 ...  0.7010079   0.81738949\n",
            "   0.68852459]]\n"
          ]
        }
      ]
    },
    {
      "cell_type": "markdown",
      "metadata": {
        "id": "CTPqBQ6HHoLn"
      },
      "source": [
        "Random Forest got an 80.723% accuracy, slightly less than Model 2."
      ]
    },
    {
      "cell_type": "markdown",
      "metadata": {
        "id": "DPwLWTazYwuD"
      },
      "source": [
        "<b>Support Vector Classifier</b>"
      ]
    },
    {
      "cell_type": "markdown",
      "metadata": {
        "id": "5c73lXcjHwm1"
      },
      "source": [
        "Now let us try Support Vector classifier (SVC)"
      ]
    },
    {
      "cell_type": "code",
      "metadata": {
        "id": "uyHZQYtAH2MM"
      },
      "source": [
        "# svc_classifier=SVC(random_state=random_state)\n",
        "# parameters={\n",
        "#     'C':[0.2,0.5,1.0,1.2,1.5],\n",
        "#     'kernel':['rbf','sigmoid','linear'],\n",
        "#     'degree':[3],\n",
        "#     'gamma':['scale','auto'],\n",
        "# }\n",
        "# clf=GridSearchCV(svc_classifier,parameters,verbose=1,cv=5)\n",
        "\n",
        "clf=SVC(C=0.2, break_ties=False, cache_size=200, class_weight=None, coef0=0.0,\n",
        "    decision_function_shape='ovr', degree=3, gamma='scale', kernel='linear',\n",
        "    max_iter=-1, probability=False, random_state=27, shrinking=True, tol=0.001,\n",
        "    verbose=False)\n",
        "\n",
        "clf.fit(model_input,model_output)\n",
        "\n",
        "# best_classifier=clf.best_estimator_\n",
        "best_classifier=clf"
      ],
      "execution_count": null,
      "outputs": []
    },
    {
      "cell_type": "code",
      "metadata": {
        "id": "1b1XPiNeIEru"
      },
      "source": [
        "# clf.best_score_"
      ],
      "execution_count": null,
      "outputs": []
    },
    {
      "cell_type": "code",
      "metadata": {
        "colab": {
          "base_uri": "https://localhost:8080/"
        },
        "id": "8qi4xFEYIJ26",
        "outputId": "675764c7-6d9d-4847-b864-d3eab022237f"
      },
      "source": [
        "best_classifier"
      ],
      "execution_count": null,
      "outputs": [
        {
          "output_type": "execute_result",
          "data": {
            "text/plain": [
              "SVC(C=0.2, break_ties=False, cache_size=200, class_weight=None, coef0=0.0,\n",
              "    decision_function_shape='ovr', degree=3, gamma='scale', kernel='linear',\n",
              "    max_iter=-1, probability=False, random_state=27, shrinking=True, tol=0.001,\n",
              "    verbose=False)"
            ]
          },
          "metadata": {},
          "execution_count": 35
        }
      ]
    },
    {
      "cell_type": "code",
      "metadata": {
        "colab": {
          "base_uri": "https://localhost:8080/"
        },
        "id": "veCAjgr3IAO_",
        "outputId": "41ad519d-5635-4601-9512-1e3eea7dc65a"
      },
      "source": [
        "text=test_df['preprocessed_text'].values\n",
        "keyword_mean=test_df['keyword_mean'].values\n",
        "keyword_mean=keyword_mean.reshape(-1,1)\n",
        "print('text:\\n',text)\n",
        "print('keyword_mean:\\n',keyword_mean)\n",
        "\n",
        "text_input=BERT_model.predict(text)\n",
        "\n",
        "test_input=np.concatenate((text_input,keyword_mean.reshape(-1,1)),axis=1)\n",
        "print('test_input:\\n',model_input)\n",
        "\n",
        "test_df['target']=best_classifier.predict(test_input).ravel()\n",
        "test_df['target']=test_df['target'].astype(int)\n",
        "\n",
        "test_df[['id','target']].set_index('id').to_csv('submission.csv')"
      ],
      "execution_count": null,
      "outputs": [
        {
          "output_type": "stream",
          "name": "stdout",
          "text": [
            "text:\n",
            " ['happened terrible car crash'\n",
            " 'heard earthquake different cities stay safe everyone'\n",
            " 'forest fire spot pond geese fleeing across street cannot save' ...\n",
            " 'green line derailment chicago'\n",
            " 'meg issues hazardous weather outlook hwo'\n",
            " 'cityofcalgary activated municipal emergency plan yycstorm']\n",
            "keyword_mean:\n",
            " [[0.68852459]\n",
            " [0.68852459]\n",
            " [0.68852459]\n",
            " ...\n",
            " [0.68852459]\n",
            " [0.68852459]\n",
            " [0.68852459]]\n",
            "test_input:\n",
            " [[-0.99709314 -0.2516757  -0.87389231 ...  0.97664136  0.92027265\n",
            "   0.68852459]\n",
            " [-0.99958247 -0.20163161 -0.48416367 ...  0.59414071  0.4769721\n",
            "   0.68852459]\n",
            " [-0.96113926 -0.36009893 -0.69679314 ...  0.97529924  0.66572058\n",
            "   0.68852459]\n",
            " ...\n",
            " [-0.99784732 -0.24096335  0.1465126  ...  0.67826694  0.58655697\n",
            "   0.68852459]\n",
            " [-0.99585718 -0.26980931 -0.44165894 ...  0.71812952  0.7594111\n",
            "   0.68852459]\n",
            " [-0.99889809 -0.30313087 -0.59138656 ...  0.7010079   0.81738949\n",
            "   0.68852459]]\n"
          ]
        }
      ]
    },
    {
      "cell_type": "markdown",
      "metadata": {
        "id": "On-BhOM5MQAF"
      },
      "source": [
        "SVC got a slightly better than random forest with 80.907% accuracy. "
      ]
    },
    {
      "cell_type": "markdown",
      "metadata": {
        "id": "WxMc-XuVZ1lo"
      },
      "source": [
        "In the end, the best model was the one used to to fine-tune the BERT model with a score of 81.274% accuracy."
      ]
    },
    {
      "cell_type": "markdown",
      "metadata": {
        "id": "LDUjxavpvNhW"
      },
      "source": [
        "<h4><b>5-Generate the Results</b><h4/>\n"
      ]
    },
    {
      "cell_type": "markdown",
      "metadata": {
        "id": "3PKlvpO_Zlj6"
      },
      "source": [
        "This codes can be used to generate the results for the previous models. The desired model should be trained before running these codes."
      ]
    },
    {
      "cell_type": "code",
      "metadata": {
        "colab": {
          "base_uri": "https://localhost:8080/"
        },
        "id": "D6XLsUFb3W2Y",
        "outputId": "ea405b2e-dc08-4eab-d995-a532b0820d6c"
      },
      "source": [
        "print(test_df[test_df['preprocessed_text'].isnull()])\n",
        "\n",
        "test_df['preprocessed_text']=test_df['preprocessed_text'].fillna('great')"
      ],
      "execution_count": null,
      "outputs": [
        {
          "name": "stdout",
          "output_type": "stream",
          "text": [
            "Empty DataFrame\n",
            "Columns: [Unnamed: 0, id, keyword, location, text, target, trainable, preprocessed_text, keyword_mean]\n",
            "Index: []\n"
          ]
        }
      ]
    },
    {
      "cell_type": "code",
      "metadata": {
        "id": "zwmaLEuKpiqg"
      },
      "source": [
        "#print(model.predict(x=[test_df['preprocessed_text'].values,test_df['keyword_mean'].values]))\n",
        "\n",
        "test_df['predictions']=(model.predict([test_df['preprocessed_text'].values,test_df['keyword_mean'].values])>0.5).astype(int)"
      ],
      "execution_count": null,
      "outputs": []
    },
    {
      "cell_type": "code",
      "metadata": {
        "id": "zpVwHdw4ytjH"
      },
      "source": [
        "test_df[['id','predictions']].set_index('id').rename(columns={'predictions':'target'}).to_csv('submission.csv')"
      ],
      "execution_count": null,
      "outputs": []
    },
    {
      "cell_type": "markdown",
      "source": [
        "<h4><b>5-Save The Model</b><h4/>"
      ],
      "metadata": {
        "id": "0YebKJlQ-g0a"
      }
    },
    {
      "cell_type": "code",
      "source": [
        "model_version = \"001\"\n",
        "model_name = \"disaster-tweets-model\"\n",
        "model_path = os.path.join(model_name, model_version)\n",
        "tf.saved_model.save(model, model_path)\n",
        "shutil.make_archive(model_name, 'zip', model_name)"
      ],
      "metadata": {
        "colab": {
          "base_uri": "https://localhost:8080/"
        },
        "id": "rIryBeb--1mX",
        "outputId": "4b750540-9e69-40f8-d9bb-85a0615c6f7b"
      },
      "execution_count": null,
      "outputs": [
        {
          "output_type": "stream",
          "name": "stderr",
          "text": [
            "WARNING:absl:Function `_wrapped_model` contains input name(s) Text_Input, Keyword_Stats with unsupported characters which will be renamed to text_input, keyword_stats in the SavedModel.\n",
            "WARNING:absl:Found untraced functions such as restored_function_body, restored_function_body, restored_function_body, restored_function_body, restored_function_body while saving (showing 5 of 165). These functions will not be directly callable after loading.\n"
          ]
        },
        {
          "output_type": "stream",
          "name": "stdout",
          "text": [
            "INFO:tensorflow:Assets written to: disaster-tweets-model/001/assets\n"
          ]
        },
        {
          "output_type": "stream",
          "name": "stderr",
          "text": [
            "INFO:tensorflow:Assets written to: disaster-tweets-model/001/assets\n"
          ]
        }
      ]
    },
    {
      "cell_type": "code",
      "source": [
        "!saved_model_cli show --dir $model_path --all"
      ],
      "metadata": {
        "colab": {
          "base_uri": "https://localhost:8080/"
        },
        "id": "rkQVDnRtG1kB",
        "outputId": "958885e2-0781-4ec2-d009-1c5688cfa1b9"
      },
      "execution_count": null,
      "outputs": [
        {
          "output_type": "stream",
          "name": "stdout",
          "text": [
            "\n",
            "MetaGraphDef with tag-set: 'serve' contains the following SignatureDefs:\n",
            "\n",
            "signature_def['__saved_model_init_op']:\n",
            "  The given SavedModel SignatureDef contains the following input(s):\n",
            "  The given SavedModel SignatureDef contains the following output(s):\n",
            "    outputs['__saved_model_init_op'] tensor_info:\n",
            "        dtype: DT_INVALID\n",
            "        shape: unknown_rank\n",
            "        name: NoOp\n",
            "  Method name is: \n",
            "\n",
            "signature_def['serving_default']:\n",
            "  The given SavedModel SignatureDef contains the following input(s):\n",
            "    inputs['Keyword_Stats'] tensor_info:\n",
            "        dtype: DT_FLOAT\n",
            "        shape: (-1, 1)\n",
            "        name: serving_default_Keyword_Stats:0\n",
            "    inputs['Text_Input'] tensor_info:\n",
            "        dtype: DT_STRING\n",
            "        shape: (-1)\n",
            "        name: serving_default_Text_Input:0\n",
            "  The given SavedModel SignatureDef contains the following output(s):\n",
            "    outputs['output'] tensor_info:\n",
            "        dtype: DT_FLOAT\n",
            "        shape: (-1, 1)\n",
            "        name: StatefulPartitionedCall_2:0\n",
            "  Method name is: tensorflow/serving/predict\n",
            "Traceback (most recent call last):\n",
            "  File \"/usr/local/lib/python3.7/dist-packages/tensorflow/python/framework/ops.py\", line 4098, in _get_op_def\n",
            "    return self._op_def_cache[type]\n",
            "KeyError: 'CaseFoldUTF8'\n",
            "\n",
            "During handling of the above exception, another exception occurred:\n",
            "\n",
            "Traceback (most recent call last):\n",
            "  File \"/usr/local/lib/python3.7/dist-packages/tensorflow/python/saved_model/load.py\", line 939, in load_internal\n",
            "    ckpt_options, options, filters)\n",
            "  File \"/usr/local/lib/python3.7/dist-packages/tensorflow/python/saved_model/load.py\", line 139, in __init__\n",
            "    meta_graph.graph_def.library, wrapper_function=_WrapperFunction))\n",
            "  File \"/usr/local/lib/python3.7/dist-packages/tensorflow/python/saved_model/function_deserialization.py\", line 388, in load_function_def_library\n",
            "    func_graph = function_def_lib.function_def_to_graph(copy)\n",
            "  File \"/usr/local/lib/python3.7/dist-packages/tensorflow/python/framework/function_def_to_graph.py\", line 64, in function_def_to_graph\n",
            "    fdef, input_shapes)\n",
            "  File \"/usr/local/lib/python3.7/dist-packages/tensorflow/python/framework/function_def_to_graph.py\", line 229, in function_def_to_graph_def\n",
            "    op_def = default_graph._get_op_def(node_def.op)  # pylint: disable=protected-access\n",
            "  File \"/usr/local/lib/python3.7/dist-packages/tensorflow/python/framework/ops.py\", line 4103, in _get_op_def\n",
            "    buf)\n",
            "tensorflow.python.framework.errors_impl.NotFoundError: Op type not registered 'CaseFoldUTF8' in binary running on e329bfbf4243. Make sure the Op and Kernel are registered in the binary running in this process. Note that if you are loading a saved graph which used ops from tf.contrib, accessing (e.g.) `tf.contrib.resampler` should be done before importing the graph, as contrib ops are lazily registered when the module is first accessed.\n",
            "\n",
            "During handling of the above exception, another exception occurred:\n",
            "\n",
            "Traceback (most recent call last):\n",
            "  File \"/usr/local/bin/saved_model_cli\", line 8, in <module>\n",
            "    sys.exit(main())\n",
            "  File \"/usr/local/lib/python3.7/dist-packages/tensorflow/python/tools/saved_model_cli.py\", line 1211, in main\n",
            "    args.func(args)\n",
            "  File \"/usr/local/lib/python3.7/dist-packages/tensorflow/python/tools/saved_model_cli.py\", line 736, in show\n",
            "    _show_all(args.dir)\n",
            "  File \"/usr/local/lib/python3.7/dist-packages/tensorflow/python/tools/saved_model_cli.py\", line 315, in _show_all\n",
            "    _show_defined_functions(saved_model_dir)\n",
            "  File \"/usr/local/lib/python3.7/dist-packages/tensorflow/python/tools/saved_model_cli.py\", line 195, in _show_defined_functions\n",
            "    trackable_object = load.load(saved_model_dir)\n",
            "  File \"/usr/local/lib/python3.7/dist-packages/tensorflow/python/saved_model/load.py\", line 900, in load\n",
            "    result = load_internal(export_dir, tags, options)[\"root\"]\n",
            "  File \"/usr/local/lib/python3.7/dist-packages/tensorflow/python/saved_model/load.py\", line 942, in load_internal\n",
            "    str(err) + \"\\n You may be trying to load on a different device \"\n",
            "FileNotFoundError: Op type not registered 'CaseFoldUTF8' in binary running on e329bfbf4243. Make sure the Op and Kernel are registered in the binary running in this process. Note that if you are loading a saved graph which used ops from tf.contrib, accessing (e.g.) `tf.contrib.resampler` should be done before importing the graph, as contrib ops are lazily registered when the module is first accessed.\n",
            " You may be trying to load on a different device from the computational device. Consider setting the `experimental_io_device` option in `tf.saved_model.LoadOptions` to the io_device such as '/job:localhost'.\n"
          ]
        }
      ]
    },
    {
      "cell_type": "markdown",
      "metadata": {
        "id": "zOqnpITlMZr8"
      },
      "source": [
        "<h1><b>Conclusion<b/><h1/>"
      ]
    },
    {
      "cell_type": "markdown",
      "metadata": {
        "id": "YAUXYlglMg1t"
      },
      "source": [
        "BERT model was fine-tuned on the training data. It used the text preprocessor that comes with the model. aditional information was used from the keyword statistics.<br/>\n",
        "Many models were tested. BERT with an additional single output neuron, BERT with 1 hidden layer and 1 output layer, BERT with 1 hidden layer using convolution and 1 output layer, and lastly random forest and support vector machines were used on the BERT generated features and the keyword stats.<br/>\n",
        "The best model was the BERT with 1 output layer. This model achieved 81.274% accuracy."
      ]
    },
    {
      "cell_type": "code",
      "source": [
        ""
      ],
      "metadata": {
        "id": "U2N4pxYsFDcv"
      },
      "execution_count": null,
      "outputs": []
    }
  ]
}