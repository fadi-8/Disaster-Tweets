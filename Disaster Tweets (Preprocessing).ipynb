{
 "cells": [
  {
   "cell_type": "markdown",
   "id": "47c1b9cb",
   "metadata": {
    "papermill": {
     "duration": 0.036557,
     "end_time": "2021-12-05T12:53:51.673607",
     "exception": false,
     "start_time": "2021-12-05T12:53:51.637050",
     "status": "completed"
    },
    "tags": []
   },
   "source": [
    "<h1><b><u>Disaster Tweets Classification </u></b></h1>\n",
    "\n",
    "<h4 style='text-align: justify;'>\n",
    "This notebook is mainly to preprocess the dataset. At the beginning, I tested the accuracy that can be reached by using trivial methods to predict the output. Afterwards, the data is procesed to be use by BERT. The machine learning models are notshown in this notebook because I focused on the models on another notebook. Neural networks with BERT was the main interest, yet other algorithm were used too.\n",
    "<br/>\n",
    "For the machine learning models, check the link below:\n",
    "    <a href='https://www.kaggle.com/fmakarem/disaster-tweets-bert'>Machine Learning Notebook</a>\n",
    "</h4>"
   ]
  },
  {
   "cell_type": "code",
   "execution_count": 1,
   "id": "08185dbe",
   "metadata": {
    "_cell_guid": "b1076dfc-b9ad-4769-8c92-a6c4dae69d19",
    "_uuid": "8f2839f25d086af736a60e9eeb907d3b93b6e0e5",
    "execution": {
     "iopub.execute_input": "2021-12-05T12:53:51.750143Z",
     "iopub.status.busy": "2021-12-05T12:53:51.749040Z",
     "iopub.status.idle": "2021-12-05T12:53:51.768450Z",
     "shell.execute_reply": "2021-12-05T12:53:51.769077Z",
     "shell.execute_reply.started": "2021-12-05T11:20:48.218788Z"
    },
    "papermill": {
     "duration": 0.059641,
     "end_time": "2021-12-05T12:53:51.769360",
     "exception": false,
     "start_time": "2021-12-05T12:53:51.709719",
     "status": "completed"
    },
    "tags": []
   },
   "outputs": [
    {
     "name": "stdout",
     "output_type": "stream",
     "text": [
      "/kaggle/input/nlp-getting-started/sample_submission.csv\n",
      "/kaggle/input/nlp-getting-started/train.csv\n",
      "/kaggle/input/nlp-getting-started/test.csv\n",
      "/kaggle/input/bert-features/BERT_processed.csv\n"
     ]
    }
   ],
   "source": [
    "# This Python 3 environment comes with many helpful analytics libraries installed\n",
    "# It is defined by the kaggle/python Docker image: https://github.com/kaggle/docker-python\n",
    "# For example, here's several helpful packages to load\n",
    "\n",
    "import numpy as np # linear algebra\n",
    "import pandas as pd # data processing, CSV file I/O (e.g. pd.read_csv)\n",
    "\n",
    "# Input data files are available in the read-only \"../input/\" directory\n",
    "# For example, running this (by clicking run or pressing Shift+Enter) will list all files under the input directory\n",
    "\n",
    "import os\n",
    "for dirname, _, filenames in os.walk('/kaggle/input'):\n",
    "    for filename in filenames:\n",
    "        print(os.path.join(dirname, filename))\n",
    "\n",
    "# You can write up to 20GB to the current directory (/kaggle/working/) that gets preserved as output when you create a version using \"Save & Run All\" \n",
    "# You can also write temporary files to /kaggle/temp/, but they won't be saved outside of the current session"
   ]
  },
  {
   "cell_type": "code",
   "execution_count": 2,
   "id": "f92b8cc7",
   "metadata": {
    "execution": {
     "iopub.execute_input": "2021-12-05T12:53:51.845431Z",
     "iopub.status.busy": "2021-12-05T12:53:51.844847Z",
     "iopub.status.idle": "2021-12-05T12:53:59.615504Z",
     "shell.execute_reply": "2021-12-05T12:53:59.614426Z",
     "shell.execute_reply.started": "2021-12-05T11:53:48.379198Z"
    },
    "papermill": {
     "duration": 7.809044,
     "end_time": "2021-12-05T12:53:59.615672",
     "exception": false,
     "start_time": "2021-12-05T12:53:51.806628",
     "status": "completed"
    },
    "tags": []
   },
   "outputs": [],
   "source": [
    "import seaborn as sns\n",
    "import matplotlib.pyplot as plt\n",
    "import nltk\n",
    "import tensorflow_hub as hub\n",
    "import tensorflow as tf\n",
    "from tensorflow import keras\n",
    "from tensorflow.keras.callbacks import ModelCheckpoint\n",
    "from collections import OrderedDict,Counter\n",
    "import sklearn\n",
    "from sklearn.linear_model import LogisticRegression\n",
    "from sklearn.model_selection import KFold\n",
    "from sklearn.model_selection import StratifiedKFold\n",
    "from sklearn.metrics import confusion_matrix\n",
    "from sklearn.ensemble import RandomForestClassifier\n",
    "from sklearn.svm import SVC\n",
    "from sklearn.neighbors import KNeighborsClassifier\n",
    "from sklearn.manifold import TSNE\n",
    "\n",
    "from nltk.corpus import stopwords\n",
    "from nltk.stem.porter import PorterStemmer\n",
    "from nltk.tokenize import RegexpTokenizer\n",
    "import string\n",
    "import re"
   ]
  },
  {
   "cell_type": "code",
   "execution_count": 3,
   "id": "713364c8",
   "metadata": {
    "execution": {
     "iopub.execute_input": "2021-12-05T12:53:59.691073Z",
     "iopub.status.busy": "2021-12-05T12:53:59.690157Z",
     "iopub.status.idle": "2021-12-05T12:53:59.694337Z",
     "shell.execute_reply": "2021-12-05T12:53:59.694844Z",
     "shell.execute_reply.started": "2021-12-05T11:31:50.329722Z"
    },
    "papermill": {
     "duration": 0.043194,
     "end_time": "2021-12-05T12:53:59.695013",
     "exception": false,
     "start_time": "2021-12-05T12:53:59.651819",
     "status": "completed"
    },
    "tags": []
   },
   "outputs": [],
   "source": [
    "n_splits=7\n",
    "random_state=27"
   ]
  },
  {
   "cell_type": "code",
   "execution_count": 4,
   "id": "d8070d40",
   "metadata": {
    "execution": {
     "iopub.execute_input": "2021-12-05T12:53:59.770387Z",
     "iopub.status.busy": "2021-12-05T12:53:59.769467Z",
     "iopub.status.idle": "2021-12-05T12:53:59.780992Z",
     "shell.execute_reply": "2021-12-05T12:53:59.780442Z",
     "shell.execute_reply.started": "2021-12-05T11:55:21.988500Z"
    },
    "papermill": {
     "duration": 0.051097,
     "end_time": "2021-12-05T12:53:59.781249",
     "exception": false,
     "start_time": "2021-12-05T12:53:59.730152",
     "status": "completed"
    },
    "tags": []
   },
   "outputs": [],
   "source": [
    "stop=stopwords.words('english')"
   ]
  },
  {
   "cell_type": "markdown",
   "id": "8d7c041a",
   "metadata": {
    "papermill": {
     "duration": 0.035434,
     "end_time": "2021-12-05T12:53:59.852696",
     "exception": false,
     "start_time": "2021-12-05T12:53:59.817262",
     "status": "completed"
    },
    "tags": []
   },
   "source": [
    "<h2><b>Functions</b></h2>\n",
    "\n",
    "<h4>\n",
    "Here some useful functions are created\n",
    "</h4>"
   ]
  },
  {
   "cell_type": "code",
   "execution_count": 5,
   "id": "bd27ac46",
   "metadata": {
    "execution": {
     "iopub.execute_input": "2021-12-05T12:53:59.932268Z",
     "iopub.status.busy": "2021-12-05T12:53:59.931577Z",
     "iopub.status.idle": "2021-12-05T12:53:59.933328Z",
     "shell.execute_reply": "2021-12-05T12:53:59.933863Z",
     "shell.execute_reply.started": "2021-11-19T22:05:48.43555Z"
    },
    "papermill": {
     "duration": 0.045802,
     "end_time": "2021-12-05T12:53:59.934033",
     "exception": false,
     "start_time": "2021-12-05T12:53:59.888231",
     "status": "completed"
    },
    "tags": []
   },
   "outputs": [],
   "source": [
    "def get_keyword_mean(train_df,val_df,column='keyword',target='target'):\n",
    "    aggregate_column=column+'_mean'\n",
    "    train_df[aggregate_column]=train_df.groupby(column)[target].transform('mean')\n",
    "    \n",
    "    val_df = val_df.merge(\n",
    "                train_df[[column, aggregate_column]].drop_duplicates(),\n",
    "                on=column,\n",
    "                how=\"left\",\n",
    "            )\n",
    "    return train_df,val_df"
   ]
  },
  {
   "cell_type": "code",
   "execution_count": 6,
   "id": "501c4365",
   "metadata": {
    "execution": {
     "iopub.execute_input": "2021-12-05T12:54:00.008352Z",
     "iopub.status.busy": "2021-12-05T12:54:00.007687Z",
     "iopub.status.idle": "2021-12-05T12:54:00.018653Z",
     "shell.execute_reply": "2021-12-05T12:54:00.019158Z",
     "shell.execute_reply.started": "2021-11-19T22:05:48.450195Z"
    },
    "papermill": {
     "duration": 0.049719,
     "end_time": "2021-12-05T12:54:00.019333",
     "exception": false,
     "start_time": "2021-12-05T12:53:59.969614",
     "status": "completed"
    },
    "tags": []
   },
   "outputs": [],
   "source": [
    "def cv_datasets(df,model,regex='^BERT',target_column='target',use_keyword=False,model_function=None,compile_dic={},**kwargs):\n",
    "    '''\n",
    "    df: Dataframe to divide the data.\n",
    "    model: Model used to fit and evaluate the data.\n",
    "    regex: Regex used to pick a column. By default, it searches for the columns starting with BERT.\n",
    "    target_column: Name of the column containing the output.\n",
    "    compile_dic: It is only used for keras models\n",
    "    '''\n",
    "    kfold=KFold(n_splits=n_splits,shuffle=True,random_state=random_state)\n",
    "    results={'Total':0}\n",
    "    i=0\n",
    "    \n",
    "    #iterate through the folds\n",
    "    for train_index,val_index in kfold.split(df):\n",
    "        \n",
    "        if 'keras' in str(type(model)):\n",
    "            #keras\n",
    "            model_copy=model_function()\n",
    "            model_copy.compile(**compile_dic)\n",
    "    \n",
    "            model_copy.summary()\n",
    "        else:\n",
    "            #sklearn\n",
    "            model_copy= sklearn.base.clone(model)\n",
    "            \n",
    "        train_df=df.iloc[train_index]\n",
    "        val_df=df.iloc[val_index]\n",
    "        \n",
    "        if use_keyword:\n",
    "            train_df,val_df=get_keyword_mean(train_df,val_df)\n",
    "            regex+='|^keyword_'\n",
    "        \n",
    "        X_train=train_df.filter(regex=regex,axis=1)\n",
    "        y_train=train_df[target_column]\n",
    "        \n",
    "        X_val=val_df.filter(regex=regex,axis=1)\n",
    "        y_val=val_df[target_column]\n",
    "        \n",
    "        #print(X_train)\n",
    "        X_train=X_train.copy().values\n",
    "        y_train=y_train.copy().values\n",
    "        \n",
    "        X_val=X_val.copy().values\n",
    "        y_val=y_val.copy().values\n",
    "        \n",
    "        'The problem with keras mmodels is the copy itself'\n",
    "        model_copy.fit(X_train,y_train,**kwargs)\n",
    "        \n",
    "        predicted=model_copy.predict(X_val)\n",
    "        \n",
    "        metric=confusion_matrix(y_val,predicted)\n",
    "        \n",
    "        tn, fp, fn, tp = metric.ravel()\n",
    "        \n",
    "        results_matrix=metric\n",
    "        results['Batch '+str(i)]=results_matrix \n",
    "        results['Total']+=np.array(results_matrix)\n",
    "        i+=1\n",
    "        \n",
    "        print(f'{i}th run:\\naccuracy: {(tp+tn)/(tn+fp+fn+tp)}\\nprecision:{tp/(tp+fp)}\\nrecall:{tp/(tp+fn)}\\n')\n",
    "    \n",
    "    \n",
    "    tn, fp, fn, tp = results['Total'].ravel()\n",
    "    \n",
    "    print(f'Total:\\naccuracy: {(tp+tn)/(tn+fp+fn+tp)}\\nprecision:{tp/(tp+fp)}\\nrecall:{tp/(tp+fn)}\\n')\n",
    "    \n",
    "    return results\n",
    "        "
   ]
  },
  {
   "cell_type": "code",
   "execution_count": 7,
   "id": "b39f25c2",
   "metadata": {
    "execution": {
     "iopub.execute_input": "2021-12-05T12:54:00.094173Z",
     "iopub.status.busy": "2021-12-05T12:54:00.093547Z",
     "iopub.status.idle": "2021-12-05T12:54:00.098918Z",
     "shell.execute_reply": "2021-12-05T12:54:00.099388Z",
     "shell.execute_reply.started": "2021-11-19T22:05:48.466532Z"
    },
    "papermill": {
     "duration": 0.044507,
     "end_time": "2021-12-05T12:54:00.099558",
     "exception": false,
     "start_time": "2021-12-05T12:54:00.055051",
     "status": "completed"
    },
    "tags": []
   },
   "outputs": [],
   "source": [
    "def fit_and_predict(model,train_df,test_df,use_keyword=False,regex='^BERT',target_column='target',**kwargs):\n",
    "    if use_keyword:\n",
    "        train_df,test_df=get_keyword_mean(train_df,test_df)\n",
    "        regex+='|^keyword_'\n",
    "\n",
    "    X_train=train_df.filter(regex=regex,axis=1)\n",
    "    y_train=train_df[target_column]\n",
    "\n",
    "    X_test=test_df.filter(regex=regex,axis=1)\n",
    "    \n",
    "    model.fit(X_train,y_train,**kwargs)\n",
    "    \n",
    "    test_df['predictions']=(model.predict(X_test)>0.5).astype(int)\n",
    "    \n",
    "    return test_df"
   ]
  },
  {
   "cell_type": "code",
   "execution_count": 8,
   "id": "a6256776",
   "metadata": {
    "execution": {
     "iopub.execute_input": "2021-12-05T12:54:00.174669Z",
     "iopub.status.busy": "2021-12-05T12:54:00.174101Z",
     "iopub.status.idle": "2021-12-05T12:54:00.178577Z",
     "shell.execute_reply": "2021-12-05T12:54:00.179086Z",
     "shell.execute_reply.started": "2021-11-19T22:05:48.481603Z"
    },
    "papermill": {
     "duration": 0.043606,
     "end_time": "2021-12-05T12:54:00.179263",
     "exception": false,
     "start_time": "2021-12-05T12:54:00.135657",
     "status": "completed"
    },
    "tags": []
   },
   "outputs": [],
   "source": [
    "def generate_submission(test_df,predictions_column='predictions',name='submission'):\n",
    "#     new_submission=pd.DataFrame()\n",
    "#     new_submission['id']=test_df['id']\n",
    "#     new_submission['target']=predictions\n",
    "#     new_submission=new_submission.set_index('id')\n",
    "    \n",
    "    new_submission=test_df[['id',predictions_column]].set_index('id').rename(columns={predictions_column:'target'})\n",
    "    print(f'saving the results in {name}.csv')\n",
    "    new_submission.to_csv(name+'.csv')\n",
    "    print('finished saving')\n",
    "    \n",
    "    return new_submission"
   ]
  },
  {
   "cell_type": "code",
   "execution_count": 9,
   "id": "c42ce2c1",
   "metadata": {
    "execution": {
     "iopub.execute_input": "2021-12-05T12:54:00.254000Z",
     "iopub.status.busy": "2021-12-05T12:54:00.253403Z",
     "iopub.status.idle": "2021-12-05T12:54:00.259858Z",
     "shell.execute_reply": "2021-12-05T12:54:00.260357Z",
     "shell.execute_reply.started": "2021-11-19T22:05:48.494926Z"
    },
    "papermill": {
     "duration": 0.045434,
     "end_time": "2021-12-05T12:54:00.260522",
     "exception": false,
     "start_time": "2021-12-05T12:54:00.215088",
     "status": "completed"
    },
    "tags": []
   },
   "outputs": [],
   "source": [
    "def generate_results(df,model,name='submission',regex='^BERT',target_column='target',use_keyword=False,compile_dic={},model_function=None,**kwargs):\n",
    "    df['keyword']=df['keyword'].fillna('unk')\n",
    "    df['location']=df['location'].fillna('unk_location')\n",
    "    \n",
    "    train_df=df[df['trainable']==1]\n",
    "    test_df=df[~(df['trainable']==1)]\n",
    "    \n",
    "    results=cv_datasets(train_df,model,regex=regex,target_column=target_column,model_function=model_function,use_keyword=use_keyword,**kwargs)\n",
    "    \n",
    "    test_df=fit_and_predict(model,train_df,test_df,use_keyword=use_keyword,regex=regex,target_column=target_column,**kwargs)\n",
    "    \n",
    "    test_df['predictions']=test_df['predictions'].values>0.5\n",
    "    test_df['predictions']=test_df['predictions'].astype(int)\n",
    "    \n",
    "    submission=generate_submission(test_df,predictions_column='predictions',name=name)\n",
    "    \n",
    "    return results,test_df,submission"
   ]
  },
  {
   "cell_type": "code",
   "execution_count": 10,
   "id": "c6500fd7",
   "metadata": {
    "_kg_hide-input": true,
    "_kg_hide-output": true,
    "execution": {
     "iopub.execute_input": "2021-12-05T12:54:00.335464Z",
     "iopub.status.busy": "2021-12-05T12:54:00.334896Z",
     "iopub.status.idle": "2021-12-05T12:54:08.976141Z",
     "shell.execute_reply": "2021-12-05T12:54:08.976990Z",
     "shell.execute_reply.started": "2021-11-19T22:05:48.505642Z"
    },
    "papermill": {
     "duration": 8.680598,
     "end_time": "2021-12-05T12:54:08.977345",
     "exception": false,
     "start_time": "2021-12-05T12:54:00.296747",
     "status": "completed"
    },
    "tags": []
   },
   "outputs": [
    {
     "name": "stderr",
     "output_type": "stream",
     "text": [
      "/opt/conda/lib/python3.7/site-packages/ipykernel_launcher.py:3: SettingWithCopyWarning: \n",
      "A value is trying to be set on a copy of a slice from a DataFrame.\n",
      "Try using .loc[row_indexer,col_indexer] = value instead\n",
      "\n",
      "See the caveats in the documentation: https://pandas.pydata.org/pandas-docs/stable/user_guide/indexing.html#returning-a-view-versus-a-copy\n",
      "  This is separate from the ipykernel package so we can avoid doing imports until\n",
      "/opt/conda/lib/python3.7/site-packages/sklearn/linear_model/_sag.py:330: ConvergenceWarning: The max_iter was reached which means the coef_ did not converge\n",
      "  \"the coef_ did not converge\", ConvergenceWarning)\n",
      "/opt/conda/lib/python3.7/site-packages/ipykernel_launcher.py:3: SettingWithCopyWarning: \n",
      "A value is trying to be set on a copy of a slice from a DataFrame.\n",
      "Try using .loc[row_indexer,col_indexer] = value instead\n",
      "\n",
      "See the caveats in the documentation: https://pandas.pydata.org/pandas-docs/stable/user_guide/indexing.html#returning-a-view-versus-a-copy\n",
      "  This is separate from the ipykernel package so we can avoid doing imports until\n"
     ]
    },
    {
     "name": "stdout",
     "output_type": "stream",
     "text": [
      "1th run:\n",
      "accuracy: 0.7867647058823529\n",
      "precision:0.8\n",
      "recall:0.6821052631578948\n",
      "\n"
     ]
    },
    {
     "name": "stderr",
     "output_type": "stream",
     "text": [
      "/opt/conda/lib/python3.7/site-packages/sklearn/linear_model/_sag.py:330: ConvergenceWarning: The max_iter was reached which means the coef_ did not converge\n",
      "  \"the coef_ did not converge\", ConvergenceWarning)\n",
      "/opt/conda/lib/python3.7/site-packages/ipykernel_launcher.py:3: SettingWithCopyWarning: \n",
      "A value is trying to be set on a copy of a slice from a DataFrame.\n",
      "Try using .loc[row_indexer,col_indexer] = value instead\n",
      "\n",
      "See the caveats in the documentation: https://pandas.pydata.org/pandas-docs/stable/user_guide/indexing.html#returning-a-view-versus-a-copy\n",
      "  This is separate from the ipykernel package so we can avoid doing imports until\n"
     ]
    },
    {
     "name": "stdout",
     "output_type": "stream",
     "text": [
      "2th run:\n",
      "accuracy: 0.7628676470588235\n",
      "precision:0.7596371882086168\n",
      "recall:0.6878850102669405\n",
      "\n"
     ]
    },
    {
     "name": "stderr",
     "output_type": "stream",
     "text": [
      "/opt/conda/lib/python3.7/site-packages/sklearn/linear_model/_sag.py:330: ConvergenceWarning: The max_iter was reached which means the coef_ did not converge\n",
      "  \"the coef_ did not converge\", ConvergenceWarning)\n",
      "/opt/conda/lib/python3.7/site-packages/ipykernel_launcher.py:3: SettingWithCopyWarning: \n",
      "A value is trying to be set on a copy of a slice from a DataFrame.\n",
      "Try using .loc[row_indexer,col_indexer] = value instead\n",
      "\n",
      "See the caveats in the documentation: https://pandas.pydata.org/pandas-docs/stable/user_guide/indexing.html#returning-a-view-versus-a-copy\n",
      "  This is separate from the ipykernel package so we can avoid doing imports until\n"
     ]
    },
    {
     "name": "stdout",
     "output_type": "stream",
     "text": [
      "3th run:\n",
      "accuracy: 0.8005514705882353\n",
      "precision:0.7658227848101266\n",
      "recall:0.7739872068230277\n",
      "\n"
     ]
    },
    {
     "name": "stderr",
     "output_type": "stream",
     "text": [
      "/opt/conda/lib/python3.7/site-packages/sklearn/linear_model/_sag.py:330: ConvergenceWarning: The max_iter was reached which means the coef_ did not converge\n",
      "  \"the coef_ did not converge\", ConvergenceWarning)\n",
      "/opt/conda/lib/python3.7/site-packages/ipykernel_launcher.py:3: SettingWithCopyWarning: \n",
      "A value is trying to be set on a copy of a slice from a DataFrame.\n",
      "Try using .loc[row_indexer,col_indexer] = value instead\n",
      "\n",
      "See the caveats in the documentation: https://pandas.pydata.org/pandas-docs/stable/user_guide/indexing.html#returning-a-view-versus-a-copy\n",
      "  This is separate from the ipykernel package so we can avoid doing imports until\n"
     ]
    },
    {
     "name": "stdout",
     "output_type": "stream",
     "text": [
      "4th run:\n",
      "accuracy: 0.7904411764705882\n",
      "precision:0.7664399092970522\n",
      "recall:0.7300215982721382\n",
      "\n"
     ]
    },
    {
     "name": "stderr",
     "output_type": "stream",
     "text": [
      "/opt/conda/lib/python3.7/site-packages/sklearn/linear_model/_sag.py:330: ConvergenceWarning: The max_iter was reached which means the coef_ did not converge\n",
      "  \"the coef_ did not converge\", ConvergenceWarning)\n",
      "/opt/conda/lib/python3.7/site-packages/ipykernel_launcher.py:3: SettingWithCopyWarning: \n",
      "A value is trying to be set on a copy of a slice from a DataFrame.\n",
      "Try using .loc[row_indexer,col_indexer] = value instead\n",
      "\n",
      "See the caveats in the documentation: https://pandas.pydata.org/pandas-docs/stable/user_guide/indexing.html#returning-a-view-versus-a-copy\n",
      "  This is separate from the ipykernel package so we can avoid doing imports until\n"
     ]
    },
    {
     "name": "stdout",
     "output_type": "stream",
     "text": [
      "5th run:\n",
      "accuracy: 0.797608095676173\n",
      "precision:0.7792494481236203\n",
      "recall:0.7463002114164905\n",
      "\n"
     ]
    },
    {
     "name": "stderr",
     "output_type": "stream",
     "text": [
      "/opt/conda/lib/python3.7/site-packages/sklearn/linear_model/_sag.py:330: ConvergenceWarning: The max_iter was reached which means the coef_ did not converge\n",
      "  \"the coef_ did not converge\", ConvergenceWarning)\n",
      "/opt/conda/lib/python3.7/site-packages/ipykernel_launcher.py:3: SettingWithCopyWarning: \n",
      "A value is trying to be set on a copy of a slice from a DataFrame.\n",
      "Try using .loc[row_indexer,col_indexer] = value instead\n",
      "\n",
      "See the caveats in the documentation: https://pandas.pydata.org/pandas-docs/stable/user_guide/indexing.html#returning-a-view-versus-a-copy\n",
      "  This is separate from the ipykernel package so we can avoid doing imports until\n"
     ]
    },
    {
     "name": "stdout",
     "output_type": "stream",
     "text": [
      "6th run:\n",
      "accuracy: 0.8022079116835327\n",
      "precision:0.7442922374429224\n",
      "recall:0.7599067599067599\n",
      "\n"
     ]
    },
    {
     "name": "stderr",
     "output_type": "stream",
     "text": [
      "/opt/conda/lib/python3.7/site-packages/sklearn/linear_model/_sag.py:330: ConvergenceWarning: The max_iter was reached which means the coef_ did not converge\n",
      "  \"the coef_ did not converge\", ConvergenceWarning)\n",
      "/opt/conda/lib/python3.7/site-packages/ipykernel_launcher.py:3: SettingWithCopyWarning: \n",
      "A value is trying to be set on a copy of a slice from a DataFrame.\n",
      "Try using .loc[row_indexer,col_indexer] = value instead\n",
      "\n",
      "See the caveats in the documentation: https://pandas.pydata.org/pandas-docs/stable/user_guide/indexing.html#returning-a-view-versus-a-copy\n",
      "  This is separate from the ipykernel package so we can avoid doing imports until\n"
     ]
    },
    {
     "name": "stdout",
     "output_type": "stream",
     "text": [
      "7th run:\n",
      "accuracy: 0.7902483900643974\n",
      "precision:0.7961630695443646\n",
      "recall:0.6989473684210527\n",
      "\n",
      "Total:\n",
      "accuracy: 0.7900958886115854\n",
      "precision:0.7725643532095146\n",
      "recall:0.7248547844695812\n",
      "\n",
      "saving the results in submission.csv\n",
      "finished saving\n"
     ]
    },
    {
     "name": "stderr",
     "output_type": "stream",
     "text": [
      "/opt/conda/lib/python3.7/site-packages/sklearn/linear_model/_sag.py:330: ConvergenceWarning: The max_iter was reached which means the coef_ did not converge\n",
      "  \"the coef_ did not converge\", ConvergenceWarning)\n"
     ]
    }
   ],
   "source": [
    "df=pd.read_csv('/kaggle/input/bert-features/BERT_processed.csv')\n",
    "results,test_df,submission=generate_results(df,model=LogisticRegression(solver='sag'),use_keyword=True)"
   ]
  },
  {
   "cell_type": "code",
   "execution_count": 11,
   "id": "44935442",
   "metadata": {
    "_kg_hide-input": true,
    "_kg_hide-output": true,
    "execution": {
     "iopub.execute_input": "2021-12-05T12:54:09.110995Z",
     "iopub.status.busy": "2021-12-05T12:54:09.110343Z",
     "iopub.status.idle": "2021-12-05T12:55:33.954895Z",
     "shell.execute_reply": "2021-12-05T12:55:33.955539Z",
     "shell.execute_reply.started": "2021-11-19T22:05:56.191512Z"
    },
    "papermill": {
     "duration": 84.895526,
     "end_time": "2021-12-05T12:55:33.956004",
     "exception": false,
     "start_time": "2021-12-05T12:54:09.060478",
     "status": "completed"
    },
    "tags": []
   },
   "outputs": [
    {
     "name": "stderr",
     "output_type": "stream",
     "text": [
      "/opt/conda/lib/python3.7/site-packages/ipykernel_launcher.py:3: SettingWithCopyWarning: \n",
      "A value is trying to be set on a copy of a slice from a DataFrame.\n",
      "Try using .loc[row_indexer,col_indexer] = value instead\n",
      "\n",
      "See the caveats in the documentation: https://pandas.pydata.org/pandas-docs/stable/user_guide/indexing.html#returning-a-view-versus-a-copy\n",
      "  This is separate from the ipykernel package so we can avoid doing imports until\n"
     ]
    },
    {
     "name": "stdout",
     "output_type": "stream",
     "text": [
      "1th run:\n",
      "accuracy: 0.7729779411764706\n",
      "precision:0.8064516129032258\n",
      "recall:0.631578947368421\n",
      "\n"
     ]
    },
    {
     "name": "stderr",
     "output_type": "stream",
     "text": [
      "/opt/conda/lib/python3.7/site-packages/ipykernel_launcher.py:3: SettingWithCopyWarning: \n",
      "A value is trying to be set on a copy of a slice from a DataFrame.\n",
      "Try using .loc[row_indexer,col_indexer] = value instead\n",
      "\n",
      "See the caveats in the documentation: https://pandas.pydata.org/pandas-docs/stable/user_guide/indexing.html#returning-a-view-versus-a-copy\n",
      "  This is separate from the ipykernel package so we can avoid doing imports until\n"
     ]
    },
    {
     "name": "stdout",
     "output_type": "stream",
     "text": [
      "2th run:\n",
      "accuracy: 0.7766544117647058\n",
      "precision:0.8210526315789474\n",
      "recall:0.6406570841889117\n",
      "\n"
     ]
    },
    {
     "name": "stderr",
     "output_type": "stream",
     "text": [
      "/opt/conda/lib/python3.7/site-packages/ipykernel_launcher.py:3: SettingWithCopyWarning: \n",
      "A value is trying to be set on a copy of a slice from a DataFrame.\n",
      "Try using .loc[row_indexer,col_indexer] = value instead\n",
      "\n",
      "See the caveats in the documentation: https://pandas.pydata.org/pandas-docs/stable/user_guide/indexing.html#returning-a-view-versus-a-copy\n",
      "  This is separate from the ipykernel package so we can avoid doing imports until\n"
     ]
    },
    {
     "name": "stdout",
     "output_type": "stream",
     "text": [
      "3th run:\n",
      "accuracy: 0.7886029411764706\n",
      "precision:0.7980049875311721\n",
      "recall:0.6823027718550106\n",
      "\n"
     ]
    },
    {
     "name": "stderr",
     "output_type": "stream",
     "text": [
      "/opt/conda/lib/python3.7/site-packages/ipykernel_launcher.py:3: SettingWithCopyWarning: \n",
      "A value is trying to be set on a copy of a slice from a DataFrame.\n",
      "Try using .loc[row_indexer,col_indexer] = value instead\n",
      "\n",
      "See the caveats in the documentation: https://pandas.pydata.org/pandas-docs/stable/user_guide/indexing.html#returning-a-view-versus-a-copy\n",
      "  This is separate from the ipykernel package so we can avoid doing imports until\n"
     ]
    },
    {
     "name": "stdout",
     "output_type": "stream",
     "text": [
      "4th run:\n",
      "accuracy: 0.7803308823529411\n",
      "precision:0.7947368421052632\n",
      "recall:0.652267818574514\n",
      "\n"
     ]
    },
    {
     "name": "stderr",
     "output_type": "stream",
     "text": [
      "/opt/conda/lib/python3.7/site-packages/ipykernel_launcher.py:3: SettingWithCopyWarning: \n",
      "A value is trying to be set on a copy of a slice from a DataFrame.\n",
      "Try using .loc[row_indexer,col_indexer] = value instead\n",
      "\n",
      "See the caveats in the documentation: https://pandas.pydata.org/pandas-docs/stable/user_guide/indexing.html#returning-a-view-versus-a-copy\n",
      "  This is separate from the ipykernel package so we can avoid doing imports until\n"
     ]
    },
    {
     "name": "stdout",
     "output_type": "stream",
     "text": [
      "5th run:\n",
      "accuracy: 0.795768169273229\n",
      "precision:0.8114143920595533\n",
      "recall:0.6913319238900634\n",
      "\n"
     ]
    },
    {
     "name": "stderr",
     "output_type": "stream",
     "text": [
      "/opt/conda/lib/python3.7/site-packages/ipykernel_launcher.py:3: SettingWithCopyWarning: \n",
      "A value is trying to be set on a copy of a slice from a DataFrame.\n",
      "Try using .loc[row_indexer,col_indexer] = value instead\n",
      "\n",
      "See the caveats in the documentation: https://pandas.pydata.org/pandas-docs/stable/user_guide/indexing.html#returning-a-view-versus-a-copy\n",
      "  This is separate from the ipykernel package so we can avoid doing imports until\n"
     ]
    },
    {
     "name": "stdout",
     "output_type": "stream",
     "text": [
      "6th run:\n",
      "accuracy: 0.7930082796688133\n",
      "precision:0.7741935483870968\n",
      "recall:0.6713286713286714\n",
      "\n"
     ]
    },
    {
     "name": "stderr",
     "output_type": "stream",
     "text": [
      "/opt/conda/lib/python3.7/site-packages/ipykernel_launcher.py:3: SettingWithCopyWarning: \n",
      "A value is trying to be set on a copy of a slice from a DataFrame.\n",
      "Try using .loc[row_indexer,col_indexer] = value instead\n",
      "\n",
      "See the caveats in the documentation: https://pandas.pydata.org/pandas-docs/stable/user_guide/indexing.html#returning-a-view-versus-a-copy\n",
      "  This is separate from the ipykernel package so we can avoid doing imports until\n"
     ]
    },
    {
     "name": "stdout",
     "output_type": "stream",
     "text": [
      "7th run:\n",
      "accuracy: 0.7736890524379025\n",
      "precision:0.8037135278514589\n",
      "recall:0.6378947368421053\n",
      "\n",
      "Total:\n",
      "accuracy: 0.7830027584395114\n",
      "precision:0.801489757914339\n",
      "recall:0.6579027820238459\n",
      "\n"
     ]
    },
    {
     "name": "stderr",
     "output_type": "stream",
     "text": [
      "/opt/conda/lib/python3.7/site-packages/ipykernel_launcher.py:3: SettingWithCopyWarning: \n",
      "A value is trying to be set on a copy of a slice from a DataFrame.\n",
      "Try using .loc[row_indexer,col_indexer] = value instead\n",
      "\n",
      "See the caveats in the documentation: https://pandas.pydata.org/pandas-docs/stable/user_guide/indexing.html#returning-a-view-versus-a-copy\n",
      "  This is separate from the ipykernel package so we can avoid doing imports until\n"
     ]
    },
    {
     "name": "stdout",
     "output_type": "stream",
     "text": [
      "saving the results in submission.csv\n",
      "finished saving\n"
     ]
    }
   ],
   "source": [
    "df=pd.read_csv('/kaggle/input/bert-features/BERT_processed.csv')\n",
    "\n",
    "rf_parameters={\n",
    "    'n_estimators':300,\n",
    "    'max_depth':20,\n",
    "    'min_samples_split':80,\n",
    "    'min_samples_leaf':30,\n",
    "    'min_weight_fraction_leaf':0.0,\n",
    "    'max_features':'auto',\n",
    "    'max_leaf_nodes':40,\n",
    "    'min_impurity_decrease':0.0,\n",
    "    'min_impurity_split':None,\n",
    "}\n",
    "results,test_df,submission=generate_results(df,model=RandomForestClassifier(**rf_parameters),use_keyword=True)"
   ]
  },
  {
   "cell_type": "code",
   "execution_count": 12,
   "id": "5f030848",
   "metadata": {
    "_kg_hide-input": true,
    "_kg_hide-output": true,
    "execution": {
     "iopub.execute_input": "2021-12-05T12:55:34.050039Z",
     "iopub.status.busy": "2021-12-05T12:55:34.049422Z",
     "iopub.status.idle": "2021-12-05T12:56:31.455417Z",
     "shell.execute_reply": "2021-12-05T12:56:31.455898Z",
     "shell.execute_reply.started": "2021-11-19T22:07:20.904049Z"
    },
    "papermill": {
     "duration": 57.45417,
     "end_time": "2021-12-05T12:56:31.456089",
     "exception": false,
     "start_time": "2021-12-05T12:55:34.001919",
     "status": "completed"
    },
    "tags": []
   },
   "outputs": [
    {
     "name": "stderr",
     "output_type": "stream",
     "text": [
      "/opt/conda/lib/python3.7/site-packages/ipykernel_launcher.py:3: SettingWithCopyWarning: \n",
      "A value is trying to be set on a copy of a slice from a DataFrame.\n",
      "Try using .loc[row_indexer,col_indexer] = value instead\n",
      "\n",
      "See the caveats in the documentation: https://pandas.pydata.org/pandas-docs/stable/user_guide/indexing.html#returning-a-view-versus-a-copy\n",
      "  This is separate from the ipykernel package so we can avoid doing imports until\n"
     ]
    },
    {
     "name": "stdout",
     "output_type": "stream",
     "text": [
      "1th run:\n",
      "accuracy: 0.7941176470588235\n",
      "precision:0.8276762402088773\n",
      "recall:0.6673684210526316\n",
      "\n"
     ]
    },
    {
     "name": "stderr",
     "output_type": "stream",
     "text": [
      "/opt/conda/lib/python3.7/site-packages/ipykernel_launcher.py:3: SettingWithCopyWarning: \n",
      "A value is trying to be set on a copy of a slice from a DataFrame.\n",
      "Try using .loc[row_indexer,col_indexer] = value instead\n",
      "\n",
      "See the caveats in the documentation: https://pandas.pydata.org/pandas-docs/stable/user_guide/indexing.html#returning-a-view-versus-a-copy\n",
      "  This is separate from the ipykernel package so we can avoid doing imports until\n"
     ]
    },
    {
     "name": "stdout",
     "output_type": "stream",
     "text": [
      "2th run:\n",
      "accuracy: 0.7711397058823529\n",
      "precision:0.7874396135265701\n",
      "recall:0.6694045174537988\n",
      "\n"
     ]
    },
    {
     "name": "stderr",
     "output_type": "stream",
     "text": [
      "/opt/conda/lib/python3.7/site-packages/ipykernel_launcher.py:3: SettingWithCopyWarning: \n",
      "A value is trying to be set on a copy of a slice from a DataFrame.\n",
      "Try using .loc[row_indexer,col_indexer] = value instead\n",
      "\n",
      "See the caveats in the documentation: https://pandas.pydata.org/pandas-docs/stable/user_guide/indexing.html#returning-a-view-versus-a-copy\n",
      "  This is separate from the ipykernel package so we can avoid doing imports until\n"
     ]
    },
    {
     "name": "stdout",
     "output_type": "stream",
     "text": [
      "3th run:\n",
      "accuracy: 0.8115808823529411\n",
      "precision:0.8027522935779816\n",
      "recall:0.746268656716418\n",
      "\n"
     ]
    },
    {
     "name": "stderr",
     "output_type": "stream",
     "text": [
      "/opt/conda/lib/python3.7/site-packages/ipykernel_launcher.py:3: SettingWithCopyWarning: \n",
      "A value is trying to be set on a copy of a slice from a DataFrame.\n",
      "Try using .loc[row_indexer,col_indexer] = value instead\n",
      "\n",
      "See the caveats in the documentation: https://pandas.pydata.org/pandas-docs/stable/user_guide/indexing.html#returning-a-view-versus-a-copy\n",
      "  This is separate from the ipykernel package so we can avoid doing imports until\n"
     ]
    },
    {
     "name": "stdout",
     "output_type": "stream",
     "text": [
      "4th run:\n",
      "accuracy: 0.8014705882352942\n",
      "precision:0.8019559902200489\n",
      "recall:0.7084233261339092\n",
      "\n"
     ]
    },
    {
     "name": "stderr",
     "output_type": "stream",
     "text": [
      "/opt/conda/lib/python3.7/site-packages/ipykernel_launcher.py:3: SettingWithCopyWarning: \n",
      "A value is trying to be set on a copy of a slice from a DataFrame.\n",
      "Try using .loc[row_indexer,col_indexer] = value instead\n",
      "\n",
      "See the caveats in the documentation: https://pandas.pydata.org/pandas-docs/stable/user_guide/indexing.html#returning-a-view-versus-a-copy\n",
      "  This is separate from the ipykernel package so we can avoid doing imports until\n"
     ]
    },
    {
     "name": "stdout",
     "output_type": "stream",
     "text": [
      "5th run:\n",
      "accuracy: 0.7994480220791168\n",
      "precision:0.8\n",
      "recall:0.718816067653277\n",
      "\n"
     ]
    },
    {
     "name": "stderr",
     "output_type": "stream",
     "text": [
      "/opt/conda/lib/python3.7/site-packages/ipykernel_launcher.py:3: SettingWithCopyWarning: \n",
      "A value is trying to be set on a copy of a slice from a DataFrame.\n",
      "Try using .loc[row_indexer,col_indexer] = value instead\n",
      "\n",
      "See the caveats in the documentation: https://pandas.pydata.org/pandas-docs/stable/user_guide/indexing.html#returning-a-view-versus-a-copy\n",
      "  This is separate from the ipykernel package so we can avoid doing imports until\n"
     ]
    },
    {
     "name": "stdout",
     "output_type": "stream",
     "text": [
      "6th run:\n",
      "accuracy: 0.796688132474701\n",
      "precision:0.7574257425742574\n",
      "recall:0.7132867132867133\n",
      "\n"
     ]
    },
    {
     "name": "stderr",
     "output_type": "stream",
     "text": [
      "/opt/conda/lib/python3.7/site-packages/ipykernel_launcher.py:3: SettingWithCopyWarning: \n",
      "A value is trying to be set on a copy of a slice from a DataFrame.\n",
      "Try using .loc[row_indexer,col_indexer] = value instead\n",
      "\n",
      "See the caveats in the documentation: https://pandas.pydata.org/pandas-docs/stable/user_guide/indexing.html#returning-a-view-versus-a-copy\n",
      "  This is separate from the ipykernel package so we can avoid doing imports until\n"
     ]
    },
    {
     "name": "stdout",
     "output_type": "stream",
     "text": [
      "7th run:\n",
      "accuracy: 0.7884084636614536\n",
      "precision:0.811704834605598\n",
      "recall:0.671578947368421\n",
      "\n",
      "Total:\n",
      "accuracy: 0.7946932877971891\n",
      "precision:0.7981843575418994\n",
      "recall:0.6988688474472639\n",
      "\n"
     ]
    },
    {
     "name": "stderr",
     "output_type": "stream",
     "text": [
      "/opt/conda/lib/python3.7/site-packages/ipykernel_launcher.py:3: SettingWithCopyWarning: \n",
      "A value is trying to be set on a copy of a slice from a DataFrame.\n",
      "Try using .loc[row_indexer,col_indexer] = value instead\n",
      "\n",
      "See the caveats in the documentation: https://pandas.pydata.org/pandas-docs/stable/user_guide/indexing.html#returning-a-view-versus-a-copy\n",
      "  This is separate from the ipykernel package so we can avoid doing imports until\n"
     ]
    },
    {
     "name": "stdout",
     "output_type": "stream",
     "text": [
      "saving the results in submission.csv\n",
      "finished saving\n"
     ]
    }
   ],
   "source": [
    "#Best till now\n",
    "df=pd.read_csv('/kaggle/input/bert-features/BERT_processed.csv')\n",
    "results,test_df,submission=generate_results(df,model=SVC(C=5),use_keyword=True)"
   ]
  },
  {
   "cell_type": "code",
   "execution_count": 13,
   "id": "b33fb253",
   "metadata": {
    "_kg_hide-input": true,
    "_kg_hide-output": true,
    "execution": {
     "iopub.execute_input": "2021-12-05T12:56:31.558350Z",
     "iopub.status.busy": "2021-12-05T12:56:31.557664Z",
     "iopub.status.idle": "2021-12-05T12:56:53.887736Z",
     "shell.execute_reply": "2021-12-05T12:56:53.887100Z",
     "shell.execute_reply.started": "2021-11-19T22:08:16.432769Z"
    },
    "papermill": {
     "duration": 22.384323,
     "end_time": "2021-12-05T12:56:53.887915",
     "exception": false,
     "start_time": "2021-12-05T12:56:31.503592",
     "status": "completed"
    },
    "tags": []
   },
   "outputs": [
    {
     "name": "stderr",
     "output_type": "stream",
     "text": [
      "/opt/conda/lib/python3.7/site-packages/ipykernel_launcher.py:3: SettingWithCopyWarning: \n",
      "A value is trying to be set on a copy of a slice from a DataFrame.\n",
      "Try using .loc[row_indexer,col_indexer] = value instead\n",
      "\n",
      "See the caveats in the documentation: https://pandas.pydata.org/pandas-docs/stable/user_guide/indexing.html#returning-a-view-versus-a-copy\n",
      "  This is separate from the ipykernel package so we can avoid doing imports until\n"
     ]
    },
    {
     "name": "stdout",
     "output_type": "stream",
     "text": [
      "1th run:\n",
      "accuracy: 0.7362132352941176\n",
      "precision:0.7568306010928961\n",
      "recall:0.5831578947368421\n",
      "\n"
     ]
    },
    {
     "name": "stderr",
     "output_type": "stream",
     "text": [
      "/opt/conda/lib/python3.7/site-packages/ipykernel_launcher.py:3: SettingWithCopyWarning: \n",
      "A value is trying to be set on a copy of a slice from a DataFrame.\n",
      "Try using .loc[row_indexer,col_indexer] = value instead\n",
      "\n",
      "See the caveats in the documentation: https://pandas.pydata.org/pandas-docs/stable/user_guide/indexing.html#returning-a-view-versus-a-copy\n",
      "  This is separate from the ipykernel package so we can avoid doing imports until\n"
     ]
    },
    {
     "name": "stdout",
     "output_type": "stream",
     "text": [
      "2th run:\n",
      "accuracy: 0.7352941176470589\n",
      "precision:0.775623268698061\n",
      "recall:0.5749486652977412\n",
      "\n"
     ]
    },
    {
     "name": "stderr",
     "output_type": "stream",
     "text": [
      "/opt/conda/lib/python3.7/site-packages/ipykernel_launcher.py:3: SettingWithCopyWarning: \n",
      "A value is trying to be set on a copy of a slice from a DataFrame.\n",
      "Try using .loc[row_indexer,col_indexer] = value instead\n",
      "\n",
      "See the caveats in the documentation: https://pandas.pydata.org/pandas-docs/stable/user_guide/indexing.html#returning-a-view-versus-a-copy\n",
      "  This is separate from the ipykernel package so we can avoid doing imports until\n"
     ]
    },
    {
     "name": "stdout",
     "output_type": "stream",
     "text": [
      "3th run:\n",
      "accuracy: 0.7518382352941176\n",
      "precision:0.7506297229219143\n",
      "recall:0.6353944562899787\n",
      "\n"
     ]
    },
    {
     "name": "stderr",
     "output_type": "stream",
     "text": [
      "/opt/conda/lib/python3.7/site-packages/ipykernel_launcher.py:3: SettingWithCopyWarning: \n",
      "A value is trying to be set on a copy of a slice from a DataFrame.\n",
      "Try using .loc[row_indexer,col_indexer] = value instead\n",
      "\n",
      "See the caveats in the documentation: https://pandas.pydata.org/pandas-docs/stable/user_guide/indexing.html#returning-a-view-versus-a-copy\n",
      "  This is separate from the ipykernel package so we can avoid doing imports until\n"
     ]
    },
    {
     "name": "stdout",
     "output_type": "stream",
     "text": [
      "4th run:\n",
      "accuracy: 0.7637867647058824\n",
      "precision:0.7768817204301075\n",
      "recall:0.6241900647948164\n",
      "\n"
     ]
    },
    {
     "name": "stderr",
     "output_type": "stream",
     "text": [
      "/opt/conda/lib/python3.7/site-packages/ipykernel_launcher.py:3: SettingWithCopyWarning: \n",
      "A value is trying to be set on a copy of a slice from a DataFrame.\n",
      "Try using .loc[row_indexer,col_indexer] = value instead\n",
      "\n",
      "See the caveats in the documentation: https://pandas.pydata.org/pandas-docs/stable/user_guide/indexing.html#returning-a-view-versus-a-copy\n",
      "  This is separate from the ipykernel package so we can avoid doing imports until\n"
     ]
    },
    {
     "name": "stdout",
     "output_type": "stream",
     "text": [
      "5th run:\n",
      "accuracy: 0.7681692732290708\n",
      "precision:0.8027397260273973\n",
      "recall:0.6194503171247357\n",
      "\n"
     ]
    },
    {
     "name": "stderr",
     "output_type": "stream",
     "text": [
      "/opt/conda/lib/python3.7/site-packages/ipykernel_launcher.py:3: SettingWithCopyWarning: \n",
      "A value is trying to be set on a copy of a slice from a DataFrame.\n",
      "Try using .loc[row_indexer,col_indexer] = value instead\n",
      "\n",
      "See the caveats in the documentation: https://pandas.pydata.org/pandas-docs/stable/user_guide/indexing.html#returning-a-view-versus-a-copy\n",
      "  This is separate from the ipykernel package so we can avoid doing imports until\n"
     ]
    },
    {
     "name": "stdout",
     "output_type": "stream",
     "text": [
      "6th run:\n",
      "accuracy: 0.7608095676172953\n",
      "precision:0.7393767705382436\n",
      "recall:0.6083916083916084\n",
      "\n"
     ]
    },
    {
     "name": "stderr",
     "output_type": "stream",
     "text": [
      "/opt/conda/lib/python3.7/site-packages/ipykernel_launcher.py:3: SettingWithCopyWarning: \n",
      "A value is trying to be set on a copy of a slice from a DataFrame.\n",
      "Try using .loc[row_indexer,col_indexer] = value instead\n",
      "\n",
      "See the caveats in the documentation: https://pandas.pydata.org/pandas-docs/stable/user_guide/indexing.html#returning-a-view-versus-a-copy\n",
      "  This is separate from the ipykernel package so we can avoid doing imports until\n"
     ]
    },
    {
     "name": "stdout",
     "output_type": "stream",
     "text": [
      "7th run:\n",
      "accuracy: 0.7506899724011039\n",
      "precision:0.7865168539325843\n",
      "recall:0.5894736842105263\n",
      "\n",
      "Total:\n",
      "accuracy: 0.7523972152896361\n",
      "precision:0.7696498054474709\n",
      "recall:0.6047080403546317\n",
      "\n"
     ]
    },
    {
     "name": "stderr",
     "output_type": "stream",
     "text": [
      "/opt/conda/lib/python3.7/site-packages/ipykernel_launcher.py:3: SettingWithCopyWarning: \n",
      "A value is trying to be set on a copy of a slice from a DataFrame.\n",
      "Try using .loc[row_indexer,col_indexer] = value instead\n",
      "\n",
      "See the caveats in the documentation: https://pandas.pydata.org/pandas-docs/stable/user_guide/indexing.html#returning-a-view-versus-a-copy\n",
      "  This is separate from the ipykernel package so we can avoid doing imports until\n"
     ]
    },
    {
     "name": "stdout",
     "output_type": "stream",
     "text": [
      "saving the results in submission.csv\n",
      "finished saving\n"
     ]
    }
   ],
   "source": [
    "df=pd.read_csv('/kaggle/input/bert-features/BERT_processed.csv')\n",
    "results,test_df,submission=generate_results(df,model=KNeighborsClassifier(200,weights='distance',p=2),use_keyword=True)"
   ]
  },
  {
   "cell_type": "code",
   "execution_count": 14,
   "id": "541197d6",
   "metadata": {
    "_kg_hide-input": true,
    "_kg_hide-output": true,
    "execution": {
     "iopub.execute_input": "2021-12-05T12:56:53.997805Z",
     "iopub.status.busy": "2021-12-05T12:56:53.997161Z",
     "iopub.status.idle": "2021-12-05T12:56:54.001361Z",
     "shell.execute_reply": "2021-12-05T12:56:54.000880Z",
     "shell.execute_reply.started": "2021-11-19T22:08:36.49344Z"
    },
    "papermill": {
     "duration": 0.062689,
     "end_time": "2021-12-05T12:56:54.001499",
     "exception": false,
     "start_time": "2021-12-05T12:56:53.938810",
     "status": "completed"
    },
    "tags": []
   },
   "outputs": [
    {
     "data": {
      "text/plain": [
       "array([[3750,  592],\n",
       "       [1293, 1978]])"
      ]
     },
     "execution_count": 14,
     "metadata": {},
     "output_type": "execute_result"
    }
   ],
   "source": [
    "results,test_df,submission\n",
    "results['Total']"
   ]
  },
  {
   "cell_type": "code",
   "execution_count": 15,
   "id": "62b726ed",
   "metadata": {
    "_kg_hide-input": true,
    "_kg_hide-output": true,
    "execution": {
     "iopub.execute_input": "2021-12-05T12:56:54.109509Z",
     "iopub.status.busy": "2021-12-05T12:56:54.108841Z",
     "iopub.status.idle": "2021-12-05T12:56:54.112000Z",
     "shell.execute_reply": "2021-12-05T12:56:54.111398Z",
     "shell.execute_reply.started": "2021-11-19T22:08:36.503293Z"
    },
    "papermill": {
     "duration": 0.059914,
     "end_time": "2021-12-05T12:56:54.112137",
     "exception": false,
     "start_time": "2021-12-05T12:56:54.052223",
     "status": "completed"
    },
    "tags": []
   },
   "outputs": [
    {
     "data": {
      "text/plain": [
       "0.7523972152896361"
      ]
     },
     "execution_count": 15,
     "metadata": {},
     "output_type": "execute_result"
    }
   ],
   "source": [
    "tn, fp, fn, tp = results['Total'].ravel()\n",
    "(tn+tp)/(tn+fp+fn+tp)"
   ]
  },
  {
   "cell_type": "markdown",
   "id": "9db9cd7d",
   "metadata": {
    "papermill": {
     "duration": 0.051856,
     "end_time": "2021-12-05T12:56:54.216230",
     "exception": false,
     "start_time": "2021-12-05T12:56:54.164374",
     "status": "completed"
    },
    "tags": []
   },
   "source": [
    "<h2><b>Get The Data</b></h2>"
   ]
  },
  {
   "cell_type": "code",
   "execution_count": 16,
   "id": "a96968d7",
   "metadata": {
    "execution": {
     "iopub.execute_input": "2021-12-05T12:56:54.321822Z",
     "iopub.status.busy": "2021-12-05T12:56:54.321192Z",
     "iopub.status.idle": "2021-12-05T12:56:54.400144Z",
     "shell.execute_reply": "2021-12-05T12:56:54.400664Z",
     "shell.execute_reply.started": "2021-12-05T11:32:05.305470Z"
    },
    "papermill": {
     "duration": 0.13353,
     "end_time": "2021-12-05T12:56:54.400873",
     "exception": false,
     "start_time": "2021-12-05T12:56:54.267343",
     "status": "completed"
    },
    "tags": []
   },
   "outputs": [],
   "source": [
    "train_df=pd.read_csv('/kaggle/input/nlp-getting-started/train.csv')\n",
    "test_df=pd.read_csv('/kaggle/input/nlp-getting-started/test.csv')\n",
    "sample_submission=pd.read_csv('/kaggle/input/nlp-getting-started/sample_submission.csv')"
   ]
  },
  {
   "cell_type": "code",
   "execution_count": 17,
   "id": "431543c9",
   "metadata": {
    "execution": {
     "iopub.execute_input": "2021-12-05T12:56:54.506870Z",
     "iopub.status.busy": "2021-12-05T12:56:54.506246Z",
     "iopub.status.idle": "2021-12-05T12:56:54.524078Z",
     "shell.execute_reply": "2021-12-05T12:56:54.524571Z",
     "shell.execute_reply.started": "2021-11-19T22:08:36.596455Z"
    },
    "papermill": {
     "duration": 0.072375,
     "end_time": "2021-12-05T12:56:54.524740",
     "exception": false,
     "start_time": "2021-12-05T12:56:54.452365",
     "status": "completed"
    },
    "tags": []
   },
   "outputs": [
    {
     "data": {
      "text/html": [
       "<div>\n",
       "<style scoped>\n",
       "    .dataframe tbody tr th:only-of-type {\n",
       "        vertical-align: middle;\n",
       "    }\n",
       "\n",
       "    .dataframe tbody tr th {\n",
       "        vertical-align: top;\n",
       "    }\n",
       "\n",
       "    .dataframe thead th {\n",
       "        text-align: right;\n",
       "    }\n",
       "</style>\n",
       "<table border=\"1\" class=\"dataframe\">\n",
       "  <thead>\n",
       "    <tr style=\"text-align: right;\">\n",
       "      <th></th>\n",
       "      <th>id</th>\n",
       "      <th>target</th>\n",
       "    </tr>\n",
       "  </thead>\n",
       "  <tbody>\n",
       "    <tr>\n",
       "      <th>0</th>\n",
       "      <td>0</td>\n",
       "      <td>0</td>\n",
       "    </tr>\n",
       "    <tr>\n",
       "      <th>1</th>\n",
       "      <td>2</td>\n",
       "      <td>0</td>\n",
       "    </tr>\n",
       "    <tr>\n",
       "      <th>2</th>\n",
       "      <td>3</td>\n",
       "      <td>0</td>\n",
       "    </tr>\n",
       "    <tr>\n",
       "      <th>3</th>\n",
       "      <td>9</td>\n",
       "      <td>0</td>\n",
       "    </tr>\n",
       "    <tr>\n",
       "      <th>4</th>\n",
       "      <td>11</td>\n",
       "      <td>0</td>\n",
       "    </tr>\n",
       "    <tr>\n",
       "      <th>...</th>\n",
       "      <td>...</td>\n",
       "      <td>...</td>\n",
       "    </tr>\n",
       "    <tr>\n",
       "      <th>3258</th>\n",
       "      <td>10861</td>\n",
       "      <td>0</td>\n",
       "    </tr>\n",
       "    <tr>\n",
       "      <th>3259</th>\n",
       "      <td>10865</td>\n",
       "      <td>0</td>\n",
       "    </tr>\n",
       "    <tr>\n",
       "      <th>3260</th>\n",
       "      <td>10868</td>\n",
       "      <td>0</td>\n",
       "    </tr>\n",
       "    <tr>\n",
       "      <th>3261</th>\n",
       "      <td>10874</td>\n",
       "      <td>0</td>\n",
       "    </tr>\n",
       "    <tr>\n",
       "      <th>3262</th>\n",
       "      <td>10875</td>\n",
       "      <td>0</td>\n",
       "    </tr>\n",
       "  </tbody>\n",
       "</table>\n",
       "<p>3263 rows × 2 columns</p>\n",
       "</div>"
      ],
      "text/plain": [
       "         id  target\n",
       "0         0       0\n",
       "1         2       0\n",
       "2         3       0\n",
       "3         9       0\n",
       "4        11       0\n",
       "...     ...     ...\n",
       "3258  10861       0\n",
       "3259  10865       0\n",
       "3260  10868       0\n",
       "3261  10874       0\n",
       "3262  10875       0\n",
       "\n",
       "[3263 rows x 2 columns]"
      ]
     },
     "execution_count": 17,
     "metadata": {},
     "output_type": "execute_result"
    }
   ],
   "source": [
    "sample_submission"
   ]
  },
  {
   "cell_type": "code",
   "execution_count": 18,
   "id": "d4db9026",
   "metadata": {
    "execution": {
     "iopub.execute_input": "2021-12-05T12:56:54.631581Z",
     "iopub.status.busy": "2021-12-05T12:56:54.630988Z",
     "iopub.status.idle": "2021-12-05T12:56:54.648954Z",
     "shell.execute_reply": "2021-12-05T12:56:54.648402Z",
     "shell.execute_reply.started": "2021-12-05T11:32:12.681911Z"
    },
    "papermill": {
     "duration": 0.072796,
     "end_time": "2021-12-05T12:56:54.649093",
     "exception": false,
     "start_time": "2021-12-05T12:56:54.576297",
     "status": "completed"
    },
    "tags": []
   },
   "outputs": [
    {
     "data": {
      "text/html": [
       "<div>\n",
       "<style scoped>\n",
       "    .dataframe tbody tr th:only-of-type {\n",
       "        vertical-align: middle;\n",
       "    }\n",
       "\n",
       "    .dataframe tbody tr th {\n",
       "        vertical-align: top;\n",
       "    }\n",
       "\n",
       "    .dataframe thead th {\n",
       "        text-align: right;\n",
       "    }\n",
       "</style>\n",
       "<table border=\"1\" class=\"dataframe\">\n",
       "  <thead>\n",
       "    <tr style=\"text-align: right;\">\n",
       "      <th></th>\n",
       "      <th>id</th>\n",
       "      <th>keyword</th>\n",
       "      <th>location</th>\n",
       "      <th>text</th>\n",
       "      <th>target</th>\n",
       "    </tr>\n",
       "  </thead>\n",
       "  <tbody>\n",
       "    <tr>\n",
       "      <th>31</th>\n",
       "      <td>48</td>\n",
       "      <td>ablaze</td>\n",
       "      <td>Birmingham</td>\n",
       "      <td>@bbcmtd Wholesale Markets ablaze http://t.co/l...</td>\n",
       "      <td>1</td>\n",
       "    </tr>\n",
       "    <tr>\n",
       "      <th>32</th>\n",
       "      <td>49</td>\n",
       "      <td>ablaze</td>\n",
       "      <td>Est. September 2012 - Bristol</td>\n",
       "      <td>We always try to bring the heavy. #metal #RT h...</td>\n",
       "      <td>0</td>\n",
       "    </tr>\n",
       "    <tr>\n",
       "      <th>33</th>\n",
       "      <td>50</td>\n",
       "      <td>ablaze</td>\n",
       "      <td>AFRICA</td>\n",
       "      <td>#AFRICANBAZE: Breaking news:Nigeria flag set a...</td>\n",
       "      <td>1</td>\n",
       "    </tr>\n",
       "    <tr>\n",
       "      <th>34</th>\n",
       "      <td>52</td>\n",
       "      <td>ablaze</td>\n",
       "      <td>Philadelphia, PA</td>\n",
       "      <td>Crying out for more! Set me ablaze</td>\n",
       "      <td>0</td>\n",
       "    </tr>\n",
       "    <tr>\n",
       "      <th>35</th>\n",
       "      <td>53</td>\n",
       "      <td>ablaze</td>\n",
       "      <td>London, UK</td>\n",
       "      <td>On plus side LOOK AT THE SKY LAST NIGHT IT WAS...</td>\n",
       "      <td>0</td>\n",
       "    </tr>\n",
       "    <tr>\n",
       "      <th>...</th>\n",
       "      <td>...</td>\n",
       "      <td>...</td>\n",
       "      <td>...</td>\n",
       "      <td>...</td>\n",
       "      <td>...</td>\n",
       "    </tr>\n",
       "    <tr>\n",
       "      <th>7578</th>\n",
       "      <td>10830</td>\n",
       "      <td>wrecked</td>\n",
       "      <td>NaN</td>\n",
       "      <td>@jt_ruff23 @cameronhacker and I wrecked you both</td>\n",
       "      <td>0</td>\n",
       "    </tr>\n",
       "    <tr>\n",
       "      <th>7579</th>\n",
       "      <td>10831</td>\n",
       "      <td>wrecked</td>\n",
       "      <td>Vancouver, Canada</td>\n",
       "      <td>Three days off from work and they've pretty mu...</td>\n",
       "      <td>0</td>\n",
       "    </tr>\n",
       "    <tr>\n",
       "      <th>7580</th>\n",
       "      <td>10832</td>\n",
       "      <td>wrecked</td>\n",
       "      <td>London</td>\n",
       "      <td>#FX #forex #trading Cramer: Iger's 3 words tha...</td>\n",
       "      <td>0</td>\n",
       "    </tr>\n",
       "    <tr>\n",
       "      <th>7581</th>\n",
       "      <td>10833</td>\n",
       "      <td>wrecked</td>\n",
       "      <td>Lincoln</td>\n",
       "      <td>@engineshed Great atmosphere at the British Li...</td>\n",
       "      <td>0</td>\n",
       "    </tr>\n",
       "    <tr>\n",
       "      <th>7582</th>\n",
       "      <td>10834</td>\n",
       "      <td>wrecked</td>\n",
       "      <td>NaN</td>\n",
       "      <td>Cramer: Iger's 3 words that wrecked Disney's s...</td>\n",
       "      <td>0</td>\n",
       "    </tr>\n",
       "  </tbody>\n",
       "</table>\n",
       "<p>7552 rows × 5 columns</p>\n",
       "</div>"
      ],
      "text/plain": [
       "         id  keyword                       location  \\\n",
       "31       48   ablaze                     Birmingham   \n",
       "32       49   ablaze  Est. September 2012 - Bristol   \n",
       "33       50   ablaze                         AFRICA   \n",
       "34       52   ablaze               Philadelphia, PA   \n",
       "35       53   ablaze                     London, UK   \n",
       "...     ...      ...                            ...   \n",
       "7578  10830  wrecked                            NaN   \n",
       "7579  10831  wrecked              Vancouver, Canada   \n",
       "7580  10832  wrecked                        London    \n",
       "7581  10833  wrecked                        Lincoln   \n",
       "7582  10834  wrecked                            NaN   \n",
       "\n",
       "                                                   text  target  \n",
       "31    @bbcmtd Wholesale Markets ablaze http://t.co/l...       1  \n",
       "32    We always try to bring the heavy. #metal #RT h...       0  \n",
       "33    #AFRICANBAZE: Breaking news:Nigeria flag set a...       1  \n",
       "34                   Crying out for more! Set me ablaze       0  \n",
       "35    On plus side LOOK AT THE SKY LAST NIGHT IT WAS...       0  \n",
       "...                                                 ...     ...  \n",
       "7578   @jt_ruff23 @cameronhacker and I wrecked you both       0  \n",
       "7579  Three days off from work and they've pretty mu...       0  \n",
       "7580  #FX #forex #trading Cramer: Iger's 3 words tha...       0  \n",
       "7581  @engineshed Great atmosphere at the British Li...       0  \n",
       "7582  Cramer: Iger's 3 words that wrecked Disney's s...       0  \n",
       "\n",
       "[7552 rows x 5 columns]"
      ]
     },
     "execution_count": 18,
     "metadata": {},
     "output_type": "execute_result"
    }
   ],
   "source": [
    "train_df[train_df['keyword'].notnull()]"
   ]
  },
  {
   "cell_type": "code",
   "execution_count": 19,
   "id": "5ce43b37",
   "metadata": {
    "execution": {
     "iopub.execute_input": "2021-12-05T12:56:54.769388Z",
     "iopub.status.busy": "2021-12-05T12:56:54.764093Z",
     "iopub.status.idle": "2021-12-05T12:56:54.773116Z",
     "shell.execute_reply": "2021-12-05T12:56:54.773637Z",
     "shell.execute_reply.started": "2021-12-05T11:32:13.063197Z"
    },
    "papermill": {
     "duration": 0.072277,
     "end_time": "2021-12-05T12:56:54.773845",
     "exception": false,
     "start_time": "2021-12-05T12:56:54.701568",
     "status": "completed"
    },
    "tags": []
   },
   "outputs": [
    {
     "data": {
      "text/html": [
       "<div>\n",
       "<style scoped>\n",
       "    .dataframe tbody tr th:only-of-type {\n",
       "        vertical-align: middle;\n",
       "    }\n",
       "\n",
       "    .dataframe tbody tr th {\n",
       "        vertical-align: top;\n",
       "    }\n",
       "\n",
       "    .dataframe thead th {\n",
       "        text-align: right;\n",
       "    }\n",
       "</style>\n",
       "<table border=\"1\" class=\"dataframe\">\n",
       "  <thead>\n",
       "    <tr style=\"text-align: right;\">\n",
       "      <th></th>\n",
       "      <th>id</th>\n",
       "      <th>keyword</th>\n",
       "      <th>location</th>\n",
       "      <th>text</th>\n",
       "    </tr>\n",
       "  </thead>\n",
       "  <tbody>\n",
       "    <tr>\n",
       "      <th>0</th>\n",
       "      <td>0</td>\n",
       "      <td>unk</td>\n",
       "      <td>NaN</td>\n",
       "      <td>Just happened a terrible car crash</td>\n",
       "    </tr>\n",
       "    <tr>\n",
       "      <th>1</th>\n",
       "      <td>2</td>\n",
       "      <td>unk</td>\n",
       "      <td>NaN</td>\n",
       "      <td>Heard about #earthquake is different cities, s...</td>\n",
       "    </tr>\n",
       "    <tr>\n",
       "      <th>2</th>\n",
       "      <td>3</td>\n",
       "      <td>unk</td>\n",
       "      <td>NaN</td>\n",
       "      <td>there is a forest fire at spot pond, geese are...</td>\n",
       "    </tr>\n",
       "    <tr>\n",
       "      <th>3</th>\n",
       "      <td>9</td>\n",
       "      <td>unk</td>\n",
       "      <td>NaN</td>\n",
       "      <td>Apocalypse lighting. #Spokane #wildfires</td>\n",
       "    </tr>\n",
       "    <tr>\n",
       "      <th>4</th>\n",
       "      <td>11</td>\n",
       "      <td>unk</td>\n",
       "      <td>NaN</td>\n",
       "      <td>Typhoon Soudelor kills 28 in China and Taiwan</td>\n",
       "    </tr>\n",
       "    <tr>\n",
       "      <th>...</th>\n",
       "      <td>...</td>\n",
       "      <td>...</td>\n",
       "      <td>...</td>\n",
       "      <td>...</td>\n",
       "    </tr>\n",
       "    <tr>\n",
       "      <th>3258</th>\n",
       "      <td>10861</td>\n",
       "      <td>unk</td>\n",
       "      <td>NaN</td>\n",
       "      <td>EARTHQUAKE SAFETY LOS ANGELES ÛÒ SAFETY FASTE...</td>\n",
       "    </tr>\n",
       "    <tr>\n",
       "      <th>3259</th>\n",
       "      <td>10865</td>\n",
       "      <td>unk</td>\n",
       "      <td>NaN</td>\n",
       "      <td>Storm in RI worse than last hurricane. My city...</td>\n",
       "    </tr>\n",
       "    <tr>\n",
       "      <th>3260</th>\n",
       "      <td>10868</td>\n",
       "      <td>unk</td>\n",
       "      <td>NaN</td>\n",
       "      <td>Green Line derailment in Chicago http://t.co/U...</td>\n",
       "    </tr>\n",
       "    <tr>\n",
       "      <th>3261</th>\n",
       "      <td>10874</td>\n",
       "      <td>unk</td>\n",
       "      <td>NaN</td>\n",
       "      <td>MEG issues Hazardous Weather Outlook (HWO) htt...</td>\n",
       "    </tr>\n",
       "    <tr>\n",
       "      <th>3262</th>\n",
       "      <td>10875</td>\n",
       "      <td>unk</td>\n",
       "      <td>NaN</td>\n",
       "      <td>#CityofCalgary has activated its Municipal Eme...</td>\n",
       "    </tr>\n",
       "  </tbody>\n",
       "</table>\n",
       "<p>3263 rows × 4 columns</p>\n",
       "</div>"
      ],
      "text/plain": [
       "         id keyword location  \\\n",
       "0         0     unk      NaN   \n",
       "1         2     unk      NaN   \n",
       "2         3     unk      NaN   \n",
       "3         9     unk      NaN   \n",
       "4        11     unk      NaN   \n",
       "...     ...     ...      ...   \n",
       "3258  10861     unk      NaN   \n",
       "3259  10865     unk      NaN   \n",
       "3260  10868     unk      NaN   \n",
       "3261  10874     unk      NaN   \n",
       "3262  10875     unk      NaN   \n",
       "\n",
       "                                                   text  \n",
       "0                    Just happened a terrible car crash  \n",
       "1     Heard about #earthquake is different cities, s...  \n",
       "2     there is a forest fire at spot pond, geese are...  \n",
       "3              Apocalypse lighting. #Spokane #wildfires  \n",
       "4         Typhoon Soudelor kills 28 in China and Taiwan  \n",
       "...                                                 ...  \n",
       "3258  EARTHQUAKE SAFETY LOS ANGELES ÛÒ SAFETY FASTE...  \n",
       "3259  Storm in RI worse than last hurricane. My city...  \n",
       "3260  Green Line derailment in Chicago http://t.co/U...  \n",
       "3261  MEG issues Hazardous Weather Outlook (HWO) htt...  \n",
       "3262  #CityofCalgary has activated its Municipal Eme...  \n",
       "\n",
       "[3263 rows x 4 columns]"
      ]
     },
     "execution_count": 19,
     "metadata": {},
     "output_type": "execute_result"
    }
   ],
   "source": [
    "test_df['keyword']=test_df['keyword'].fillna('unk')\n",
    "test_df"
   ]
  },
  {
   "cell_type": "code",
   "execution_count": 20,
   "id": "92407945",
   "metadata": {
    "execution": {
     "iopub.execute_input": "2021-12-05T12:56:54.883675Z",
     "iopub.status.busy": "2021-12-05T12:56:54.883072Z",
     "iopub.status.idle": "2021-12-05T12:56:54.903429Z",
     "shell.execute_reply": "2021-12-05T12:56:54.903935Z",
     "shell.execute_reply.started": "2021-12-05T11:32:13.382358Z"
    },
    "papermill": {
     "duration": 0.077421,
     "end_time": "2021-12-05T12:56:54.904110",
     "exception": false,
     "start_time": "2021-12-05T12:56:54.826689",
     "status": "completed"
    },
    "tags": []
   },
   "outputs": [
    {
     "data": {
      "text/html": [
       "<div>\n",
       "<style scoped>\n",
       "    .dataframe tbody tr th:only-of-type {\n",
       "        vertical-align: middle;\n",
       "    }\n",
       "\n",
       "    .dataframe tbody tr th {\n",
       "        vertical-align: top;\n",
       "    }\n",
       "\n",
       "    .dataframe thead th {\n",
       "        text-align: right;\n",
       "    }\n",
       "</style>\n",
       "<table border=\"1\" class=\"dataframe\">\n",
       "  <thead>\n",
       "    <tr style=\"text-align: right;\">\n",
       "      <th></th>\n",
       "      <th>id</th>\n",
       "      <th>target</th>\n",
       "    </tr>\n",
       "  </thead>\n",
       "  <tbody>\n",
       "    <tr>\n",
       "      <th>count</th>\n",
       "      <td>7613.000000</td>\n",
       "      <td>7613.00000</td>\n",
       "    </tr>\n",
       "    <tr>\n",
       "      <th>mean</th>\n",
       "      <td>5441.934848</td>\n",
       "      <td>0.42966</td>\n",
       "    </tr>\n",
       "    <tr>\n",
       "      <th>std</th>\n",
       "      <td>3137.116090</td>\n",
       "      <td>0.49506</td>\n",
       "    </tr>\n",
       "    <tr>\n",
       "      <th>min</th>\n",
       "      <td>1.000000</td>\n",
       "      <td>0.00000</td>\n",
       "    </tr>\n",
       "    <tr>\n",
       "      <th>25%</th>\n",
       "      <td>2734.000000</td>\n",
       "      <td>0.00000</td>\n",
       "    </tr>\n",
       "    <tr>\n",
       "      <th>50%</th>\n",
       "      <td>5408.000000</td>\n",
       "      <td>0.00000</td>\n",
       "    </tr>\n",
       "    <tr>\n",
       "      <th>75%</th>\n",
       "      <td>8146.000000</td>\n",
       "      <td>1.00000</td>\n",
       "    </tr>\n",
       "    <tr>\n",
       "      <th>max</th>\n",
       "      <td>10873.000000</td>\n",
       "      <td>1.00000</td>\n",
       "    </tr>\n",
       "  </tbody>\n",
       "</table>\n",
       "</div>"
      ],
      "text/plain": [
       "                 id      target\n",
       "count   7613.000000  7613.00000\n",
       "mean    5441.934848     0.42966\n",
       "std     3137.116090     0.49506\n",
       "min        1.000000     0.00000\n",
       "25%     2734.000000     0.00000\n",
       "50%     5408.000000     0.00000\n",
       "75%     8146.000000     1.00000\n",
       "max    10873.000000     1.00000"
      ]
     },
     "execution_count": 20,
     "metadata": {},
     "output_type": "execute_result"
    }
   ],
   "source": [
    "train_df.describe()"
   ]
  },
  {
   "cell_type": "code",
   "execution_count": 21,
   "id": "84922dfa",
   "metadata": {
    "execution": {
     "iopub.execute_input": "2021-12-05T12:56:55.014656Z",
     "iopub.status.busy": "2021-12-05T12:56:55.014090Z",
     "iopub.status.idle": "2021-12-05T12:56:55.024492Z",
     "shell.execute_reply": "2021-12-05T12:56:55.024988Z",
     "shell.execute_reply.started": "2021-12-05T11:32:17.393988Z"
    },
    "papermill": {
     "duration": 0.067754,
     "end_time": "2021-12-05T12:56:55.025180",
     "exception": false,
     "start_time": "2021-12-05T12:56:54.957426",
     "status": "completed"
    },
    "tags": []
   },
   "outputs": [
    {
     "data": {
      "text/plain": [
       "id          0.000000\n",
       "keyword     0.008013\n",
       "location    0.332720\n",
       "text        0.000000\n",
       "target      0.000000\n",
       "dtype: float64"
      ]
     },
     "execution_count": 21,
     "metadata": {},
     "output_type": "execute_result"
    }
   ],
   "source": [
    "pd.isna(train_df).sum()/len(train_df)"
   ]
  },
  {
   "cell_type": "code",
   "execution_count": 22,
   "id": "fff9e9e5",
   "metadata": {
    "execution": {
     "iopub.execute_input": "2021-12-05T12:56:55.135870Z",
     "iopub.status.busy": "2021-12-05T12:56:55.135244Z",
     "iopub.status.idle": "2021-12-05T12:56:55.141872Z",
     "shell.execute_reply": "2021-12-05T12:56:55.142641Z",
     "shell.execute_reply.started": "2021-12-05T11:32:27.479387Z"
    },
    "papermill": {
     "duration": 0.064436,
     "end_time": "2021-12-05T12:56:55.142941",
     "exception": false,
     "start_time": "2021-12-05T12:56:55.078505",
     "status": "completed"
    },
    "tags": []
   },
   "outputs": [
    {
     "name": "stdout",
     "output_type": "stream",
     "text": [
      "the percentage of ones in the dataset is 0.43\n"
     ]
    }
   ],
   "source": [
    "positive_class=train_df['target'].sum()/len(train_df)\n",
    "print(f'the percentage of ones in the dataset is {np.round(positive_class,2)}')"
   ]
  },
  {
   "cell_type": "markdown",
   "id": "d26fac5e",
   "metadata": {
    "papermill": {
     "duration": 0.053381,
     "end_time": "2021-12-05T12:56:55.250895",
     "exception": false,
     "start_time": "2021-12-05T12:56:55.197514",
     "status": "completed"
    },
    "tags": []
   },
   "source": [
    "<h2><b>Simple Methods</b></h2>\n",
    "\n",
    "<h4 style='text-align: justify;'>\n",
    "First I did submit the sample results. It achieved a 57% accuracy score. Afterwards, I used generated output files from each of the keyword and location columns. Hence, we can sense what score can be reached using easy methods and whatmore advanced ones can do.\n",
    "</h4>"
   ]
  },
  {
   "cell_type": "code",
   "execution_count": 23,
   "id": "422a13cc",
   "metadata": {
    "execution": {
     "iopub.execute_input": "2021-12-05T12:56:55.361461Z",
     "iopub.status.busy": "2021-12-05T12:56:55.360827Z",
     "iopub.status.idle": "2021-12-05T12:56:56.063376Z",
     "shell.execute_reply": "2021-12-05T12:56:56.063835Z",
     "shell.execute_reply.started": "2021-11-19T22:08:36.710966Z"
    },
    "papermill": {
     "duration": 0.759664,
     "end_time": "2021-12-05T12:56:56.064027",
     "exception": false,
     "start_time": "2021-12-05T12:56:55.304363",
     "status": "completed"
    },
    "tags": []
   },
   "outputs": [],
   "source": [
    "keyword_df=pd.DataFrame()\n",
    "i=0\n",
    "for keyword,group_df in train_df[['keyword','target']].fillna('unk').groupby('keyword'):\n",
    "    positive_Kkeyword=group_df['target'].sum()/len(group_df)\n",
    "    keyword_df.loc[i,['keyword']]=keyword\n",
    "    keyword_df.loc[i,['count']]=len(group_df)\n",
    "    keyword_df.loc[i,['% positive']]=positive_Kkeyword\n",
    "    i+=1\n",
    "#keyword_df.to_csv('keyword_df.csv')"
   ]
  },
  {
   "cell_type": "code",
   "execution_count": 24,
   "id": "8b64a1ee",
   "metadata": {
    "execution": {
     "iopub.execute_input": "2021-12-05T12:56:56.176313Z",
     "iopub.status.busy": "2021-12-05T12:56:56.175684Z",
     "iopub.status.idle": "2021-12-05T12:57:07.264731Z",
     "shell.execute_reply": "2021-12-05T12:57:07.265247Z",
     "shell.execute_reply.started": "2021-11-19T22:08:37.501224Z"
    },
    "papermill": {
     "duration": 11.147306,
     "end_time": "2021-12-05T12:57:07.265465",
     "exception": false,
     "start_time": "2021-12-05T12:56:56.118159",
     "status": "completed"
    },
    "tags": []
   },
   "outputs": [],
   "source": [
    "location_df=pd.DataFrame()\n",
    "i=0\n",
    "for keyword,group_df in train_df[['location','target']].fillna('unk').groupby('location'):\n",
    "    positive_Kkeyword=group_df['target'].sum()/len(group_df)\n",
    "    location_df.loc[i,['location']]=keyword\n",
    "    location_df.loc[i,['count']]=len(group_df)\n",
    "    location_df.loc[i,['% positive']]=positive_Kkeyword\n",
    "    i+=1\n",
    "#location_df.to_csv('location_df.csv')"
   ]
  },
  {
   "cell_type": "markdown",
   "id": "6c6837e0",
   "metadata": {
    "papermill": {
     "duration": 0.053319,
     "end_time": "2021-12-05T12:57:07.372681",
     "exception": false,
     "start_time": "2021-12-05T12:57:07.319362",
     "status": "completed"
    },
    "tags": []
   },
   "source": [
    "<h4>The idea is to group each row with the same column value (for keyword_df the keyword column while for the location_df the location column). Afterwards, some useful information is added, the most important one (the one that is used in the model) is the % positive which is basically the mean of the target for each group.</h4>"
   ]
  },
  {
   "cell_type": "code",
   "execution_count": 25,
   "id": "faaee906",
   "metadata": {
    "execution": {
     "iopub.execute_input": "2021-12-05T12:57:07.483223Z",
     "iopub.status.busy": "2021-12-05T12:57:07.482601Z",
     "iopub.status.idle": "2021-12-05T12:57:07.492911Z",
     "shell.execute_reply": "2021-12-05T12:57:07.493356Z",
     "shell.execute_reply.started": "2021-11-19T22:08:49.388462Z"
    },
    "papermill": {
     "duration": 0.067607,
     "end_time": "2021-12-05T12:57:07.493518",
     "exception": false,
     "start_time": "2021-12-05T12:57:07.425911",
     "status": "completed"
    },
    "tags": []
   },
   "outputs": [
    {
     "data": {
      "text/html": [
       "<div>\n",
       "<style scoped>\n",
       "    .dataframe tbody tr th:only-of-type {\n",
       "        vertical-align: middle;\n",
       "    }\n",
       "\n",
       "    .dataframe tbody tr th {\n",
       "        vertical-align: top;\n",
       "    }\n",
       "\n",
       "    .dataframe thead th {\n",
       "        text-align: right;\n",
       "    }\n",
       "</style>\n",
       "<table border=\"1\" class=\"dataframe\">\n",
       "  <thead>\n",
       "    <tr style=\"text-align: right;\">\n",
       "      <th></th>\n",
       "      <th>keyword</th>\n",
       "      <th>count</th>\n",
       "      <th>% positive</th>\n",
       "    </tr>\n",
       "  </thead>\n",
       "  <tbody>\n",
       "    <tr>\n",
       "      <th>0</th>\n",
       "      <td>ablaze</td>\n",
       "      <td>36.0</td>\n",
       "      <td>0.361111</td>\n",
       "    </tr>\n",
       "    <tr>\n",
       "      <th>1</th>\n",
       "      <td>accident</td>\n",
       "      <td>35.0</td>\n",
       "      <td>0.685714</td>\n",
       "    </tr>\n",
       "    <tr>\n",
       "      <th>2</th>\n",
       "      <td>aftershock</td>\n",
       "      <td>34.0</td>\n",
       "      <td>0.000000</td>\n",
       "    </tr>\n",
       "    <tr>\n",
       "      <th>3</th>\n",
       "      <td>airplane%20accident</td>\n",
       "      <td>35.0</td>\n",
       "      <td>0.857143</td>\n",
       "    </tr>\n",
       "    <tr>\n",
       "      <th>4</th>\n",
       "      <td>ambulance</td>\n",
       "      <td>38.0</td>\n",
       "      <td>0.526316</td>\n",
       "    </tr>\n",
       "  </tbody>\n",
       "</table>\n",
       "</div>"
      ],
      "text/plain": [
       "               keyword  count  % positive\n",
       "0               ablaze   36.0    0.361111\n",
       "1             accident   35.0    0.685714\n",
       "2           aftershock   34.0    0.000000\n",
       "3  airplane%20accident   35.0    0.857143\n",
       "4            ambulance   38.0    0.526316"
      ]
     },
     "execution_count": 25,
     "metadata": {},
     "output_type": "execute_result"
    }
   ],
   "source": [
    "keyword_df.head()"
   ]
  },
  {
   "cell_type": "code",
   "execution_count": 26,
   "id": "18350ace",
   "metadata": {
    "execution": {
     "iopub.execute_input": "2021-12-05T12:57:07.604248Z",
     "iopub.status.busy": "2021-12-05T12:57:07.603647Z",
     "iopub.status.idle": "2021-12-05T12:57:09.275383Z",
     "shell.execute_reply": "2021-12-05T12:57:09.274872Z",
     "shell.execute_reply.started": "2021-11-19T22:08:49.402682Z"
    },
    "papermill": {
     "duration": 1.728262,
     "end_time": "2021-12-05T12:57:09.275529",
     "exception": false,
     "start_time": "2021-12-05T12:57:07.547267",
     "status": "completed"
    },
    "tags": []
   },
   "outputs": [
    {
     "name": "stdout",
     "output_type": "stream",
     "text": [
      "0.6885245901639344\n"
     ]
    }
   ],
   "source": [
    "print(keyword_df[keyword_df['keyword']==test_df.iloc[0]['keyword']]['% positive'].values[0])\n",
    "new_submission=pd.DataFrame()\n",
    "new_submission['id']=test_df['id']\n",
    "new_submission['target']=test_df.apply(lambda row: int(keyword_df[keyword_df.keyword==row['keyword']]['% positive'].values[0]>=0.5),axis=1)"
   ]
  },
  {
   "cell_type": "code",
   "execution_count": 27,
   "id": "bc8c9bfa",
   "metadata": {
    "execution": {
     "iopub.execute_input": "2021-12-05T12:57:09.389685Z",
     "iopub.status.busy": "2021-12-05T12:57:09.388720Z",
     "iopub.status.idle": "2021-12-05T12:57:09.397354Z",
     "shell.execute_reply": "2021-12-05T12:57:09.397797Z",
     "shell.execute_reply.started": "2021-11-19T22:08:51.314137Z"
    },
    "papermill": {
     "duration": 0.068066,
     "end_time": "2021-12-05T12:57:09.397991",
     "exception": false,
     "start_time": "2021-12-05T12:57:09.329925",
     "status": "completed"
    },
    "tags": []
   },
   "outputs": [],
   "source": [
    "#new_submission.rename({0:'target'},axis=1)\n",
    "new_submission.to_csv('to_submit.csv')"
   ]
  },
  {
   "cell_type": "code",
   "execution_count": 28,
   "id": "62683a4b",
   "metadata": {
    "execution": {
     "iopub.execute_input": "2021-12-05T12:57:09.509905Z",
     "iopub.status.busy": "2021-12-05T12:57:09.509004Z",
     "iopub.status.idle": "2021-12-05T12:57:09.520824Z",
     "shell.execute_reply": "2021-12-05T12:57:09.521250Z",
     "shell.execute_reply.started": "2021-11-19T22:08:51.329669Z"
    },
    "papermill": {
     "duration": 0.069416,
     "end_time": "2021-12-05T12:57:09.521430",
     "exception": false,
     "start_time": "2021-12-05T12:57:09.452014",
     "status": "completed"
    },
    "tags": []
   },
   "outputs": [
    {
     "data": {
      "text/html": [
       "<div>\n",
       "<style scoped>\n",
       "    .dataframe tbody tr th:only-of-type {\n",
       "        vertical-align: middle;\n",
       "    }\n",
       "\n",
       "    .dataframe tbody tr th {\n",
       "        vertical-align: top;\n",
       "    }\n",
       "\n",
       "    .dataframe thead th {\n",
       "        text-align: right;\n",
       "    }\n",
       "</style>\n",
       "<table border=\"1\" class=\"dataframe\">\n",
       "  <thead>\n",
       "    <tr style=\"text-align: right;\">\n",
       "      <th></th>\n",
       "      <th>id</th>\n",
       "      <th>target</th>\n",
       "    </tr>\n",
       "  </thead>\n",
       "  <tbody>\n",
       "    <tr>\n",
       "      <th>0</th>\n",
       "      <td>0</td>\n",
       "      <td>1</td>\n",
       "    </tr>\n",
       "    <tr>\n",
       "      <th>1</th>\n",
       "      <td>2</td>\n",
       "      <td>1</td>\n",
       "    </tr>\n",
       "    <tr>\n",
       "      <th>2</th>\n",
       "      <td>3</td>\n",
       "      <td>1</td>\n",
       "    </tr>\n",
       "    <tr>\n",
       "      <th>3</th>\n",
       "      <td>9</td>\n",
       "      <td>1</td>\n",
       "    </tr>\n",
       "    <tr>\n",
       "      <th>4</th>\n",
       "      <td>11</td>\n",
       "      <td>1</td>\n",
       "    </tr>\n",
       "    <tr>\n",
       "      <th>...</th>\n",
       "      <td>...</td>\n",
       "      <td>...</td>\n",
       "    </tr>\n",
       "    <tr>\n",
       "      <th>3258</th>\n",
       "      <td>10861</td>\n",
       "      <td>1</td>\n",
       "    </tr>\n",
       "    <tr>\n",
       "      <th>3259</th>\n",
       "      <td>10865</td>\n",
       "      <td>1</td>\n",
       "    </tr>\n",
       "    <tr>\n",
       "      <th>3260</th>\n",
       "      <td>10868</td>\n",
       "      <td>1</td>\n",
       "    </tr>\n",
       "    <tr>\n",
       "      <th>3261</th>\n",
       "      <td>10874</td>\n",
       "      <td>1</td>\n",
       "    </tr>\n",
       "    <tr>\n",
       "      <th>3262</th>\n",
       "      <td>10875</td>\n",
       "      <td>1</td>\n",
       "    </tr>\n",
       "  </tbody>\n",
       "</table>\n",
       "<p>3263 rows × 2 columns</p>\n",
       "</div>"
      ],
      "text/plain": [
       "         id  target\n",
       "0         0       1\n",
       "1         2       1\n",
       "2         3       1\n",
       "3         9       1\n",
       "4        11       1\n",
       "...     ...     ...\n",
       "3258  10861       1\n",
       "3259  10865       1\n",
       "3260  10868       1\n",
       "3261  10874       1\n",
       "3262  10875       1\n",
       "\n",
       "[3263 rows x 2 columns]"
      ]
     },
     "execution_count": 28,
     "metadata": {},
     "output_type": "execute_result"
    }
   ],
   "source": [
    "new_submission"
   ]
  },
  {
   "cell_type": "markdown",
   "id": "8db11b78",
   "metadata": {
    "papermill": {
     "duration": 0.054382,
     "end_time": "2021-12-05T12:57:09.631086",
     "exception": false,
     "start_time": "2021-12-05T12:57:09.576704",
     "status": "completed"
    },
    "tags": []
   },
   "source": [
    "<h4>\n",
    "The keyword generated output file got 72% score while the location file got a lower score. The location output file generated a lower score than the keyword. This is expected because the location column contains a lot of null values. <br/>\n",
    "Notice the difference between the sample submission (57%) and the result only using the keyword (72%). This shows the value of the keyword column for this task. It is expected because the keyword is a summary of the tweet using one word.\n",
    "</h4>"
   ]
  },
  {
   "cell_type": "markdown",
   "id": "752323ff",
   "metadata": {
    "papermill": {
     "duration": 0.054269,
     "end_time": "2021-12-05T12:57:09.740001",
     "exception": false,
     "start_time": "2021-12-05T12:57:09.685732",
     "status": "completed"
    },
    "tags": []
   },
   "source": [
    "<h2><b>Visualizations</b></h2>"
   ]
  },
  {
   "cell_type": "code",
   "execution_count": 29,
   "id": "9e3a6ede",
   "metadata": {
    "execution": {
     "iopub.execute_input": "2021-12-05T12:57:09.856797Z",
     "iopub.status.busy": "2021-12-05T12:57:09.855790Z",
     "iopub.status.idle": "2021-12-05T12:57:09.878251Z",
     "shell.execute_reply": "2021-12-05T12:57:09.877591Z",
     "shell.execute_reply.started": "2021-12-05T11:35:10.859643Z"
    },
    "papermill": {
     "duration": 0.083987,
     "end_time": "2021-12-05T12:57:09.878401",
     "exception": false,
     "start_time": "2021-12-05T12:57:09.794414",
     "status": "completed"
    },
    "tags": []
   },
   "outputs": [],
   "source": [
    "train_ls=list(train_df['text'].str.split(' ').to_numpy())\n",
    "train_outputs=train_df['target'].values\n",
    "\n",
    "assert len(train_ls)==len(train_outputs), 'ERROR'"
   ]
  },
  {
   "cell_type": "code",
   "execution_count": 30,
   "id": "a3ba85cb",
   "metadata": {
    "execution": {
     "iopub.execute_input": "2021-12-05T12:57:10.018252Z",
     "iopub.status.busy": "2021-12-05T12:57:10.013096Z",
     "iopub.status.idle": "2021-12-05T12:57:10.143986Z",
     "shell.execute_reply": "2021-12-05T12:57:10.143460Z",
     "shell.execute_reply.started": "2021-11-19T22:08:51.374562Z"
    },
    "papermill": {
     "duration": 0.210439,
     "end_time": "2021-12-05T12:57:10.144137",
     "exception": false,
     "start_time": "2021-12-05T12:57:09.933698",
     "status": "completed"
    },
    "tags": []
   },
   "outputs": [],
   "source": [
    "Tokenizer=keras.preprocessing.text.Tokenizer(oov_token=0)\n",
    "Tokenizer.fit_on_texts(train_ls)"
   ]
  },
  {
   "cell_type": "code",
   "execution_count": 31,
   "id": "2a10e2d9",
   "metadata": {
    "execution": {
     "iopub.execute_input": "2021-12-05T12:57:10.276435Z",
     "iopub.status.busy": "2021-12-05T12:57:10.275477Z",
     "iopub.status.idle": "2021-12-05T12:57:10.293613Z",
     "shell.execute_reply": "2021-12-05T12:57:10.293018Z",
     "shell.execute_reply.started": "2021-11-19T22:08:51.516923Z"
    },
    "papermill": {
     "duration": 0.09477,
     "end_time": "2021-12-05T12:57:10.293749",
     "exception": false,
     "start_time": "2021-12-05T12:57:10.198979",
     "status": "completed"
    },
    "tags": []
   },
   "outputs": [
    {
     "name": "stdout",
     "output_type": "stream",
     "text": [
      "the: 3194\n",
      "a: 2127\n",
      "in: 1943\n",
      "to: 1932\n",
      "of: 1813\n",
      "and: 1397\n",
      "i: 1325\n",
      "is: 929\n",
      "for: 880\n",
      "on: 832\n",
      ": 770\n",
      "-: 762\n",
      "you: 742\n",
      "my: 667\n",
      "with: 562\n",
      "that: 536\n",
      "at: 531\n",
      "by: 512\n",
      "it: 501\n",
      "this: 460\n",
      "from: 418\n",
      "are: 397\n",
      "be: 396\n",
      "was: 380\n",
      "have: 380\n",
      "like: 340\n",
      "as: 325\n",
      "so: 310\n",
      "just: 309\n",
      "but: 304\n",
      "&amp;: 295\n",
      "up: 292\n",
      "your: 286\n",
      "not: 285\n",
      "me: 270\n",
      "after: 256\n",
      "will: 254\n",
      "has: 247\n",
      "an: 243\n",
      "all: 239\n",
      "out: 238\n",
      "when: 237\n",
      "no: 235\n",
      "i'm: 234\n",
      "if: 232\n",
      "get: 225\n",
      "we: 221\n",
      "new: 215\n",
      "via: 214\n",
      "about: 211\n",
      "fire: 208\n",
      "??: 208\n",
      "more: 200\n",
      "or: 198\n",
      "they: 190\n",
      "been: 190\n",
      "he: 188\n",
      "how: 185\n",
      "what: 180\n",
      "over: 179\n",
      "one: 178\n",
      "now: 176\n",
      "people: 174\n",
      "who: 174\n",
      "it's: 172\n",
      "into: 171\n",
      "don't: 166\n",
      "do: 161\n",
      "can: 157\n",
      "...: 145\n",
      "2: 145\n",
      "|: 142\n",
      "emergency: 140\n",
      "than: 138\n",
      "there: 135\n",
      "some: 128\n",
      "would: 127\n",
      "his: 127\n",
      "still: 126\n",
      "police: 125\n",
      "disaster: 122\n",
      "her: 121\n",
      "body: 118\n",
      "video: 113\n",
      "got: 111\n",
      "burning: 111\n",
      "why: 109\n",
      "suicide: 109\n",
      "had: 108\n",
      "off: 108\n",
      "back: 106\n",
      "were: 106\n",
      "first: 104\n",
      "know: 102\n",
      "see: 100\n",
      "going: 100\n",
      "man: 98\n",
      "97 word are the most common from 28121 which is 0.3449379467302016%\n"
     ]
    }
   ],
   "source": [
    "i=0\n",
    "n_words=len(Tokenizer.word_counts)\n",
    "for word,count in Counter(Tokenizer.word_counts).most_common():\n",
    "    print(f'{word}: {count}')\n",
    "    i+=1\n",
    "    if count<100:\n",
    "        break\n",
    "\n",
    "print(f'{i} word are the most common from {n_words} which is {i/n_words*100}%')"
   ]
  },
  {
   "cell_type": "code",
   "execution_count": 32,
   "id": "201cceb8",
   "metadata": {
    "execution": {
     "iopub.execute_input": "2021-12-05T12:57:10.410345Z",
     "iopub.status.busy": "2021-12-05T12:57:10.409398Z",
     "iopub.status.idle": "2021-12-05T12:57:10.545076Z",
     "shell.execute_reply": "2021-12-05T12:57:10.544419Z",
     "shell.execute_reply.started": "2021-11-19T22:08:51.54707Z"
    },
    "papermill": {
     "duration": 0.196627,
     "end_time": "2021-12-05T12:57:10.545218",
     "exception": false,
     "start_time": "2021-12-05T12:57:10.348591",
     "status": "completed"
    },
    "tags": []
   },
   "outputs": [
    {
     "data": {
      "text/plain": [
       "<AxesSubplot:xlabel='target', ylabel='count'>"
      ]
     },
     "execution_count": 32,
     "metadata": {},
     "output_type": "execute_result"
    },
    {
     "data": {
      "image/png": "[encoded data removed]",
      "text/plain": [
       "<Figure size 432x288 with 1 Axes>"
      ]
     },
     "metadata": {
      "needs_background": "light"
     },
     "output_type": "display_data"
    }
   ],
   "source": [
    "sns.countplot(x='target',data=train_df)"
   ]
  },
  {
   "cell_type": "code",
   "execution_count": 33,
   "id": "3abebcd0",
   "metadata": {
    "execution": {
     "iopub.execute_input": "2021-12-05T12:57:10.661760Z",
     "iopub.status.busy": "2021-12-05T12:57:10.661110Z",
     "iopub.status.idle": "2021-12-05T12:57:10.671403Z",
     "shell.execute_reply": "2021-12-05T12:57:10.670739Z",
     "shell.execute_reply.started": "2021-11-19T22:08:51.696432Z"
    },
    "papermill": {
     "duration": 0.07068,
     "end_time": "2021-12-05T12:57:10.671540",
     "exception": false,
     "start_time": "2021-12-05T12:57:10.600860",
     "status": "completed"
    },
    "tags": []
   },
   "outputs": [
    {
     "name": "stdout",
     "output_type": "stream",
     "text": [
      "the max number of characters in a tweet is 157\n",
      "Thus, the number of word < 157\n"
     ]
    }
   ],
   "source": [
    "max_characters=np.max(train_df['text'].apply(lambda x: len(x)))\n",
    "print(f'the max number of characters in a tweet is {max_characters}\\nThus, the number of word < {max_characters}')"
   ]
  },
  {
   "cell_type": "code",
   "execution_count": 34,
   "id": "7e1f947e",
   "metadata": {
    "execution": {
     "iopub.execute_input": "2021-12-05T12:57:10.798713Z",
     "iopub.status.busy": "2021-12-05T12:57:10.797744Z",
     "iopub.status.idle": "2021-12-05T12:57:10.811853Z",
     "shell.execute_reply": "2021-12-05T12:57:10.812254Z",
     "shell.execute_reply.started": "2021-11-19T22:08:51.710189Z"
    },
    "papermill": {
     "duration": 0.084527,
     "end_time": "2021-12-05T12:57:10.812437",
     "exception": false,
     "start_time": "2021-12-05T12:57:10.727910",
     "status": "completed"
    },
    "tags": []
   },
   "outputs": [
    {
     "data": {
      "text/plain": [
       "list"
      ]
     },
     "execution_count": 34,
     "metadata": {},
     "output_type": "execute_result"
    }
   ],
   "source": [
    "type(Counter(Tokenizer.word_counts).most_common())"
   ]
  },
  {
   "cell_type": "code",
   "execution_count": 35,
   "id": "753bbded",
   "metadata": {
    "execution": {
     "iopub.execute_input": "2021-12-05T12:57:10.929073Z",
     "iopub.status.busy": "2021-12-05T12:57:10.928149Z",
     "iopub.status.idle": "2021-12-05T12:57:12.459203Z",
     "shell.execute_reply": "2021-12-05T12:57:12.459665Z",
     "shell.execute_reply.started": "2021-11-19T22:08:51.739903Z"
    },
    "papermill": {
     "duration": 1.590663,
     "end_time": "2021-12-05T12:57:12.459871",
     "exception": false,
     "start_time": "2021-12-05T12:57:10.869208",
     "status": "completed"
    },
    "tags": []
   },
   "outputs": [
    {
     "data": {
      "image/png": "[encoded data removed]",
      "text/plain": [
       "<Figure size 1080x1440 with 1 Axes>"
      ]
     },
     "metadata": {
      "needs_background": "light"
     },
     "output_type": "display_data"
    }
   ],
   "source": [
    "top_100=Counter(Tokenizer.word_counts).most_common()[:100]\n",
    "\n",
    "x_top_100=[x for x,y in top_100]\n",
    "y_top_100=[y for x,y in top_100]\n",
    "ax=sns.barplot(x=y_top_100,y=x_top_100)\n",
    "ax.figure.set_size_inches(15,20)"
   ]
  },
  {
   "cell_type": "markdown",
   "id": "21b76bbf",
   "metadata": {
    "papermill": {
     "duration": 0.06644,
     "end_time": "2021-12-05T12:57:12.584275",
     "exception": false,
     "start_time": "2021-12-05T12:57:12.517835",
     "status": "completed"
    },
    "tags": []
   },
   "source": [
    "<h4 style='text-align: justify;'>\n",
    "Looking at the top 100 words makes us realized the most used words like 'a' do not give a lot of information if a disaster did occur or not. Actually, only emergency and disaster are word that indicate the possibility of a disaster occuring. Hence, most of the words are stop words that do not give much information about the tweet itself. These words will be removed.\n",
    "</h4>"
   ]
  },
  {
   "cell_type": "code",
   "execution_count": 36,
   "id": "6761d768",
   "metadata": {
    "execution": {
     "iopub.execute_input": "2021-12-05T12:57:12.745436Z",
     "iopub.status.busy": "2021-12-05T12:57:12.744580Z",
     "iopub.status.idle": "2021-12-05T12:57:14.841436Z",
     "shell.execute_reply": "2021-12-05T12:57:14.841967Z",
     "shell.execute_reply.started": "2021-11-19T22:08:53.48192Z"
    },
    "papermill": {
     "duration": 2.186535,
     "end_time": "2021-12-05T12:57:14.842149",
     "exception": false,
     "start_time": "2021-12-05T12:57:12.655614",
     "status": "completed"
    },
    "tags": []
   },
   "outputs": [
    {
     "name": "stderr",
     "output_type": "stream",
     "text": [
      "/opt/conda/lib/python3.7/site-packages/matplotlib/backends/backend_agg.py:240: RuntimeWarning: Glyph 137 missing from current font.\n",
      "  font.set_text(s, 0.0, flags=flags)\n",
      "/opt/conda/lib/python3.7/site-packages/matplotlib/backends/backend_agg.py:203: RuntimeWarning: Glyph 137 missing from current font.\n",
      "  font.set_text(s, 0, flags=flags)\n"
     ]
    },
    {
     "data": {
      "image/png": "[encoded data removed]",
      "text/plain": [
       "<Figure size 1080x1440 with 1 Axes>"
      ]
     },
     "metadata": {
      "needs_background": "light"
     },
     "output_type": "display_data"
    }
   ],
   "source": [
    "bottom_100=Counter(Tokenizer.word_counts).most_common()[-100:]\n",
    "\n",
    "x_bottom_100=[x for x,y in bottom_100]\n",
    "y_bottom_100=[y for x,y in bottom_100]\n",
    "\n",
    "#Horizontal barplot\n",
    "ax=sns.barplot(x=y_bottom_100,y=x_bottom_100)\n",
    "ax.figure.set_size_inches(15,20)"
   ]
  },
  {
   "cell_type": "markdown",
   "id": "aa569cc8",
   "metadata": {
    "papermill": {
     "duration": 0.060485,
     "end_time": "2021-12-05T12:57:14.964985",
     "exception": false,
     "start_time": "2021-12-05T12:57:14.904500",
     "status": "completed"
    },
    "tags": []
   },
   "source": [
    "<h4>\n",
    "The bottom 100 words are all links. I do not think that the presence of a link means a disater happened. I do not expect that a disaster happened if someone tweeted 'check this link http:...'. If there was a link or a radio source that only give information about disasters. Hence, the links will be removed too.\n",
    "</h4>"
   ]
  },
  {
   "cell_type": "markdown",
   "id": "15c5c208",
   "metadata": {
    "papermill": {
     "duration": 0.061562,
     "end_time": "2021-12-05T12:57:15.088167",
     "exception": false,
     "start_time": "2021-12-05T12:57:15.026605",
     "status": "completed"
    },
    "tags": []
   },
   "source": [
    "<h4>\n",
    "    <b>Relation beteen words and disaster:</b><br/><br/>\n",
    "    Now let us see the probability of positive knowing the word. I ill create a dictionary with keys as words and values as a tuple (total_occurances, positive_occurances,disaster_probability).<br/><br/>\n",
    "    total_occurances: The number of times the word appears.<br/>\n",
    "    positive_occurances: The number of times the word occurs in a positive sentence.\n",
    "    <br/>\n",
    "    <br/>\n",
    "    Afterwards, we can approximate the probability of disaster knowing word gy dividing positive_occurances by total_occurances. This may look useless, but the model may learn to classify sentences as disasters by just checking the occurance of certain words. That is why it is good to know this metric.\n",
    "</h4>"
   ]
  },
  {
   "cell_type": "code",
   "execution_count": 37,
   "id": "44784c79",
   "metadata": {
    "execution": {
     "iopub.execute_input": "2021-12-05T12:57:15.223686Z",
     "iopub.status.busy": "2021-12-05T12:57:15.222680Z",
     "iopub.status.idle": "2021-12-05T12:57:15.752474Z",
     "shell.execute_reply": "2021-12-05T12:57:15.753020Z",
     "shell.execute_reply.started": "2021-12-05T12:32:17.620291Z"
    },
    "papermill": {
     "duration": 0.602952,
     "end_time": "2021-12-05T12:57:15.753200",
     "exception": false,
     "start_time": "2021-12-05T12:57:15.150248",
     "status": "completed"
    },
    "tags": []
   },
   "outputs": [],
   "source": [
    "word_occurances={}\n",
    "word_occurances_no_stopwords={}\n",
    "\n",
    "for i in range(len(train_ls)):\n",
    "    sentence=train_ls[i]\n",
    "    output=train_outputs[i]\n",
    "    \n",
    "    sentence=list(filter(lambda a: a != '', sentence))\n",
    "    \n",
    "    #Get the unique set of words. If a word appeare more than one in a sentence, I do not want to count it\n",
    "    unique_words=set(sentence)\n",
    "    \n",
    "    for word in unique_words:\n",
    "        word_lower=word.lower()#convert to lower\n",
    "        #get the values from dictionary of present, else return them as (0,0)\n",
    "        total_number,positive_number=word_occurances.get(word_lower,(0,0))\n",
    "        \n",
    "        #remove non alphanumeric words\n",
    "        word_lower=re.sub(r'[^a-zA-Z0-9 ]', '', word_lower)\n",
    "        \n",
    "        total_number+=1#increment total_number\n",
    "        # If output is 1, then increment positive_number \n",
    "        if output==1:\n",
    "            positive_number+=1\n",
    "        \n",
    "        #update the dictionaries\n",
    "        word_occurances[word_lower]=(total_number,positive_number)\n",
    "        if (word_lower not in stop) and ('http' not in word_lower):\n",
    "            word_occurances_no_stopwords[word_lower]=(total_number,positive_number)"
   ]
  },
  {
   "cell_type": "code",
   "execution_count": 38,
   "id": "97fd3d6a",
   "metadata": {
    "execution": {
     "iopub.execute_input": "2021-12-05T12:57:15.881469Z",
     "iopub.status.busy": "2021-12-05T12:57:15.880475Z",
     "iopub.status.idle": "2021-12-05T12:57:15.894036Z",
     "shell.execute_reply": "2021-12-05T12:57:15.894541Z",
     "shell.execute_reply.started": "2021-12-05T12:35:49.357295Z"
    },
    "papermill": {
     "duration": 0.080109,
     "end_time": "2021-12-05T12:57:15.894717",
     "exception": false,
     "start_time": "2021-12-05T12:57:15.814608",
     "status": "completed"
    },
    "tags": []
   },
   "outputs": [],
   "source": [
    "#Generate new dictonaries with key as word and value as the probability\n",
    "#Let us take the values that occured between 20 and 100.\n",
    "#If a word appeared just once and it is a disaster, it is difficult to say that the word indictes a disaster.\n",
    "#Feel free to change the boundaries and test them.\n",
    "disaster_prob={key:(value[1]/value[0]) for key,value in word_occurances.items() if value[0]>20 and value[0]<100}\n",
    "disaster_prob_no_stopwords={key:(value[1]/value[0]) for key,value in word_occurances_no_stopwords.items() if value[0]>20 and value[0]<100}"
   ]
  },
  {
   "cell_type": "code",
   "execution_count": 39,
   "id": "dbb0d494",
   "metadata": {
    "execution": {
     "iopub.execute_input": "2021-12-05T12:57:16.022343Z",
     "iopub.status.busy": "2021-12-05T12:57:16.021360Z",
     "iopub.status.idle": "2021-12-05T12:57:16.027949Z",
     "shell.execute_reply": "2021-12-05T12:57:16.028488Z",
     "shell.execute_reply.started": "2021-12-05T12:35:50.450408Z"
    },
    "papermill": {
     "duration": 0.072273,
     "end_time": "2021-12-05T12:57:16.028653",
     "exception": false,
     "start_time": "2021-12-05T12:57:15.956380",
     "status": "completed"
    },
    "tags": []
   },
   "outputs": [
    {
     "name": "stdout",
     "output_type": "stream",
     "text": [
      "length of the dictionary: 194\n",
      "words with probability<1: 179\n"
     ]
    }
   ],
   "source": [
    "print('length of the dictionary:',len(disaster_prob))\n",
    "print('words with probability<1:',len([key for key,value in disaster_prob.items() if value !=1]))"
   ]
  },
  {
   "cell_type": "code",
   "execution_count": 40,
   "id": "7afa2ce9",
   "metadata": {
    "execution": {
     "iopub.execute_input": "2021-12-05T12:57:16.158536Z",
     "iopub.status.busy": "2021-12-05T12:57:16.157930Z",
     "iopub.status.idle": "2021-12-05T12:57:18.112389Z",
     "shell.execute_reply": "2021-12-05T12:57:18.112839Z",
     "shell.execute_reply.started": "2021-12-05T12:35:55.402962Z"
    },
    "papermill": {
     "duration": 2.023306,
     "end_time": "2021-12-05T12:57:18.113006",
     "exception": false,
     "start_time": "2021-12-05T12:57:16.089700",
     "status": "completed"
    },
    "tags": []
   },
   "outputs": [
    {
     "data": {
      "image/png": "[encoded data removed]",
      "text/plain": [
       "<Figure size 1080x1440 with 1 Axes>"
      ]
     },
     "metadata": {
      "needs_background": "light"
     },
     "output_type": "display_data"
    }
   ],
   "source": [
    "top_100=Counter(disaster_prob).most_common()[:100]\n",
    "\n",
    "x_top_100,y_top_100=zip(*top_100)\n",
    "ax=sns.barplot(x=list(y_top_100),y=list(x_top_100))\n",
    "ax.figure.set_size_inches(15,20)"
   ]
  },
  {
   "cell_type": "code",
   "execution_count": 41,
   "id": "70df1ae7",
   "metadata": {
    "execution": {
     "iopub.execute_input": "2021-12-05T12:57:18.244131Z",
     "iopub.status.busy": "2021-12-05T12:57:18.243453Z",
     "iopub.status.idle": "2021-12-05T12:57:19.835321Z",
     "shell.execute_reply": "2021-12-05T12:57:19.835800Z",
     "shell.execute_reply.started": "2021-12-05T12:40:29.760492Z"
    },
    "papermill": {
     "duration": 1.659066,
     "end_time": "2021-12-05T12:57:19.835969",
     "exception": false,
     "start_time": "2021-12-05T12:57:18.176903",
     "status": "completed"
    },
    "tags": []
   },
   "outputs": [
    {
     "data": {
      "image/png": "[encoded data removed]",
      "text/plain": [
       "<Figure size 1080x1440 with 1 Axes>"
      ]
     },
     "metadata": {
      "needs_background": "light"
     },
     "output_type": "display_data"
    }
   ],
   "source": [
    "bottom_100=Counter(disaster_prob).most_common()[-100:]\n",
    "\n",
    "x_bottom_100,y_bottom_100=zip(*bottom_100)\n",
    "ax=sns.barplot(x=list(y_bottom_100),y=list(x_bottom_100))\n",
    "ax.figure.set_size_inches(15,20)"
   ]
  },
  {
   "cell_type": "code",
   "execution_count": 42,
   "id": "a460d659",
   "metadata": {
    "execution": {
     "iopub.execute_input": "2021-12-05T12:57:19.973048Z",
     "iopub.status.busy": "2021-12-05T12:57:19.972400Z",
     "iopub.status.idle": "2021-12-05T12:57:19.974958Z",
     "shell.execute_reply": "2021-12-05T12:57:19.975614Z",
     "shell.execute_reply.started": "2021-12-05T12:37:01.596552Z"
    },
    "papermill": {
     "duration": 0.074367,
     "end_time": "2021-12-05T12:57:19.975863",
     "exception": false,
     "start_time": "2021-12-05T12:57:19.901496",
     "status": "completed"
    },
    "tags": []
   },
   "outputs": [
    {
     "name": "stdout",
     "output_type": "stream",
     "text": [
      "length of the dictionary 151\n",
      "words with probability<1 136\n"
     ]
    }
   ],
   "source": [
    "print('length of the dictionary',len(disaster_prob_no_stopwords))\n",
    "print('words with probability<1',len([key for key,value in disaster_prob_no_stopwords.items() if value !=1]))"
   ]
  },
  {
   "cell_type": "code",
   "execution_count": 43,
   "id": "75460962",
   "metadata": {
    "execution": {
     "iopub.execute_input": "2021-12-05T12:57:20.113866Z",
     "iopub.status.busy": "2021-12-05T12:57:20.113231Z",
     "iopub.status.idle": "2021-12-05T12:57:21.787687Z",
     "shell.execute_reply": "2021-12-05T12:57:21.787041Z",
     "shell.execute_reply.started": "2021-12-05T12:41:35.683952Z"
    },
    "papermill": {
     "duration": 1.743084,
     "end_time": "2021-12-05T12:57:21.787853",
     "exception": false,
     "start_time": "2021-12-05T12:57:20.044769",
     "status": "completed"
    },
    "tags": []
   },
   "outputs": [
    {
     "data": {
      "image/png": "[encoded data removed]",
      "text/plain": [
       "<Figure size 1080x1440 with 1 Axes>"
      ]
     },
     "metadata": {
      "needs_background": "light"
     },
     "output_type": "display_data"
    }
   ],
   "source": [
    "top_100=Counter(disaster_prob_no_stopwords).most_common()[:100]\n",
    "\n",
    "x_top_100,y_top_100=zip(*top_100)\n",
    "ax=sns.barplot(x=list(y_top_100),y=list(x_top_100))\n",
    "ax.figure.set_size_inches(15,20)"
   ]
  },
  {
   "cell_type": "code",
   "execution_count": 44,
   "id": "49755c98",
   "metadata": {
    "execution": {
     "iopub.execute_input": "2021-12-05T12:57:21.930058Z",
     "iopub.status.busy": "2021-12-05T12:57:21.929380Z",
     "iopub.status.idle": "2021-12-05T12:57:23.693539Z",
     "shell.execute_reply": "2021-12-05T12:57:23.691740Z",
     "shell.execute_reply.started": "2021-12-05T12:41:59.396111Z"
    },
    "papermill": {
     "duration": 1.838205,
     "end_time": "2021-12-05T12:57:23.693734",
     "exception": false,
     "start_time": "2021-12-05T12:57:21.855529",
     "status": "completed"
    },
    "tags": []
   },
   "outputs": [
    {
     "data": {
      "image/png": "[encoded data removed]",
      "text/plain": [
       "<Figure size 1080x1440 with 1 Axes>"
      ]
     },
     "metadata": {
      "needs_background": "light"
     },
     "output_type": "display_data"
    }
   ],
   "source": [
    "bottom_100=Counter(disaster_prob_no_stopwords).most_common()[-100:]\n",
    "\n",
    "x_bottom_100,y_bottom_100=zip(*bottom_100)\n",
    "ax=sns.barplot(x=list(y_bottom_100),y=list(x_bottom_100))\n",
    "ax.figure.set_size_inches(15,20)"
   ]
  },
  {
   "cell_type": "markdown",
   "id": "585aa42a",
   "metadata": {
    "papermill": {
     "duration": 0.0719,
     "end_time": "2021-12-05T12:57:23.838213",
     "exception": false,
     "start_time": "2021-12-05T12:57:23.766313",
     "status": "completed"
    },
    "tags": []
   },
   "source": [
    "<h2><b>Process Tweets</b></h2>\n",
    "\n",
    "<h4>\n",
    "The tweets are processed using the nltk library.\n",
    "</h4>"
   ]
  },
  {
   "cell_type": "code",
   "execution_count": 45,
   "id": "9c047b38",
   "metadata": {
    "execution": {
     "iopub.execute_input": "2021-12-05T12:57:23.982649Z",
     "iopub.status.busy": "2021-12-05T12:57:23.981681Z",
     "iopub.status.idle": "2021-12-05T12:57:23.986358Z",
     "shell.execute_reply": "2021-12-05T12:57:23.986884Z",
     "shell.execute_reply.started": "2021-11-19T22:08:55.76922Z"
    },
    "papermill": {
     "duration": 0.077963,
     "end_time": "2021-12-05T12:57:23.987060",
     "exception": false,
     "start_time": "2021-12-05T12:57:23.909097",
     "status": "completed"
    },
    "tags": []
   },
   "outputs": [],
   "source": [
    "from nltk.corpus import stopwords\n",
    "from nltk.stem.porter import PorterStemmer\n",
    "from nltk.tokenize import RegexpTokenizer\n",
    "import string\n",
    "import re"
   ]
  },
  {
   "cell_type": "code",
   "execution_count": 46,
   "id": "538294ba",
   "metadata": {
    "execution": {
     "iopub.execute_input": "2021-12-05T12:57:24.132224Z",
     "iopub.status.busy": "2021-12-05T12:57:24.131305Z",
     "iopub.status.idle": "2021-12-05T12:57:24.135765Z",
     "shell.execute_reply": "2021-12-05T12:57:24.136357Z",
     "shell.execute_reply.started": "2021-11-19T22:08:55.775791Z"
    },
    "papermill": {
     "duration": 0.078117,
     "end_time": "2021-12-05T12:57:24.136525",
     "exception": false,
     "start_time": "2021-12-05T12:57:24.058408",
     "status": "completed"
    },
    "tags": []
   },
   "outputs": [],
   "source": [
    "stop=stopwords.words('english')\n",
    "\n",
    "# for i in stop:\n",
    "#     print(i)"
   ]
  },
  {
   "cell_type": "code",
   "execution_count": 47,
   "id": "517aa10d",
   "metadata": {
    "execution": {
     "iopub.execute_input": "2021-12-05T12:57:24.278581Z",
     "iopub.status.busy": "2021-12-05T12:57:24.277644Z",
     "iopub.status.idle": "2021-12-05T12:57:24.300823Z",
     "shell.execute_reply": "2021-12-05T12:57:24.301308Z",
     "shell.execute_reply.started": "2021-11-19T22:08:55.793764Z"
    },
    "papermill": {
     "duration": 0.095721,
     "end_time": "2021-12-05T12:57:24.301487",
     "exception": false,
     "start_time": "2021-12-05T12:57:24.205766",
     "status": "completed"
    },
    "tags": []
   },
   "outputs": [
    {
     "data": {
      "text/html": [
       "<div>\n",
       "<style scoped>\n",
       "    .dataframe tbody tr th:only-of-type {\n",
       "        vertical-align: middle;\n",
       "    }\n",
       "\n",
       "    .dataframe tbody tr th {\n",
       "        vertical-align: top;\n",
       "    }\n",
       "\n",
       "    .dataframe thead th {\n",
       "        text-align: right;\n",
       "    }\n",
       "</style>\n",
       "<table border=\"1\" class=\"dataframe\">\n",
       "  <thead>\n",
       "    <tr style=\"text-align: right;\">\n",
       "      <th></th>\n",
       "      <th>id</th>\n",
       "      <th>keyword</th>\n",
       "      <th>location</th>\n",
       "      <th>text</th>\n",
       "      <th>target</th>\n",
       "      <th>trainable</th>\n",
       "    </tr>\n",
       "  </thead>\n",
       "  <tbody>\n",
       "    <tr>\n",
       "      <th>0</th>\n",
       "      <td>1</td>\n",
       "      <td>NaN</td>\n",
       "      <td>NaN</td>\n",
       "      <td>Our Deeds are the Reason of this #earthquake M...</td>\n",
       "      <td>1.0</td>\n",
       "      <td>1</td>\n",
       "    </tr>\n",
       "    <tr>\n",
       "      <th>1</th>\n",
       "      <td>4</td>\n",
       "      <td>NaN</td>\n",
       "      <td>NaN</td>\n",
       "      <td>Forest fire near La Ronge Sask. Canada</td>\n",
       "      <td>1.0</td>\n",
       "      <td>1</td>\n",
       "    </tr>\n",
       "    <tr>\n",
       "      <th>2</th>\n",
       "      <td>5</td>\n",
       "      <td>NaN</td>\n",
       "      <td>NaN</td>\n",
       "      <td>All residents asked to 'shelter in place' are ...</td>\n",
       "      <td>1.0</td>\n",
       "      <td>1</td>\n",
       "    </tr>\n",
       "    <tr>\n",
       "      <th>3</th>\n",
       "      <td>6</td>\n",
       "      <td>NaN</td>\n",
       "      <td>NaN</td>\n",
       "      <td>13,000 people receive #wildfires evacuation or...</td>\n",
       "      <td>1.0</td>\n",
       "      <td>1</td>\n",
       "    </tr>\n",
       "    <tr>\n",
       "      <th>4</th>\n",
       "      <td>7</td>\n",
       "      <td>NaN</td>\n",
       "      <td>NaN</td>\n",
       "      <td>Just got sent this photo from Ruby #Alaska as ...</td>\n",
       "      <td>1.0</td>\n",
       "      <td>1</td>\n",
       "    </tr>\n",
       "    <tr>\n",
       "      <th>...</th>\n",
       "      <td>...</td>\n",
       "      <td>...</td>\n",
       "      <td>...</td>\n",
       "      <td>...</td>\n",
       "      <td>...</td>\n",
       "      <td>...</td>\n",
       "    </tr>\n",
       "    <tr>\n",
       "      <th>3258</th>\n",
       "      <td>10861</td>\n",
       "      <td>unk</td>\n",
       "      <td>NaN</td>\n",
       "      <td>EARTHQUAKE SAFETY LOS ANGELES ÛÒ SAFETY FASTE...</td>\n",
       "      <td>NaN</td>\n",
       "      <td>0</td>\n",
       "    </tr>\n",
       "    <tr>\n",
       "      <th>3259</th>\n",
       "      <td>10865</td>\n",
       "      <td>unk</td>\n",
       "      <td>NaN</td>\n",
       "      <td>Storm in RI worse than last hurricane. My city...</td>\n",
       "      <td>NaN</td>\n",
       "      <td>0</td>\n",
       "    </tr>\n",
       "    <tr>\n",
       "      <th>3260</th>\n",
       "      <td>10868</td>\n",
       "      <td>unk</td>\n",
       "      <td>NaN</td>\n",
       "      <td>Green Line derailment in Chicago http://t.co/U...</td>\n",
       "      <td>NaN</td>\n",
       "      <td>0</td>\n",
       "    </tr>\n",
       "    <tr>\n",
       "      <th>3261</th>\n",
       "      <td>10874</td>\n",
       "      <td>unk</td>\n",
       "      <td>NaN</td>\n",
       "      <td>MEG issues Hazardous Weather Outlook (HWO) htt...</td>\n",
       "      <td>NaN</td>\n",
       "      <td>0</td>\n",
       "    </tr>\n",
       "    <tr>\n",
       "      <th>3262</th>\n",
       "      <td>10875</td>\n",
       "      <td>unk</td>\n",
       "      <td>NaN</td>\n",
       "      <td>#CityofCalgary has activated its Municipal Eme...</td>\n",
       "      <td>NaN</td>\n",
       "      <td>0</td>\n",
       "    </tr>\n",
       "  </tbody>\n",
       "</table>\n",
       "<p>10876 rows × 6 columns</p>\n",
       "</div>"
      ],
      "text/plain": [
       "         id keyword location  \\\n",
       "0         1     NaN      NaN   \n",
       "1         4     NaN      NaN   \n",
       "2         5     NaN      NaN   \n",
       "3         6     NaN      NaN   \n",
       "4         7     NaN      NaN   \n",
       "...     ...     ...      ...   \n",
       "3258  10861     unk      NaN   \n",
       "3259  10865     unk      NaN   \n",
       "3260  10868     unk      NaN   \n",
       "3261  10874     unk      NaN   \n",
       "3262  10875     unk      NaN   \n",
       "\n",
       "                                                   text  target  trainable  \n",
       "0     Our Deeds are the Reason of this #earthquake M...     1.0          1  \n",
       "1                Forest fire near La Ronge Sask. Canada     1.0          1  \n",
       "2     All residents asked to 'shelter in place' are ...     1.0          1  \n",
       "3     13,000 people receive #wildfires evacuation or...     1.0          1  \n",
       "4     Just got sent this photo from Ruby #Alaska as ...     1.0          1  \n",
       "...                                                 ...     ...        ...  \n",
       "3258  EARTHQUAKE SAFETY LOS ANGELES ÛÒ SAFETY FASTE...     NaN          0  \n",
       "3259  Storm in RI worse than last hurricane. My city...     NaN          0  \n",
       "3260  Green Line derailment in Chicago http://t.co/U...     NaN          0  \n",
       "3261  MEG issues Hazardous Weather Outlook (HWO) htt...     NaN          0  \n",
       "3262  #CityofCalgary has activated its Municipal Eme...     NaN          0  \n",
       "\n",
       "[10876 rows x 6 columns]"
      ]
     },
     "execution_count": 47,
     "metadata": {},
     "output_type": "execute_result"
    }
   ],
   "source": [
    "total_df=pd.DataFrame()\n",
    "\n",
    "train_df['trainable']=1\n",
    "test_df['trainable']=0\n",
    "\n",
    "total_df=pd.concat((train_df,test_df))\n",
    "total_df"
   ]
  },
  {
   "cell_type": "code",
   "execution_count": 48,
   "id": "2797e544",
   "metadata": {
    "execution": {
     "iopub.execute_input": "2021-12-05T12:57:24.446849Z",
     "iopub.status.busy": "2021-12-05T12:57:24.446217Z",
     "iopub.status.idle": "2021-12-05T12:57:24.449233Z",
     "shell.execute_reply": "2021-12-05T12:57:24.448730Z",
     "shell.execute_reply.started": "2021-11-19T22:08:55.820955Z"
    },
    "papermill": {
     "duration": 0.077992,
     "end_time": "2021-12-05T12:57:24.449367",
     "exception": false,
     "start_time": "2021-12-05T12:57:24.371375",
     "status": "completed"
    },
    "tags": []
   },
   "outputs": [],
   "source": [
    "train_ls_tmp=[]\n",
    "stemmer= PorterStemmer()"
   ]
  },
  {
   "cell_type": "code",
   "execution_count": 49,
   "id": "1c5fc67d",
   "metadata": {
    "execution": {
     "iopub.execute_input": "2021-12-05T12:57:24.592959Z",
     "iopub.status.busy": "2021-12-05T12:57:24.592367Z",
     "iopub.status.idle": "2021-12-05T12:57:24.596142Z",
     "shell.execute_reply": "2021-12-05T12:57:24.596693Z",
     "shell.execute_reply.started": "2021-11-19T22:08:55.827392Z"
    },
    "papermill": {
     "duration": 0.077372,
     "end_time": "2021-12-05T12:57:24.596874",
     "exception": false,
     "start_time": "2021-12-05T12:57:24.519502",
     "status": "completed"
    },
    "tags": []
   },
   "outputs": [],
   "source": [
    "def get_stem(word:str,stemmer):\n",
    "    '''\n",
    "    Get the stem of the word\n",
    "    '''\n",
    "    return stemmer.stem(word)"
   ]
  },
  {
   "cell_type": "code",
   "execution_count": 50,
   "id": "9fc134a4",
   "metadata": {
    "execution": {
     "iopub.execute_input": "2021-12-05T12:57:24.742062Z",
     "iopub.status.busy": "2021-12-05T12:57:24.741457Z",
     "iopub.status.idle": "2021-12-05T12:57:24.752318Z",
     "shell.execute_reply": "2021-12-05T12:57:24.752819Z",
     "shell.execute_reply.started": "2021-11-19T22:08:55.839514Z"
    },
    "papermill": {
     "duration": 0.084552,
     "end_time": "2021-12-05T12:57:24.752987",
     "exception": false,
     "start_time": "2021-12-05T12:57:24.668435",
     "status": "completed"
    },
    "tags": []
   },
   "outputs": [
    {
     "data": {
      "text/plain": [
       "'hey yann going interesting would love hear'"
      ]
     },
     "execution_count": 50,
     "metadata": {},
     "output_type": "execute_result"
    }
   ],
   "source": [
    "def preprocess_sentence(text,stemmer):\n",
    "    new_sentence=[]\n",
    "    \n",
    "    text = text.replace(r\"won't \", \"will not \")\n",
    "    text = text.replace(r\"can't \", \"can not \")\n",
    "    text = text.replace(r\"ain't \", \"am not \")\n",
    "    \n",
    "    text = text.replace(r\"n't \", \" not \")\n",
    "    text = text.replace(r\"'re \", \" are \")\n",
    "    text = text.replace(r\"'s \", \" is \")\n",
    "    text = text.replace(r\"'d \", \" would \")\n",
    "    text = text.replace(r\"'ll \", \" will \")\n",
    "    text = text.replace(r\"'t \", \" not \")\n",
    "    text = text.replace(r\"'ve \", \" have \")\n",
    "    text = text.replace(r\"'m \", \" am \")\n",
    "    \n",
    "    text = text.translate(str.maketrans('','',string.punctuation))\n",
    "    \n",
    "    text=re.sub(r'[^a-zA-Z0-9 ]', '', text)\n",
    "    #print(text)\n",
    "    sentence=text.split(' ')\n",
    "    \n",
    "    #remove words that are not in english\n",
    "    sentence=list(filter(lambda a: a != '', sentence))\n",
    "    \n",
    "    for word in sentence:\n",
    "        #word=stemmer.stem(word)\n",
    "        word_lower=word.lower()\n",
    "        if (word_lower not in stop) and ('http' not in word_lower):# and ():\n",
    "            new_sentence.append(word_lower)\n",
    "    \n",
    "    return ' '.join(new_sentence)\n",
    "\n",
    "preprocess_sentence(\"Hey I'm Yann, ° Ñ  how're you and how's it going ? That's interesting: I'd love to hear more about it. http:idk.com\",stemmer)"
   ]
  },
  {
   "cell_type": "code",
   "execution_count": 51,
   "id": "ae664999",
   "metadata": {
    "execution": {
     "iopub.execute_input": "2021-12-05T12:57:24.897348Z",
     "iopub.status.busy": "2021-12-05T12:57:24.896703Z",
     "iopub.status.idle": "2021-12-05T12:57:25.397708Z",
     "shell.execute_reply": "2021-12-05T12:57:25.398188Z",
     "shell.execute_reply.started": "2021-11-19T22:08:55.855702Z"
    },
    "papermill": {
     "duration": 0.575429,
     "end_time": "2021-12-05T12:57:25.398447",
     "exception": false,
     "start_time": "2021-12-05T12:57:24.823018",
     "status": "completed"
    },
    "tags": []
   },
   "outputs": [
    {
     "data": {
      "text/html": [
       "<div>\n",
       "<style scoped>\n",
       "    .dataframe tbody tr th:only-of-type {\n",
       "        vertical-align: middle;\n",
       "    }\n",
       "\n",
       "    .dataframe tbody tr th {\n",
       "        vertical-align: top;\n",
       "    }\n",
       "\n",
       "    .dataframe thead th {\n",
       "        text-align: right;\n",
       "    }\n",
       "</style>\n",
       "<table border=\"1\" class=\"dataframe\">\n",
       "  <thead>\n",
       "    <tr style=\"text-align: right;\">\n",
       "      <th></th>\n",
       "      <th>id</th>\n",
       "      <th>keyword</th>\n",
       "      <th>location</th>\n",
       "      <th>text</th>\n",
       "      <th>target</th>\n",
       "      <th>trainable</th>\n",
       "      <th>preprocessed_text</th>\n",
       "    </tr>\n",
       "  </thead>\n",
       "  <tbody>\n",
       "    <tr>\n",
       "      <th>0</th>\n",
       "      <td>1</td>\n",
       "      <td>NaN</td>\n",
       "      <td>NaN</td>\n",
       "      <td>Our Deeds are the Reason of this #earthquake M...</td>\n",
       "      <td>1.0</td>\n",
       "      <td>1</td>\n",
       "      <td>deeds reason earthquake may allah forgive us</td>\n",
       "    </tr>\n",
       "    <tr>\n",
       "      <th>1</th>\n",
       "      <td>4</td>\n",
       "      <td>NaN</td>\n",
       "      <td>NaN</td>\n",
       "      <td>Forest fire near La Ronge Sask. Canada</td>\n",
       "      <td>1.0</td>\n",
       "      <td>1</td>\n",
       "      <td>forest fire near la ronge sask canada</td>\n",
       "    </tr>\n",
       "    <tr>\n",
       "      <th>2</th>\n",
       "      <td>5</td>\n",
       "      <td>NaN</td>\n",
       "      <td>NaN</td>\n",
       "      <td>All residents asked to 'shelter in place' are ...</td>\n",
       "      <td>1.0</td>\n",
       "      <td>1</td>\n",
       "      <td>residents asked shelter place notified officer...</td>\n",
       "    </tr>\n",
       "    <tr>\n",
       "      <th>3</th>\n",
       "      <td>6</td>\n",
       "      <td>NaN</td>\n",
       "      <td>NaN</td>\n",
       "      <td>13,000 people receive #wildfires evacuation or...</td>\n",
       "      <td>1.0</td>\n",
       "      <td>1</td>\n",
       "      <td>13000 people receive wildfires evacuation orde...</td>\n",
       "    </tr>\n",
       "    <tr>\n",
       "      <th>4</th>\n",
       "      <td>7</td>\n",
       "      <td>NaN</td>\n",
       "      <td>NaN</td>\n",
       "      <td>Just got sent this photo from Ruby #Alaska as ...</td>\n",
       "      <td>1.0</td>\n",
       "      <td>1</td>\n",
       "      <td>got sent photo ruby alaska smoke wildfires pou...</td>\n",
       "    </tr>\n",
       "  </tbody>\n",
       "</table>\n",
       "</div>"
      ],
      "text/plain": [
       "   id keyword location                                               text  \\\n",
       "0   1     NaN      NaN  Our Deeds are the Reason of this #earthquake M...   \n",
       "1   4     NaN      NaN             Forest fire near La Ronge Sask. Canada   \n",
       "2   5     NaN      NaN  All residents asked to 'shelter in place' are ...   \n",
       "3   6     NaN      NaN  13,000 people receive #wildfires evacuation or...   \n",
       "4   7     NaN      NaN  Just got sent this photo from Ruby #Alaska as ...   \n",
       "\n",
       "   target  trainable                                  preprocessed_text  \n",
       "0     1.0          1       deeds reason earthquake may allah forgive us  \n",
       "1     1.0          1              forest fire near la ronge sask canada  \n",
       "2     1.0          1  residents asked shelter place notified officer...  \n",
       "3     1.0          1  13000 people receive wildfires evacuation orde...  \n",
       "4     1.0          1  got sent photo ruby alaska smoke wildfires pou...  "
      ]
     },
     "execution_count": 51,
     "metadata": {},
     "output_type": "execute_result"
    }
   ],
   "source": [
    "total_df['preprocessed_text']=total_df['text'].apply(lambda text: preprocess_sentence(text,stemmer))\n",
    "total_df.head()"
   ]
  },
  {
   "cell_type": "code",
   "execution_count": 52,
   "id": "6cb9a21e",
   "metadata": {
    "execution": {
     "iopub.execute_input": "2021-12-05T12:57:25.545857Z",
     "iopub.status.busy": "2021-12-05T12:57:25.545245Z",
     "iopub.status.idle": "2021-12-05T12:57:25.617602Z",
     "shell.execute_reply": "2021-12-05T12:57:25.617049Z",
     "shell.execute_reply.started": "2021-11-19T22:08:56.455007Z"
    },
    "papermill": {
     "duration": 0.148313,
     "end_time": "2021-12-05T12:57:25.617758",
     "exception": false,
     "start_time": "2021-12-05T12:57:25.469445",
     "status": "completed"
    },
    "tags": []
   },
   "outputs": [],
   "source": [
    "total_df.to_csv('preprocessed_text.csv')"
   ]
  },
  {
   "cell_type": "markdown",
   "id": "69772e00",
   "metadata": {
    "papermill": {
     "duration": 0.070465,
     "end_time": "2021-12-05T12:57:25.759105",
     "exception": false,
     "start_time": "2021-12-05T12:57:25.688640",
     "status": "completed"
    },
    "tags": []
   },
   "source": [
    "<h1>Conclusion</h1>\n",
    "\n",
    "<h4 style='text-align: justify;'>\n",
    "This notebook started by generating outputs using simple methods from the non-tweet features. The keyword output got 72% accuracy. Afterwards, some plots for visualization were shown. The plot showed the effect of stop words and links. Finally, the text was preprocessed to be used with BERT.\n",
    "</h4>\n",
    "\n",
    "<h4>\n",
    "    <b>\n",
    "        Thank You for reading. I hope it was helpful.\n",
    "    </b>\n",
    "</h4>\n",
    "\n",
    "<h4>\n",
    "    If you wish to see the prediction part, Checkout my BERT notebook <a href='https://www.kaggle.com/fmakarem/disaster-tweets-bert'>Here</a>\n",
    "</h4>"
   ]
  },
  {
   "cell_type": "code",
   "execution_count": null,
   "id": "a227ca55",
   "metadata": {
    "papermill": {
     "duration": 0.070611,
     "end_time": "2021-12-05T12:57:25.900630",
     "exception": false,
     "start_time": "2021-12-05T12:57:25.830019",
     "status": "completed"
    },
    "tags": []
   },
   "outputs": [],
   "source": []
  }
 ],
 "metadata": {
  "kernelspec": {
   "display_name": "Python 3",
   "language": "python",
   "name": "python3"
  },
  "language_info": {
   "codemirror_mode": {
    "name": "ipython",
    "version": 3
   },
   "file_extension": ".py",
   "mimetype": "text/x-python",
   "name": "python",
   "nbconvert_exporter": "python",
   "pygments_lexer": "ipython3",
   "version": "3.7.10"
  },
  "papermill": {
   "default_parameters": {},
   "duration": 223.894991,
   "end_time": "2021-12-05T12:57:28.031398",
   "environment_variables": {},
   "exception": null,
   "input_path": "__notebook__.ipynb",
   "output_path": "__notebook__.ipynb",
   "parameters": {},
   "start_time": "2021-12-05T12:53:44.136407",
   "version": "2.3.3"
  }
 },
 "nbformat": 4,
 "nbformat_minor": 5
}
